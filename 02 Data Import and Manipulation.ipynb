{
 "cells": [
  {
   "cell_type": "markdown",
   "metadata": {},
   "source": [
    "# Introduction\n",
    "\n",
    "In this notes, examples concerning data processing are presented"
   ]
  },
  {
   "cell_type": "markdown",
   "metadata": {},
   "source": [
    "# Read and Write Data Files"
   ]
  },
  {
   "cell_type": "markdown",
   "metadata": {},
   "source": [
    "## CSV Files"
   ]
  },
  {
   "cell_type": "markdown",
   "metadata": {},
   "source": [
    "### Read CSV Files\n",
    "#### The Syntax\n",
    "```\n",
    "read.csv(file, header = TRUE, sep = \",\", quote = \"\\\"\",\n",
    "              dec = \".\", fill = TRUE, comment.char = \"\", ...)\n",
    "```"
   ]
  },
  {
   "cell_type": "markdown",
   "metadata": {},
   "source": [
    "#### Read a CSV File with Default Options\n",
    "* `read.csv` returns a data.frame\n",
    "\n",
    "The comma-separated values (CSV) file used here for demonstration has a content:  \n",
    "```\n",
    "\"\",\"BPchange\",\"Dose\",\"Run\",\"Treatment\",\"Animal\"\n",
    "\"1\",0.5,6.25,\"C1\",\"Control\",\"R1\"\n",
    "\"2\",4.5,12.5,\"C1\",\"Control\",\"R1\"  \n",
    "\"3\",10,25,\"C1\",\"Control\",\"R1\"\n",
    "\"4\",26,50,\"C1\",\"Control\",\"R1\"\n",
    "\"5\",37,100,\"C1\",\"Control\",\"R1\"\n",
    "\"6\",32,200,\"C1\",\"Control\",\"R1\"\n",
    "```"
   ]
  },
  {
   "cell_type": "code",
   "execution_count": 1,
   "metadata": {},
   "outputs": [
    {
     "name": "stdout",
     "output_type": "stream",
     "text": [
      "[1] \"data.frame\"\n"
     ]
    },
    {
     "data": {
      "text/html": [
       "<table>\n",
       "<caption>A data.frame: 6 × 6</caption>\n",
       "<thead>\n",
       "\t<tr><th></th><th scope=col>X</th><th scope=col>BPchange</th><th scope=col>Dose</th><th scope=col>Run</th><th scope=col>Treatment</th><th scope=col>Animal</th></tr>\n",
       "\t<tr><th></th><th scope=col>&lt;int&gt;</th><th scope=col>&lt;dbl&gt;</th><th scope=col>&lt;dbl&gt;</th><th scope=col>&lt;fct&gt;</th><th scope=col>&lt;fct&gt;</th><th scope=col>&lt;fct&gt;</th></tr>\n",
       "</thead>\n",
       "<tbody>\n",
       "\t<tr><th scope=row>1</th><td>1</td><td> 0.5</td><td>  6.25</td><td>C1</td><td>Control</td><td>R1</td></tr>\n",
       "\t<tr><th scope=row>2</th><td>2</td><td> 4.5</td><td> 12.50</td><td>C1</td><td>Control</td><td>R1</td></tr>\n",
       "\t<tr><th scope=row>3</th><td>3</td><td>10.0</td><td> 25.00</td><td>C1</td><td>Control</td><td>R1</td></tr>\n",
       "\t<tr><th scope=row>4</th><td>4</td><td>26.0</td><td> 50.00</td><td>C1</td><td>Control</td><td>R1</td></tr>\n",
       "\t<tr><th scope=row>5</th><td>5</td><td>37.0</td><td>100.00</td><td>C1</td><td>Control</td><td>R1</td></tr>\n",
       "\t<tr><th scope=row>6</th><td>6</td><td>32.0</td><td>200.00</td><td>C1</td><td>Control</td><td>R1</td></tr>\n",
       "</tbody>\n",
       "</table>\n"
      ],
      "text/latex": [
       "A data.frame: 6 × 6\n",
       "\\begin{tabular}{r|llllll}\n",
       "  & X & BPchange & Dose & Run & Treatment & Animal\\\\\n",
       "  & <int> & <dbl> & <dbl> & <fct> & <fct> & <fct>\\\\\n",
       "\\hline\n",
       "\t1 & 1 &  0.5 &   6.25 & C1 & Control & R1\\\\\n",
       "\t2 & 2 &  4.5 &  12.50 & C1 & Control & R1\\\\\n",
       "\t3 & 3 & 10.0 &  25.00 & C1 & Control & R1\\\\\n",
       "\t4 & 4 & 26.0 &  50.00 & C1 & Control & R1\\\\\n",
       "\t5 & 5 & 37.0 & 100.00 & C1 & Control & R1\\\\\n",
       "\t6 & 6 & 32.0 & 200.00 & C1 & Control & R1\\\\\n",
       "\\end{tabular}\n"
      ],
      "text/markdown": [
       "\n",
       "A data.frame: 6 × 6\n",
       "\n",
       "| <!--/--> | X &lt;int&gt; | BPchange &lt;dbl&gt; | Dose &lt;dbl&gt; | Run &lt;fct&gt; | Treatment &lt;fct&gt; | Animal &lt;fct&gt; |\n",
       "|---|---|---|---|---|---|---|\n",
       "| 1 | 1 |  0.5 |   6.25 | C1 | Control | R1 |\n",
       "| 2 | 2 |  4.5 |  12.50 | C1 | Control | R1 |\n",
       "| 3 | 3 | 10.0 |  25.00 | C1 | Control | R1 |\n",
       "| 4 | 4 | 26.0 |  50.00 | C1 | Control | R1 |\n",
       "| 5 | 5 | 37.0 | 100.00 | C1 | Control | R1 |\n",
       "| 6 | 6 | 32.0 | 200.00 | C1 | Control | R1 |\n",
       "\n"
      ],
      "text/plain": [
       "  X BPchange Dose   Run Treatment Animal\n",
       "1 1  0.5       6.25 C1  Control   R1    \n",
       "2 2  4.5      12.50 C1  Control   R1    \n",
       "3 3 10.0      25.00 C1  Control   R1    \n",
       "4 4 26.0      50.00 C1  Control   R1    \n",
       "5 5 37.0     100.00 C1  Control   R1    \n",
       "6 6 32.0     200.00 C1  Control   R1    "
      ]
     },
     "metadata": {},
     "output_type": "display_data"
    }
   ],
   "source": [
    "# Getting data from file \"rabbit.csv\"\n",
    "rabbit_sample <- read.csv(\"datasets/rabbit.csv\")\n",
    "\n",
    "# Print the class of the variable rabbit_sample\n",
    "print(class(rabbit_sample))\n",
    "\n",
    "# Printing first few lines of the dataframe\n",
    "head(rabbit_sample)"
   ]
  },
  {
   "cell_type": "markdown",
   "metadata": {},
   "source": [
    "#### Not Assuming the First Row in the CSV File is Labels\n",
    "* The column labels will be \"V1\", \"V2\", etc..."
   ]
  },
  {
   "cell_type": "code",
   "execution_count": 2,
   "metadata": {
    "scrolled": true
   },
   "outputs": [
    {
     "data": {
      "text/html": [
       "<table>\n",
       "<caption>A data.frame: 6 × 6</caption>\n",
       "<thead>\n",
       "\t<tr><th></th><th scope=col>V1</th><th scope=col>V2</th><th scope=col>V3</th><th scope=col>V4</th><th scope=col>V5</th><th scope=col>V6</th></tr>\n",
       "\t<tr><th></th><th scope=col>&lt;int&gt;</th><th scope=col>&lt;fct&gt;</th><th scope=col>&lt;fct&gt;</th><th scope=col>&lt;fct&gt;</th><th scope=col>&lt;fct&gt;</th><th scope=col>&lt;fct&gt;</th></tr>\n",
       "</thead>\n",
       "<tbody>\n",
       "\t<tr><th scope=row>1</th><td>NA</td><td>BPchange</td><td>Dose</td><td>Run</td><td>Treatment</td><td>Animal</td></tr>\n",
       "\t<tr><th scope=row>2</th><td> 1</td><td>0.5     </td><td>6.25</td><td>C1 </td><td>Control  </td><td>R1    </td></tr>\n",
       "\t<tr><th scope=row>3</th><td> 2</td><td>4.5     </td><td>12.5</td><td>C1 </td><td>Control  </td><td>R1    </td></tr>\n",
       "\t<tr><th scope=row>4</th><td> 3</td><td>10      </td><td>25  </td><td>C1 </td><td>Control  </td><td>R1    </td></tr>\n",
       "\t<tr><th scope=row>5</th><td> 4</td><td>26      </td><td>50  </td><td>C1 </td><td>Control  </td><td>R1    </td></tr>\n",
       "\t<tr><th scope=row>6</th><td> 5</td><td>37      </td><td>100 </td><td>C1 </td><td>Control  </td><td>R1    </td></tr>\n",
       "</tbody>\n",
       "</table>\n"
      ],
      "text/latex": [
       "A data.frame: 6 × 6\n",
       "\\begin{tabular}{r|llllll}\n",
       "  & V1 & V2 & V3 & V4 & V5 & V6\\\\\n",
       "  & <int> & <fct> & <fct> & <fct> & <fct> & <fct>\\\\\n",
       "\\hline\n",
       "\t1 & NA & BPchange & Dose & Run & Treatment & Animal\\\\\n",
       "\t2 &  1 & 0.5      & 6.25 & C1  & Control   & R1    \\\\\n",
       "\t3 &  2 & 4.5      & 12.5 & C1  & Control   & R1    \\\\\n",
       "\t4 &  3 & 10       & 25   & C1  & Control   & R1    \\\\\n",
       "\t5 &  4 & 26       & 50   & C1  & Control   & R1    \\\\\n",
       "\t6 &  5 & 37       & 100  & C1  & Control   & R1    \\\\\n",
       "\\end{tabular}\n"
      ],
      "text/markdown": [
       "\n",
       "A data.frame: 6 × 6\n",
       "\n",
       "| <!--/--> | V1 &lt;int&gt; | V2 &lt;fct&gt; | V3 &lt;fct&gt; | V4 &lt;fct&gt; | V5 &lt;fct&gt; | V6 &lt;fct&gt; |\n",
       "|---|---|---|---|---|---|---|\n",
       "| 1 | NA | BPchange | Dose | Run | Treatment | Animal |\n",
       "| 2 |  1 | 0.5      | 6.25 | C1  | Control   | R1     |\n",
       "| 3 |  2 | 4.5      | 12.5 | C1  | Control   | R1     |\n",
       "| 4 |  3 | 10       | 25   | C1  | Control   | R1     |\n",
       "| 5 |  4 | 26       | 50   | C1  | Control   | R1     |\n",
       "| 6 |  5 | 37       | 100  | C1  | Control   | R1     |\n",
       "\n"
      ],
      "text/plain": [
       "  V1 V2       V3   V4  V5        V6    \n",
       "1 NA BPchange Dose Run Treatment Animal\n",
       "2  1 0.5      6.25 C1  Control   R1    \n",
       "3  2 4.5      12.5 C1  Control   R1    \n",
       "4  3 10       25   C1  Control   R1    \n",
       "5  4 26       50   C1  Control   R1    \n",
       "6  5 37       100  C1  Control   R1    "
      ]
     },
     "metadata": {},
     "output_type": "display_data"
    }
   ],
   "source": [
    "# Getting data from file \"rabbit.csv\"\n",
    "rabbit_sample <- read.csv(\"datasets/rabbit.csv\", header = FALSE)\n",
    "\n",
    "# Printing first few lines of the dataframe\n",
    "head(rabbit_sample)"
   ]
  },
  {
   "cell_type": "markdown",
   "metadata": {},
   "source": [
    "#### Using Custom Column Names\n",
    "* The rule is the same as rows."
   ]
  },
  {
   "cell_type": "code",
   "execution_count": 3,
   "metadata": {
    "scrolled": true
   },
   "outputs": [
    {
     "data": {
      "text/html": [
       "<table>\n",
       "<caption>A data.frame: 6 × 6</caption>\n",
       "<thead>\n",
       "\t<tr><th></th><th scope=col>A</th><th scope=col>B</th><th scope=col>C</th><th scope=col>D</th><th scope=col>E</th><th scope=col>F</th></tr>\n",
       "\t<tr><th></th><th scope=col>&lt;int&gt;</th><th scope=col>&lt;dbl&gt;</th><th scope=col>&lt;dbl&gt;</th><th scope=col>&lt;fct&gt;</th><th scope=col>&lt;fct&gt;</th><th scope=col>&lt;fct&gt;</th></tr>\n",
       "</thead>\n",
       "<tbody>\n",
       "\t<tr><th scope=row>1</th><td>1</td><td> 0.5</td><td>  6.25</td><td>C1</td><td>Control</td><td>R1</td></tr>\n",
       "\t<tr><th scope=row>2</th><td>2</td><td> 4.5</td><td> 12.50</td><td>C1</td><td>Control</td><td>R1</td></tr>\n",
       "\t<tr><th scope=row>3</th><td>3</td><td>10.0</td><td> 25.00</td><td>C1</td><td>Control</td><td>R1</td></tr>\n",
       "\t<tr><th scope=row>4</th><td>4</td><td>26.0</td><td> 50.00</td><td>C1</td><td>Control</td><td>R1</td></tr>\n",
       "\t<tr><th scope=row>5</th><td>5</td><td>37.0</td><td>100.00</td><td>C1</td><td>Control</td><td>R1</td></tr>\n",
       "\t<tr><th scope=row>6</th><td>6</td><td>32.0</td><td>200.00</td><td>C1</td><td>Control</td><td>R1</td></tr>\n",
       "</tbody>\n",
       "</table>\n"
      ],
      "text/latex": [
       "A data.frame: 6 × 6\n",
       "\\begin{tabular}{r|llllll}\n",
       "  & A & B & C & D & E & F\\\\\n",
       "  & <int> & <dbl> & <dbl> & <fct> & <fct> & <fct>\\\\\n",
       "\\hline\n",
       "\t1 & 1 &  0.5 &   6.25 & C1 & Control & R1\\\\\n",
       "\t2 & 2 &  4.5 &  12.50 & C1 & Control & R1\\\\\n",
       "\t3 & 3 & 10.0 &  25.00 & C1 & Control & R1\\\\\n",
       "\t4 & 4 & 26.0 &  50.00 & C1 & Control & R1\\\\\n",
       "\t5 & 5 & 37.0 & 100.00 & C1 & Control & R1\\\\\n",
       "\t6 & 6 & 32.0 & 200.00 & C1 & Control & R1\\\\\n",
       "\\end{tabular}\n"
      ],
      "text/markdown": [
       "\n",
       "A data.frame: 6 × 6\n",
       "\n",
       "| <!--/--> | A &lt;int&gt; | B &lt;dbl&gt; | C &lt;dbl&gt; | D &lt;fct&gt; | E &lt;fct&gt; | F &lt;fct&gt; |\n",
       "|---|---|---|---|---|---|---|\n",
       "| 1 | 1 |  0.5 |   6.25 | C1 | Control | R1 |\n",
       "| 2 | 2 |  4.5 |  12.50 | C1 | Control | R1 |\n",
       "| 3 | 3 | 10.0 |  25.00 | C1 | Control | R1 |\n",
       "| 4 | 4 | 26.0 |  50.00 | C1 | Control | R1 |\n",
       "| 5 | 5 | 37.0 | 100.00 | C1 | Control | R1 |\n",
       "| 6 | 6 | 32.0 | 200.00 | C1 | Control | R1 |\n",
       "\n"
      ],
      "text/plain": [
       "  A B    C      D  E       F \n",
       "1 1  0.5   6.25 C1 Control R1\n",
       "2 2  4.5  12.50 C1 Control R1\n",
       "3 3 10.0  25.00 C1 Control R1\n",
       "4 4 26.0  50.00 C1 Control R1\n",
       "5 5 37.0 100.00 C1 Control R1\n",
       "6 6 32.0 200.00 C1 Control R1"
      ]
     },
     "metadata": {},
     "output_type": "display_data"
    }
   ],
   "source": [
    "# Getting data from file \"rabbit.csv\"\n",
    "rabbit_sample <- read.csv(\"datasets/rabbit.csv\", col.names = c(\"A\", \"B\", \"C\", \"D\", \"E\", \"F\"))\n",
    "\n",
    "# Printing first few lines of the dataframe\n",
    "head(rabbit_sample)"
   ]
  },
  {
   "cell_type": "markdown",
   "metadata": {},
   "source": [
    "### Write CSV Files\n",
    "#### The Syntax\n",
    "```\n",
    "write.csv(x, file = \"\", quote = TRUE, eol = \"\\n\", \n",
    "          na = \"NA\", row.names = TRUE, fileEncoding = \"\")\n",
    "\n",
    "```\n",
    "* A more general implementation is `write.table`. Check `?write.table` for more detail."
   ]
  },
  {
   "cell_type": "markdown",
   "metadata": {},
   "source": [
    "#### Simple Use of `write.csv`"
   ]
  },
  {
   "cell_type": "code",
   "execution_count": 4,
   "metadata": {},
   "outputs": [],
   "source": [
    "# Write the data.frame to \"testing.csv\"\n",
    "write.csv(rabbit_sample, \"datasets/testing.csv\")"
   ]
  },
  {
   "cell_type": "markdown",
   "metadata": {},
   "source": [
    "The file \"testing.csv\" contains:  \n",
    "```\n",
    "\"\",\"A\",\"B\",\"C\",\"D\",\"E\",\"F\"\n",
    "\"1\",1,0.5,6.25,\"C1\",\"Control\",\"R1\"\n",
    "\"2\",2,4.5,12.5,\"C1\",\"Control\",\"R1\"\n",
    "\"3\",3,10,25,\"C1\",\"Control\",\"R1\"\n",
    "\"4\",4,26,50,\"C1\",\"Control\",\"R1\"\n",
    "\"5\",5,37,100,\"C1\",\"Control\",\"R1\"\n",
    "\"6\",6,32,200,\"C1\",\"Control\",\"R1\"\n",
    "```"
   ]
  },
  {
   "cell_type": "markdown",
   "metadata": {},
   "source": [
    "## XLSX Files"
   ]
  },
  {
   "cell_type": "markdown",
   "metadata": {},
   "source": [
    "### Read XLSX Files\n",
    "\n",
    "#### The Syntax\n",
    "\n",
    "```\n",
    "read.xlsx(\n",
    "       file,\n",
    "       sheetIndex,\n",
    "       sheetName = NULL,\n",
    "       rowIndex = NULL,\n",
    "       startRow = NULL,\n",
    "       endRow = NULL,\n",
    "       colIndex = NULL,\n",
    "       as.data.frame = TRUE,\n",
    "       header = TRUE,\n",
    "       colClasses = NA,\n",
    "       keepFormulas = FALSE,\n",
    "       encoding = \"unknown\",\n",
    "       password = NULL,\n",
    "       ...\n",
    ")\n",
    "```\n",
    "Here ... are other arguments to ‘data.frame’, for example ‘stringsAsFactors’"
   ]
  },
  {
   "cell_type": "markdown",
   "metadata": {},
   "source": [
    "#### Read a CSV File with Default Options\n",
    "\n",
    "* `xlsx::read.xlsx` returns a data.frame\n",
    "* The xlsx file used for demonstration contains the following data:"
   ]
  },
  {
   "cell_type": "markdown",
   "metadata": {},
   "source": [
    "![title](img/Fig_02_01.png)"
   ]
  },
  {
   "cell_type": "code",
   "execution_count": 5,
   "metadata": {},
   "outputs": [
    {
     "data": {
      "text/html": [
       "<table>\n",
       "<caption>A data.frame: 6 × 6</caption>\n",
       "<thead>\n",
       "\t<tr><th></th><th scope=col>NA.</th><th scope=col>Sepal.Length</th><th scope=col>Sepal.Width</th><th scope=col>Petal.Length</th><th scope=col>Petal.Width</th><th scope=col>Species</th></tr>\n",
       "\t<tr><th></th><th scope=col>&lt;fct&gt;</th><th scope=col>&lt;dbl&gt;</th><th scope=col>&lt;dbl&gt;</th><th scope=col>&lt;dbl&gt;</th><th scope=col>&lt;dbl&gt;</th><th scope=col>&lt;fct&gt;</th></tr>\n",
       "</thead>\n",
       "<tbody>\n",
       "\t<tr><th scope=row>1</th><td>1</td><td>5.1</td><td>3.5</td><td>1.4</td><td>0.2</td><td>setosa</td></tr>\n",
       "\t<tr><th scope=row>2</th><td>2</td><td>4.9</td><td>3.0</td><td>1.4</td><td>0.2</td><td>setosa</td></tr>\n",
       "\t<tr><th scope=row>3</th><td>3</td><td>4.7</td><td>3.2</td><td>1.3</td><td>0.2</td><td>setosa</td></tr>\n",
       "\t<tr><th scope=row>4</th><td>4</td><td>4.6</td><td>3.1</td><td>1.5</td><td>0.2</td><td>setosa</td></tr>\n",
       "\t<tr><th scope=row>5</th><td>5</td><td>5.0</td><td>3.6</td><td>1.4</td><td>0.2</td><td>setosa</td></tr>\n",
       "\t<tr><th scope=row>6</th><td>6</td><td>5.4</td><td>3.9</td><td>1.7</td><td>0.4</td><td>setosa</td></tr>\n",
       "</tbody>\n",
       "</table>\n"
      ],
      "text/latex": [
       "A data.frame: 6 × 6\n",
       "\\begin{tabular}{r|llllll}\n",
       "  & NA. & Sepal.Length & Sepal.Width & Petal.Length & Petal.Width & Species\\\\\n",
       "  & <fct> & <dbl> & <dbl> & <dbl> & <dbl> & <fct>\\\\\n",
       "\\hline\n",
       "\t1 & 1 & 5.1 & 3.5 & 1.4 & 0.2 & setosa\\\\\n",
       "\t2 & 2 & 4.9 & 3.0 & 1.4 & 0.2 & setosa\\\\\n",
       "\t3 & 3 & 4.7 & 3.2 & 1.3 & 0.2 & setosa\\\\\n",
       "\t4 & 4 & 4.6 & 3.1 & 1.5 & 0.2 & setosa\\\\\n",
       "\t5 & 5 & 5.0 & 3.6 & 1.4 & 0.2 & setosa\\\\\n",
       "\t6 & 6 & 5.4 & 3.9 & 1.7 & 0.4 & setosa\\\\\n",
       "\\end{tabular}\n"
      ],
      "text/markdown": [
       "\n",
       "A data.frame: 6 × 6\n",
       "\n",
       "| <!--/--> | NA. &lt;fct&gt; | Sepal.Length &lt;dbl&gt; | Sepal.Width &lt;dbl&gt; | Petal.Length &lt;dbl&gt; | Petal.Width &lt;dbl&gt; | Species &lt;fct&gt; |\n",
       "|---|---|---|---|---|---|---|\n",
       "| 1 | 1 | 5.1 | 3.5 | 1.4 | 0.2 | setosa |\n",
       "| 2 | 2 | 4.9 | 3.0 | 1.4 | 0.2 | setosa |\n",
       "| 3 | 3 | 4.7 | 3.2 | 1.3 | 0.2 | setosa |\n",
       "| 4 | 4 | 4.6 | 3.1 | 1.5 | 0.2 | setosa |\n",
       "| 5 | 5 | 5.0 | 3.6 | 1.4 | 0.2 | setosa |\n",
       "| 6 | 6 | 5.4 | 3.9 | 1.7 | 0.4 | setosa |\n",
       "\n"
      ],
      "text/plain": [
       "  NA. Sepal.Length Sepal.Width Petal.Length Petal.Width Species\n",
       "1 1   5.1          3.5         1.4          0.2         setosa \n",
       "2 2   4.9          3.0         1.4          0.2         setosa \n",
       "3 3   4.7          3.2         1.3          0.2         setosa \n",
       "4 4   4.6          3.1         1.5          0.2         setosa \n",
       "5 5   5.0          3.6         1.4          0.2         setosa \n",
       "6 6   5.4          3.9         1.7          0.4         setosa "
      ]
     },
     "metadata": {},
     "output_type": "display_data"
    }
   ],
   "source": [
    "# Loading the xlsx library\n",
    "library(xlsx)\n",
    "\n",
    "# Get the iris dataset from iris.xlsx, the second argument is the index of the worksheet in the xlsx file.\n",
    "iris_table <- xlsx::read.xlsx(\"datasets/iris.xlsx\", 1)\n",
    "\n",
    "# Print first few lines of the table\n",
    "head(iris_table)"
   ]
  },
  {
   "cell_type": "markdown",
   "metadata": {},
   "source": [
    "### Write XLSX Files\n",
    "\n",
    "#### The Syntax\n",
    "\n",
    "```\n",
    "write.xlsx(\n",
    "       x,\n",
    "       file,\n",
    "       sheetName = \"Sheet1\",\n",
    "       col.names = TRUE,\n",
    "       row.names = TRUE,\n",
    "       append = FALSE,\n",
    "       showNA = TRUE,\n",
    "       password = NULL\n",
    "     )\n",
    "```"
   ]
  },
  {
   "cell_type": "markdown",
   "metadata": {},
   "source": [
    "#### Write a CSV File with Default Options"
   ]
  },
  {
   "cell_type": "code",
   "execution_count": 6,
   "metadata": {},
   "outputs": [],
   "source": [
    "# Staff table to export\n",
    "staff_table = data.frame(\n",
    "    ID = c(1L, 2L, 3L, 4L),\n",
    "    Name = c(\"Tom\", \"Ann\", \"Peter\", \"Kelly\"), \n",
    "    Phone = c(73490245L, 77990904L, 47876737L, 35146136L)\n",
    ")\n",
    "\n",
    "# Write the xlsx file to the file namely staff_table.xlsx\n",
    "xlsx::write.xlsx(staff_table, \"datasets/staff_table.xlsx\", append = FALSE)"
   ]
  },
  {
   "cell_type": "markdown",
   "metadata": {},
   "source": [
    "* The output xlsx file:\n",
    "\n",
    "![title](img/Fig_02_02.png)"
   ]
  },
  {
   "cell_type": "markdown",
   "metadata": {},
   "source": [
    "# Database"
   ]
  },
  {
   "cell_type": "markdown",
   "metadata": {},
   "source": [
    "## MySQL\n",
    "\n",
    "### Connect to MySQL Server\n",
    "\n",
    "To connection to MySQL servers, we need to include two libraries:"
   ]
  },
  {
   "cell_type": "code",
   "execution_count": 7,
   "metadata": {},
   "outputs": [],
   "source": [
    "# Include libraries for MySQL connection\n",
    "library(DBI)\n",
    "library(RMySQL)"
   ]
  },
  {
   "cell_type": "markdown",
   "metadata": {},
   "source": [
    "Then we connect to database namely \"classicmodels\" on the MySQL server at 127.0.0.1 using function DBI::dbConnect:"
   ]
  },
  {
   "cell_type": "code",
   "execution_count": 8,
   "metadata": {},
   "outputs": [],
   "source": [
    "# Create a connection object and store it in \"con\"\n",
    "con <- DBI::dbConnect(RMySQL::MySQL(),          # The driver to communicate with the server\n",
    "                      dbname=\"classicmodels\",   # The name of the database to access on the server\n",
    "                      host=\"127.0.0.1\",         # The ip / URL / hostname of the server\n",
    "                      user=\"alan\",              # user name to login\n",
    "                      password=\"password\")      # password for the user ID"
   ]
  },
  {
   "cell_type": "markdown",
   "metadata": {},
   "source": [
    "Now the connection pipe is stored in object `con`. To list tables, we could use `DBI::dbListTables`."
   ]
  },
  {
   "cell_type": "code",
   "execution_count": 9,
   "metadata": {},
   "outputs": [
    {
     "data": {
      "text/html": [
       "<style>\n",
       ".list-inline {list-style: none; margin:0; padding: 0}\n",
       ".list-inline>li {display: inline-block}\n",
       ".list-inline>li:not(:last-child)::after {content: \"\\00b7\"; padding: 0 .5ex}\n",
       "</style>\n",
       "<ol class=list-inline><li>'committees'</li><li>'customers'</li><li>'employees'</li><li>'members'</li><li>'offices'</li><li>'orderdetails'</li><li>'orders'</li><li>'payments'</li><li>'productlines'</li><li>'products'</li></ol>\n"
      ],
      "text/latex": [
       "\\begin{enumerate*}\n",
       "\\item 'committees'\n",
       "\\item 'customers'\n",
       "\\item 'employees'\n",
       "\\item 'members'\n",
       "\\item 'offices'\n",
       "\\item 'orderdetails'\n",
       "\\item 'orders'\n",
       "\\item 'payments'\n",
       "\\item 'productlines'\n",
       "\\item 'products'\n",
       "\\end{enumerate*}\n"
      ],
      "text/markdown": [
       "1. 'committees'\n",
       "2. 'customers'\n",
       "3. 'employees'\n",
       "4. 'members'\n",
       "5. 'offices'\n",
       "6. 'orderdetails'\n",
       "7. 'orders'\n",
       "8. 'payments'\n",
       "9. 'productlines'\n",
       "10. 'products'\n",
       "\n",
       "\n"
      ],
      "text/plain": [
       " [1] \"committees\"   \"customers\"    \"employees\"    \"members\"      \"offices\"     \n",
       " [6] \"orderdetails\" \"orders\"       \"payments\"     \"productlines\" \"products\"    "
      ]
     },
     "metadata": {},
     "output_type": "display_data"
    }
   ],
   "source": [
    "# Get the list of table in the database\n",
    "DBI::dbListTables(conn = con)"
   ]
  },
  {
   "cell_type": "markdown",
   "metadata": {},
   "source": [
    "### Reading Tables Through the DBI Interface"
   ]
  },
  {
   "cell_type": "markdown",
   "metadata": {},
   "source": [
    "#### Using `DBI::dbGetQuery`\n",
    "\n",
    "* Syntax:\n",
    "```\n",
    "dbGetQuery(conn, statement, ...)\n",
    "```\n",
    "* `DBI::dbGetQuery` returns a data.frame."
   ]
  },
  {
   "cell_type": "code",
   "execution_count": 10,
   "metadata": {
    "scrolled": true
   },
   "outputs": [
    {
     "name": "stdout",
     "output_type": "stream",
     "text": [
      "\n",
      "The type of the output object: data.frame . \n"
     ]
    },
    {
     "data": {
      "text/html": [
       "<table>\n",
       "<caption>A data.frame: 6 × 3</caption>\n",
       "<thead>\n",
       "\t<tr><th></th><th scope=col>customerNumber</th><th scope=col>customerName</th><th scope=col>phone</th></tr>\n",
       "\t<tr><th></th><th scope=col>&lt;int&gt;</th><th scope=col>&lt;chr&gt;</th><th scope=col>&lt;chr&gt;</th></tr>\n",
       "</thead>\n",
       "<tbody>\n",
       "\t<tr><th scope=row>1</th><td>103</td><td>Atelier graphique           </td><td>40.32.2555  </td></tr>\n",
       "\t<tr><th scope=row>2</th><td>112</td><td>Signal Gift Stores          </td><td>7025551838  </td></tr>\n",
       "\t<tr><th scope=row>3</th><td>114</td><td>Australian Collectors, Co.  </td><td>03 9520 4555</td></tr>\n",
       "\t<tr><th scope=row>4</th><td>119</td><td>La Rochelle Gifts           </td><td>40.67.8555  </td></tr>\n",
       "\t<tr><th scope=row>5</th><td>121</td><td>Baane Mini Imports          </td><td>07-98 9555  </td></tr>\n",
       "\t<tr><th scope=row>6</th><td>124</td><td>Mini Gifts Distributors Ltd.</td><td>4155551450  </td></tr>\n",
       "</tbody>\n",
       "</table>\n"
      ],
      "text/latex": [
       "A data.frame: 6 × 3\n",
       "\\begin{tabular}{r|lll}\n",
       "  & customerNumber & customerName & phone\\\\\n",
       "  & <int> & <chr> & <chr>\\\\\n",
       "\\hline\n",
       "\t1 & 103 & Atelier graphique            & 40.32.2555  \\\\\n",
       "\t2 & 112 & Signal Gift Stores           & 7025551838  \\\\\n",
       "\t3 & 114 & Australian Collectors, Co.   & 03 9520 4555\\\\\n",
       "\t4 & 119 & La Rochelle Gifts            & 40.67.8555  \\\\\n",
       "\t5 & 121 & Baane Mini Imports           & 07-98 9555  \\\\\n",
       "\t6 & 124 & Mini Gifts Distributors Ltd. & 4155551450  \\\\\n",
       "\\end{tabular}\n"
      ],
      "text/markdown": [
       "\n",
       "A data.frame: 6 × 3\n",
       "\n",
       "| <!--/--> | customerNumber &lt;int&gt; | customerName &lt;chr&gt; | phone &lt;chr&gt; |\n",
       "|---|---|---|---|\n",
       "| 1 | 103 | Atelier graphique            | 40.32.2555   |\n",
       "| 2 | 112 | Signal Gift Stores           | 7025551838   |\n",
       "| 3 | 114 | Australian Collectors, Co.   | 03 9520 4555 |\n",
       "| 4 | 119 | La Rochelle Gifts            | 40.67.8555   |\n",
       "| 5 | 121 | Baane Mini Imports           | 07-98 9555   |\n",
       "| 6 | 124 | Mini Gifts Distributors Ltd. | 4155551450   |\n",
       "\n"
      ],
      "text/plain": [
       "  customerNumber customerName                 phone       \n",
       "1 103            Atelier graphique            40.32.2555  \n",
       "2 112            Signal Gift Stores           7025551838  \n",
       "3 114            Australian Collectors, Co.   03 9520 4555\n",
       "4 119            La Rochelle Gifts            40.67.8555  \n",
       "5 121            Baane Mini Imports           07-98 9555  \n",
       "6 124            Mini Gifts Distributors Ltd. 4155551450  "
      ]
     },
     "metadata": {},
     "output_type": "display_data"
    }
   ],
   "source": [
    "# Get the data.frame from the database based on the SQL statement\n",
    "select_result <- DBI::dbGetQuery(conn = con, statement = \"\n",
    "    select customerNumber,customerName,phone from customers;\n",
    "\")\n",
    "\n",
    "# Print out the class of the object select_result\n",
    "cat(\"\\nThe type of the output object:\", class(select_result) ,\". \\n\")\n",
    "\n",
    "# Print first few lines of the object select_result\n",
    "head(select_result) "
   ]
  },
  {
   "cell_type": "markdown",
   "metadata": {},
   "source": [
    "#### Using `DBI::dbSendQuery` and `DBI::dbFetch`\n",
    "\n",
    "* Syntax:\n",
    "```\n",
    "dbSendQuery(conn, statement, ...)\n",
    "```\n",
    "* `DBI::dbSendQuery` returns a S4 object. The S4 object can be translate to data.frame by `DBI::dbFetch`.\n",
    "* The syntax of `DBI::dbFetch` :\n",
    "  ```\n",
    "  dbFetch(res, n = -1, ...)\n",
    "  ```\n",
    "    - Here $n$ is the number of records to retrieve."
   ]
  },
  {
   "cell_type": "code",
   "execution_count": 11,
   "metadata": {
    "scrolled": true
   },
   "outputs": [
    {
     "name": "stdout",
     "output_type": "stream",
     "text": [
      "\n",
      "The type of the output object: data.frame . \n"
     ]
    },
    {
     "data": {
      "text/html": [
       "<table>\n",
       "<caption>A data.frame: 6 × 3</caption>\n",
       "<thead>\n",
       "\t<tr><th></th><th scope=col>customerNumber</th><th scope=col>customerName</th><th scope=col>state</th></tr>\n",
       "\t<tr><th></th><th scope=col>&lt;int&gt;</th><th scope=col>&lt;chr&gt;</th><th scope=col>&lt;chr&gt;</th></tr>\n",
       "</thead>\n",
       "<tbody>\n",
       "\t<tr><th scope=row>1</th><td>103</td><td>Atelier graphique           </td><td>NA      </td></tr>\n",
       "\t<tr><th scope=row>2</th><td>112</td><td>Signal Gift Stores          </td><td>NV      </td></tr>\n",
       "\t<tr><th scope=row>3</th><td>114</td><td>Australian Collectors, Co.  </td><td>Victoria</td></tr>\n",
       "\t<tr><th scope=row>4</th><td>119</td><td>La Rochelle Gifts           </td><td>NA      </td></tr>\n",
       "\t<tr><th scope=row>5</th><td>121</td><td>Baane Mini Imports          </td><td>NA      </td></tr>\n",
       "\t<tr><th scope=row>6</th><td>124</td><td>Mini Gifts Distributors Ltd.</td><td>CA      </td></tr>\n",
       "</tbody>\n",
       "</table>\n"
      ],
      "text/latex": [
       "A data.frame: 6 × 3\n",
       "\\begin{tabular}{r|lll}\n",
       "  & customerNumber & customerName & state\\\\\n",
       "  & <int> & <chr> & <chr>\\\\\n",
       "\\hline\n",
       "\t1 & 103 & Atelier graphique            & NA      \\\\\n",
       "\t2 & 112 & Signal Gift Stores           & NV      \\\\\n",
       "\t3 & 114 & Australian Collectors, Co.   & Victoria\\\\\n",
       "\t4 & 119 & La Rochelle Gifts            & NA      \\\\\n",
       "\t5 & 121 & Baane Mini Imports           & NA      \\\\\n",
       "\t6 & 124 & Mini Gifts Distributors Ltd. & CA      \\\\\n",
       "\\end{tabular}\n"
      ],
      "text/markdown": [
       "\n",
       "A data.frame: 6 × 3\n",
       "\n",
       "| <!--/--> | customerNumber &lt;int&gt; | customerName &lt;chr&gt; | state &lt;chr&gt; |\n",
       "|---|---|---|---|\n",
       "| 1 | 103 | Atelier graphique            | NA       |\n",
       "| 2 | 112 | Signal Gift Stores           | NV       |\n",
       "| 3 | 114 | Australian Collectors, Co.   | Victoria |\n",
       "| 4 | 119 | La Rochelle Gifts            | NA       |\n",
       "| 5 | 121 | Baane Mini Imports           | NA       |\n",
       "| 6 | 124 | Mini Gifts Distributors Ltd. | CA       |\n",
       "\n"
      ],
      "text/plain": [
       "  customerNumber customerName                 state   \n",
       "1 103            Atelier graphique            NA      \n",
       "2 112            Signal Gift Stores           NV      \n",
       "3 114            Australian Collectors, Co.   Victoria\n",
       "4 119            La Rochelle Gifts            NA      \n",
       "5 121            Baane Mini Imports           NA      \n",
       "6 124            Mini Gifts Distributors Ltd. CA      "
      ]
     },
     "metadata": {},
     "output_type": "display_data"
    }
   ],
   "source": [
    "# Get the S4 object from the database based on the SQL statement\n",
    "select_result_raw <- DBI::dbSendQuery(conn = con, statement = \"\n",
    "    select customerNumber,customerName,state from customers;\n",
    "\")\n",
    "\n",
    "# Translate the S4 object into data.frame\n",
    "select_result <- DBI::dbFetch(select_result_raw)\n",
    "\n",
    "# Print the class of the object select_result\n",
    "cat(\"\\nThe type of the output object:\", class(select_result) ,\". \\n\")\n",
    "\n",
    "# Print first few lines of the object select_result\n",
    "head(select_result) "
   ]
  },
  {
   "cell_type": "markdown",
   "metadata": {},
   "source": [
    "#### Getting the Whole Table\n",
    "\n",
    "* If we want to retrieve the whole table, `DBI::dbReadTable` will be a shorter command."
   ]
  },
  {
   "cell_type": "code",
   "execution_count": 12,
   "metadata": {},
   "outputs": [
    {
     "name": "stdout",
     "output_type": "stream",
     "text": [
      "  officeCode          city           phone         addressLine1 addressLine2\n",
      "1          1 San Francisco +1 650 219 4782    100 Market Street    Suite 300\n",
      "2          2        Boston +1 215 837 0825     1550 Court Place    Suite 102\n",
      "3          3           NYC +1 212 555 3000 523 East 53rd Street      apt. 5A\n",
      "  state country postalCode territory\n",
      "1    CA     USA      94080        NA\n",
      "2    MA     USA      02107        NA\n",
      "3    NY     USA      10022        NA\n"
     ]
    }
   ],
   "source": [
    "# Storing the Whole Table\n",
    "whole_table <- DBI::dbReadTable(con, \"offices\")\n",
    "\n",
    "# Show the first few lines of the data.frame whole_table\n",
    "print(whole_table[1:3,])"
   ]
  },
  {
   "cell_type": "markdown",
   "metadata": {},
   "source": [
    "### Adding an Entry to a Table\n",
    "\n",
    "* There are two routine to add entries to tables. But I found only `DBI::dbWriteTable` is working in the current scenario.\n",
    "* `DBI::dbWriteTable` has a syntax:\n",
    "  ```\n",
    "  dbWriteTable(conn, name, value, ...)\n",
    "  ```\n",
    "  - `...` includes:\n",
    "    1. ‘row.names’ (default: ‘FALSE’)\n",
    "    2. ‘overwrite’ (default: ‘FALSE’)\n",
    "    3. ‘append’ (default: ‘FALSE’)\n",
    "    4. ‘field.types’ (default: ‘NULL’)\n",
    "    5. ‘temporary’ (default: ‘FALSE’)"
   ]
  },
  {
   "cell_type": "code",
   "execution_count": 13,
   "metadata": {
    "scrolled": true
   },
   "outputs": [
    {
     "name": "stdout",
     "output_type": "stream",
     "text": [
      "  customerNumber customerName state     phone\n",
      "1           1001          Tom    NA 173173173\n",
      "2           1002         Mary    NY 246246246\n"
     ]
    },
    {
     "data": {
      "text/html": [
       "TRUE"
      ],
      "text/latex": [
       "TRUE"
      ],
      "text/markdown": [
       "TRUE"
      ],
      "text/plain": [
       "[1] TRUE"
      ]
     },
     "metadata": {},
     "output_type": "display_data"
    },
    {
     "data": {
      "text/html": [
       "<table>\n",
       "<caption>A data.frame: 2 × 4</caption>\n",
       "<thead>\n",
       "\t<tr><th></th><th scope=col>customerNumber</th><th scope=col>customerName</th><th scope=col>state</th><th scope=col>phone</th></tr>\n",
       "\t<tr><th></th><th scope=col>&lt;int&gt;</th><th scope=col>&lt;chr&gt;</th><th scope=col>&lt;chr&gt;</th><th scope=col>&lt;chr&gt;</th></tr>\n",
       "</thead>\n",
       "<tbody>\n",
       "\t<tr><th scope=row>1</th><td>1001</td><td>Tom </td><td>NA</td><td>173173173</td></tr>\n",
       "\t<tr><th scope=row>2</th><td>1002</td><td>Mary</td><td>NY</td><td>246246246</td></tr>\n",
       "</tbody>\n",
       "</table>\n"
      ],
      "text/latex": [
       "A data.frame: 2 × 4\n",
       "\\begin{tabular}{r|llll}\n",
       "  & customerNumber & customerName & state & phone\\\\\n",
       "  & <int> & <chr> & <chr> & <chr>\\\\\n",
       "\\hline\n",
       "\t1 & 1001 & Tom  & NA & 173173173\\\\\n",
       "\t2 & 1002 & Mary & NY & 246246246\\\\\n",
       "\\end{tabular}\n"
      ],
      "text/markdown": [
       "\n",
       "A data.frame: 2 × 4\n",
       "\n",
       "| <!--/--> | customerNumber &lt;int&gt; | customerName &lt;chr&gt; | state &lt;chr&gt; | phone &lt;chr&gt; |\n",
       "|---|---|---|---|---|\n",
       "| 1 | 1001 | Tom  | NA | 173173173 |\n",
       "| 2 | 1002 | Mary | NY | 246246246 |\n",
       "\n"
      ],
      "text/plain": [
       "  customerNumber customerName state phone    \n",
       "1 1001           Tom          NA    173173173\n",
       "2 1002           Mary         NY    246246246"
      ]
     },
     "metadata": {},
     "output_type": "display_data"
    }
   ],
   "source": [
    "# Create a data.frame for new entries\n",
    "new_entry = data.frame(\n",
    "    customerNumber = c(1001L,1002L),\n",
    "    customerName = c(\"Tom\", \"Mary\"),\n",
    "    state = c(\"NA\", \"NY\"),\n",
    "    phone = c(173173173, 246246246)\n",
    ")\n",
    "\n",
    "# Show the content of the new entries\n",
    "print(new_entry)\n",
    "\n",
    "# Appending new rows in the table namely customers\n",
    "DBI::dbWriteTable(conn = con, \"customers\", new_entry, append=TRUE, row.names=FALSE)\n",
    "\n",
    "# Print out the new entries to show their existence\n",
    "select_result <- DBI::dbGetQuery(conn = con, statement = \"\n",
    "    select customerNumber,customerName,state,phone from customers where customerNumber > 1000;\n",
    "\")\n",
    "\n",
    "# Print first few lines of the object select_result\n",
    "head(select_result) "
   ]
  },
  {
   "cell_type": "markdown",
   "metadata": {},
   "source": [
    "### Deleting an Entry from a Table\n",
    "* DBI seems not include a routine to delete an entry from tables. However SQL statement is still a working option."
   ]
  },
  {
   "cell_type": "code",
   "execution_count": 14,
   "metadata": {},
   "outputs": [
    {
     "data": {
      "text/html": [
       "<table>\n",
       "<caption>A data.frame: 0 × 4</caption>\n",
       "<thead>\n",
       "\t<tr><th scope=col>customerNumber</th><th scope=col>customerName</th><th scope=col>state</th><th scope=col>phone</th></tr>\n",
       "\t<tr><th scope=col>&lt;int&gt;</th><th scope=col>&lt;chr&gt;</th><th scope=col>&lt;chr&gt;</th><th scope=col>&lt;chr&gt;</th></tr>\n",
       "</thead>\n",
       "<tbody>\n",
       "</tbody>\n",
       "</table>\n"
      ],
      "text/latex": [
       "A data.frame: 0 × 4\n",
       "\\begin{tabular}{llll}\n",
       " customerNumber & customerName & state & phone\\\\\n",
       " <int> & <chr> & <chr> & <chr>\\\\\n",
       "\\hline\n",
       "\\end{tabular}\n"
      ],
      "text/markdown": [
       "\n",
       "A data.frame: 0 × 4\n",
       "\n",
       "| customerNumber &lt;int&gt; | customerName &lt;chr&gt; | state &lt;chr&gt; | phone &lt;chr&gt; |\n",
       "|---|---|---|---|\n",
       "\n"
      ],
      "text/plain": [
       "     customerNumber customerName state phone"
      ]
     },
     "metadata": {},
     "output_type": "display_data"
    }
   ],
   "source": [
    "# Delete the entries by a SQL comment\n",
    "result <- DBI::dbSendStatement(con, \"delete from customers where customernumber > 1000 ;\")\n",
    "\n",
    "# Attempted to select new records to show the deletion\n",
    "select_result <- DBI::dbGetQuery(conn = con, statement = \"\n",
    "    select customerNumber,customerName,state,phone from customers where customerNumber > 1000;\n",
    "\")\n",
    "\n",
    "# Print first few lines of the object select_result\n",
    "head(select_result) "
   ]
  },
  {
   "cell_type": "markdown",
   "metadata": {},
   "source": [
    "### Disconnect the Databse"
   ]
  },
  {
   "cell_type": "code",
   "execution_count": 15,
   "metadata": {},
   "outputs": [
    {
     "data": {
      "text/html": [
       "TRUE"
      ],
      "text/latex": [
       "TRUE"
      ],
      "text/markdown": [
       "TRUE"
      ],
      "text/plain": [
       "[1] TRUE"
      ]
     },
     "metadata": {},
     "output_type": "display_data"
    }
   ],
   "source": [
    "# The connection stored in con will be disconnected\n",
    "DBI::dbDisconnect(con)"
   ]
  },
  {
   "cell_type": "markdown",
   "metadata": {},
   "source": [
    "## SQLite"
   ]
  },
  {
   "cell_type": "markdown",
   "metadata": {},
   "source": [
    "### Open a SQLite File\n",
    "\n",
    "* Like MySQL, this operation requires DBI library, while RSQLite is the driver pacakge to enable the connection."
   ]
  },
  {
   "cell_type": "code",
   "execution_count": 16,
   "metadata": {},
   "outputs": [],
   "source": [
    "# Loading the required libraries\n",
    "library(DBI, RSQLite)"
   ]
  },
  {
   "cell_type": "markdown",
   "metadata": {},
   "source": [
    "* SQLite is server-less. The database is stored in a database file. Once the database file is connected, we may use it as if a SQL server.\n",
    "* Like the MySQL example, we used `DBI::dbConnect` to open the sqlite file and store the connection object in `con`.\n",
    "* There is an importent option called `flags`. This option controls the mode of database file opening.\n",
    "  - If ``flags=RSQLite::SQLITE_RWC `` implies the database file is readable, writable, and creatable (if it does not exist).\n",
    "  - If ``flags=RSQLite::SQLITE_RO `` implies the database file will be read-only in the follow operation.\n",
    "  - ``flags=RSQLite::SQLITE_RWC `` is the default."
   ]
  },
  {
   "cell_type": "code",
   "execution_count": 17,
   "metadata": {},
   "outputs": [],
   "source": [
    "# Open the sqlite file and store the connection object in con\n",
    "con <- DBI::dbConnect(RSQLite::SQLite(), \"datasets/patient_record.sqlite\", flags=RSQLite::SQLITE_RWC)"
   ]
  },
  {
   "cell_type": "markdown",
   "metadata": {},
   "source": [
    "* Here we may query the list of tables inside the database."
   ]
  },
  {
   "cell_type": "code",
   "execution_count": 18,
   "metadata": {},
   "outputs": [
    {
     "data": {
      "text/html": [
       "<style>\n",
       ".list-inline {list-style: none; margin:0; padding: 0}\n",
       ".list-inline>li {display: inline-block}\n",
       ".list-inline>li:not(:last-child)::after {content: \"\\00b7\"; padding: 0 .5ex}\n",
       "</style>\n",
       "<ol class=list-inline><li>'Hospitals'</li><li>'PatientRecord'</li><li>'Patients'</li></ol>\n"
      ],
      "text/latex": [
       "\\begin{enumerate*}\n",
       "\\item 'Hospitals'\n",
       "\\item 'PatientRecord'\n",
       "\\item 'Patients'\n",
       "\\end{enumerate*}\n"
      ],
      "text/markdown": [
       "1. 'Hospitals'\n",
       "2. 'PatientRecord'\n",
       "3. 'Patients'\n",
       "\n",
       "\n"
      ],
      "text/plain": [
       "[1] \"Hospitals\"     \"PatientRecord\" \"Patients\"     "
      ]
     },
     "metadata": {},
     "output_type": "display_data"
    }
   ],
   "source": [
    "# Getting the list of table\n",
    "DBI::dbListTables(con)"
   ]
  },
  {
   "cell_type": "markdown",
   "metadata": {},
   "source": [
    "### Reading Tables Through DBI Functions\n",
    "* Like the examples in the MySQL section, DBI functions are workable in SQLite."
   ]
  },
  {
   "cell_type": "markdown",
   "metadata": {},
   "source": [
    "#### Using `DBI::dbGetQuery`"
   ]
  },
  {
   "cell_type": "code",
   "execution_count": 19,
   "metadata": {},
   "outputs": [
    {
     "data": {
      "text/html": [
       "<table>\n",
       "<caption>A data.frame: 6 × 5</caption>\n",
       "<thead>\n",
       "\t<tr><th></th><th scope=col>Name</th><th scope=col>StartDate</th><th scope=col>EndDate</th><th scope=col>Hospital</th><th scope=col>Ward</th></tr>\n",
       "\t<tr><th></th><th scope=col>&lt;chr&gt;</th><th scope=col>&lt;chr&gt;</th><th scope=col>&lt;chr&gt;</th><th scope=col>&lt;chr&gt;</th><th scope=col>&lt;chr&gt;</th></tr>\n",
       "</thead>\n",
       "<tbody>\n",
       "\t<tr><th scope=row>1</th><td>Chantelle</td><td>2000-04-16</td><td>2000-04-21</td><td>RH   </td><td>8C</td></tr>\n",
       "\t<tr><th scope=row>2</th><td>Silva    </td><td>2000-05-07</td><td>2000-05-16</td><td>TSKH </td><td>5A</td></tr>\n",
       "\t<tr><th scope=row>3</th><td>Maybelle </td><td>2000-06-10</td><td>2000-06-13</td><td>WCHH </td><td>5A</td></tr>\n",
       "\t<tr><th scope=row>4</th><td>Wilhemina</td><td>2000-06-12</td><td>2000-06-18</td><td>WCHH </td><td>5A</td></tr>\n",
       "\t<tr><th scope=row>5</th><td>Alleen   </td><td>2000-07-07</td><td>2000-07-17</td><td>SJH  </td><td>6A</td></tr>\n",
       "\t<tr><th scope=row>6</th><td>Natalia  </td><td>2000-07-25</td><td>2000-08-02</td><td>PYNEH</td><td>8B</td></tr>\n",
       "</tbody>\n",
       "</table>\n"
      ],
      "text/latex": [
       "A data.frame: 6 × 5\n",
       "\\begin{tabular}{r|lllll}\n",
       "  & Name & StartDate & EndDate & Hospital & Ward\\\\\n",
       "  & <chr> & <chr> & <chr> & <chr> & <chr>\\\\\n",
       "\\hline\n",
       "\t1 & Chantelle & 2000-04-16 & 2000-04-21 & RH    & 8C\\\\\n",
       "\t2 & Silva     & 2000-05-07 & 2000-05-16 & TSKH  & 5A\\\\\n",
       "\t3 & Maybelle  & 2000-06-10 & 2000-06-13 & WCHH  & 5A\\\\\n",
       "\t4 & Wilhemina & 2000-06-12 & 2000-06-18 & WCHH  & 5A\\\\\n",
       "\t5 & Alleen    & 2000-07-07 & 2000-07-17 & SJH   & 6A\\\\\n",
       "\t6 & Natalia   & 2000-07-25 & 2000-08-02 & PYNEH & 8B\\\\\n",
       "\\end{tabular}\n"
      ],
      "text/markdown": [
       "\n",
       "A data.frame: 6 × 5\n",
       "\n",
       "| <!--/--> | Name &lt;chr&gt; | StartDate &lt;chr&gt; | EndDate &lt;chr&gt; | Hospital &lt;chr&gt; | Ward &lt;chr&gt; |\n",
       "|---|---|---|---|---|---|\n",
       "| 1 | Chantelle | 2000-04-16 | 2000-04-21 | RH    | 8C |\n",
       "| 2 | Silva     | 2000-05-07 | 2000-05-16 | TSKH  | 5A |\n",
       "| 3 | Maybelle  | 2000-06-10 | 2000-06-13 | WCHH  | 5A |\n",
       "| 4 | Wilhemina | 2000-06-12 | 2000-06-18 | WCHH  | 5A |\n",
       "| 5 | Alleen    | 2000-07-07 | 2000-07-17 | SJH   | 6A |\n",
       "| 6 | Natalia   | 2000-07-25 | 2000-08-02 | PYNEH | 8B |\n",
       "\n"
      ],
      "text/plain": [
       "  Name      StartDate  EndDate    Hospital Ward\n",
       "1 Chantelle 2000-04-16 2000-04-21 RH       8C  \n",
       "2 Silva     2000-05-07 2000-05-16 TSKH     5A  \n",
       "3 Maybelle  2000-06-10 2000-06-13 WCHH     5A  \n",
       "4 Wilhemina 2000-06-12 2000-06-18 WCHH     5A  \n",
       "5 Alleen    2000-07-07 2000-07-17 SJH      6A  \n",
       "6 Natalia   2000-07-25 2000-08-02 PYNEH    8B  "
      ]
     },
     "metadata": {},
     "output_type": "display_data"
    }
   ],
   "source": [
    "# Get the PatientRecord from the database\n",
    "patient_record <- DBI::dbGetQuery(con, \"select * from PatientRecord;\")\n",
    "\n",
    "# Print first few lines of the object patient_record\n",
    "head(patient_record)"
   ]
  },
  {
   "cell_type": "markdown",
   "metadata": {},
   "source": [
    "#### Using DBI::dbSendQuery and DBI::dbFetch"
   ]
  },
  {
   "cell_type": "code",
   "execution_count": 20,
   "metadata": {},
   "outputs": [
    {
     "data": {
      "text/html": [
       "<table>\n",
       "<caption>A data.frame: 6 × 5</caption>\n",
       "<thead>\n",
       "\t<tr><th></th><th scope=col>Name</th><th scope=col>StartDate</th><th scope=col>EndDate</th><th scope=col>Hospital</th><th scope=col>Ward</th></tr>\n",
       "\t<tr><th></th><th scope=col>&lt;chr&gt;</th><th scope=col>&lt;chr&gt;</th><th scope=col>&lt;chr&gt;</th><th scope=col>&lt;chr&gt;</th><th scope=col>&lt;chr&gt;</th></tr>\n",
       "</thead>\n",
       "<tbody>\n",
       "\t<tr><th scope=row>1</th><td>Chantelle</td><td>2000-04-16</td><td>2000-04-21</td><td>RH   </td><td>8C</td></tr>\n",
       "\t<tr><th scope=row>2</th><td>Silva    </td><td>2000-05-07</td><td>2000-05-16</td><td>TSKH </td><td>5A</td></tr>\n",
       "\t<tr><th scope=row>3</th><td>Maybelle </td><td>2000-06-10</td><td>2000-06-13</td><td>WCHH </td><td>5A</td></tr>\n",
       "\t<tr><th scope=row>4</th><td>Wilhemina</td><td>2000-06-12</td><td>2000-06-18</td><td>WCHH </td><td>5A</td></tr>\n",
       "\t<tr><th scope=row>5</th><td>Alleen   </td><td>2000-07-07</td><td>2000-07-17</td><td>SJH  </td><td>6A</td></tr>\n",
       "\t<tr><th scope=row>6</th><td>Natalia  </td><td>2000-07-25</td><td>2000-08-02</td><td>PYNEH</td><td>8B</td></tr>\n",
       "</tbody>\n",
       "</table>\n"
      ],
      "text/latex": [
       "A data.frame: 6 × 5\n",
       "\\begin{tabular}{r|lllll}\n",
       "  & Name & StartDate & EndDate & Hospital & Ward\\\\\n",
       "  & <chr> & <chr> & <chr> & <chr> & <chr>\\\\\n",
       "\\hline\n",
       "\t1 & Chantelle & 2000-04-16 & 2000-04-21 & RH    & 8C\\\\\n",
       "\t2 & Silva     & 2000-05-07 & 2000-05-16 & TSKH  & 5A\\\\\n",
       "\t3 & Maybelle  & 2000-06-10 & 2000-06-13 & WCHH  & 5A\\\\\n",
       "\t4 & Wilhemina & 2000-06-12 & 2000-06-18 & WCHH  & 5A\\\\\n",
       "\t5 & Alleen    & 2000-07-07 & 2000-07-17 & SJH   & 6A\\\\\n",
       "\t6 & Natalia   & 2000-07-25 & 2000-08-02 & PYNEH & 8B\\\\\n",
       "\\end{tabular}\n"
      ],
      "text/markdown": [
       "\n",
       "A data.frame: 6 × 5\n",
       "\n",
       "| <!--/--> | Name &lt;chr&gt; | StartDate &lt;chr&gt; | EndDate &lt;chr&gt; | Hospital &lt;chr&gt; | Ward &lt;chr&gt; |\n",
       "|---|---|---|---|---|---|\n",
       "| 1 | Chantelle | 2000-04-16 | 2000-04-21 | RH    | 8C |\n",
       "| 2 | Silva     | 2000-05-07 | 2000-05-16 | TSKH  | 5A |\n",
       "| 3 | Maybelle  | 2000-06-10 | 2000-06-13 | WCHH  | 5A |\n",
       "| 4 | Wilhemina | 2000-06-12 | 2000-06-18 | WCHH  | 5A |\n",
       "| 5 | Alleen    | 2000-07-07 | 2000-07-17 | SJH   | 6A |\n",
       "| 6 | Natalia   | 2000-07-25 | 2000-08-02 | PYNEH | 8B |\n",
       "\n"
      ],
      "text/plain": [
       "  Name      StartDate  EndDate    Hospital Ward\n",
       "1 Chantelle 2000-04-16 2000-04-21 RH       8C  \n",
       "2 Silva     2000-05-07 2000-05-16 TSKH     5A  \n",
       "3 Maybelle  2000-06-10 2000-06-13 WCHH     5A  \n",
       "4 Wilhemina 2000-06-12 2000-06-18 WCHH     5A  \n",
       "5 Alleen    2000-07-07 2000-07-17 SJH      6A  \n",
       "6 Natalia   2000-07-25 2000-08-02 PYNEH    8B  "
      ]
     },
     "metadata": {},
     "output_type": "display_data"
    }
   ],
   "source": [
    "# Get the PatientRecord from the database\n",
    "patient_record_raw <- DBI::dbSendQuery(con, \"select * from PatientRecord;\")\n",
    "\n",
    "# Fetch the raw data to data.frame \n",
    "patient_record <- DBI::dbFetch(patient_record_raw)\n",
    "\n",
    "# Print first few lines of the object patient_record\n",
    "head(patient_record)"
   ]
  },
  {
   "cell_type": "markdown",
   "metadata": {},
   "source": [
    "# Data Manipulation"
   ]
  },
  {
   "cell_type": "markdown",
   "metadata": {},
   "source": [
    "## Filtering"
   ]
  },
  {
   "cell_type": "markdown",
   "metadata": {},
   "source": [
    "## Sorting"
   ]
  },
  {
   "cell_type": "markdown",
   "metadata": {},
   "source": [
    "## Column Shifting"
   ]
  },
  {
   "cell_type": "markdown",
   "metadata": {},
   "source": [
    "## Table Joining"
   ]
  },
  {
   "cell_type": "code",
   "execution_count": null,
   "metadata": {},
   "outputs": [],
   "source": []
  }
 ],
 "metadata": {
  "kernelspec": {
   "display_name": "R",
   "language": "R",
   "name": "ir"
  },
  "language_info": {
   "codemirror_mode": "r",
   "file_extension": ".r",
   "mimetype": "text/x-r-source",
   "name": "R",
   "pygments_lexer": "r",
   "version": "3.6.3"
  }
 },
 "nbformat": 4,
 "nbformat_minor": 4
}
