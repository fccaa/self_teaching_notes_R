{
 "cells": [
  {
   "cell_type": "markdown",
   "metadata": {},
   "source": [
    "# Introduction\n",
    "\n",
    "In this notes, examples concerning data processing are presented"
   ]
  },
  {
   "cell_type": "markdown",
   "metadata": {},
   "source": [
    "# Read and Write Data Files"
   ]
  },
  {
   "cell_type": "markdown",
   "metadata": {},
   "source": [
    "## CSV Files"
   ]
  },
  {
   "cell_type": "markdown",
   "metadata": {},
   "source": [
    "### Read CSV Files\n",
    "#### The Syntax\n",
    "```\n",
    "read.csv(file, header = TRUE, sep = \",\", quote = \"\\\"\",\n",
    "              dec = \".\", fill = TRUE, comment.char = \"\", ...)\n",
    "```"
   ]
  },
  {
   "cell_type": "markdown",
   "metadata": {},
   "source": [
    "#### Read a CSV File with Default Options\n",
    "* `read.csv` returns a data.frame\n",
    "\n",
    "The comma-separated values (CSV) file used here for demonstration has a content:  \n",
    "```\n",
    "\"\",\"BPchange\",\"Dose\",\"Run\",\"Treatment\",\"Animal\"\n",
    "\"1\",0.5,6.25,\"C1\",\"Control\",\"R1\"\n",
    "\"2\",4.5,12.5,\"C1\",\"Control\",\"R1\"  \n",
    "\"3\",10,25,\"C1\",\"Control\",\"R1\"\n",
    "\"4\",26,50,\"C1\",\"Control\",\"R1\"\n",
    "\"5\",37,100,\"C1\",\"Control\",\"R1\"\n",
    "\"6\",32,200,\"C1\",\"Control\",\"R1\"\n",
    "```"
   ]
  },
  {
   "cell_type": "code",
   "execution_count": 1,
   "metadata": {},
   "outputs": [
    {
     "name": "stdout",
     "output_type": "stream",
     "text": [
      "[1] \"data.frame\"\n"
     ]
    },
    {
     "data": {
      "text/html": [
       "<table>\n",
       "<caption>A data.frame: 6 × 6</caption>\n",
       "<thead>\n",
       "\t<tr><th></th><th scope=col>X</th><th scope=col>BPchange</th><th scope=col>Dose</th><th scope=col>Run</th><th scope=col>Treatment</th><th scope=col>Animal</th></tr>\n",
       "\t<tr><th></th><th scope=col>&lt;int&gt;</th><th scope=col>&lt;dbl&gt;</th><th scope=col>&lt;dbl&gt;</th><th scope=col>&lt;fct&gt;</th><th scope=col>&lt;fct&gt;</th><th scope=col>&lt;fct&gt;</th></tr>\n",
       "</thead>\n",
       "<tbody>\n",
       "\t<tr><th scope=row>1</th><td>1</td><td> 0.5</td><td>  6.25</td><td>C1</td><td>Control</td><td>R1</td></tr>\n",
       "\t<tr><th scope=row>2</th><td>2</td><td> 4.5</td><td> 12.50</td><td>C1</td><td>Control</td><td>R1</td></tr>\n",
       "\t<tr><th scope=row>3</th><td>3</td><td>10.0</td><td> 25.00</td><td>C1</td><td>Control</td><td>R1</td></tr>\n",
       "\t<tr><th scope=row>4</th><td>4</td><td>26.0</td><td> 50.00</td><td>C1</td><td>Control</td><td>R1</td></tr>\n",
       "\t<tr><th scope=row>5</th><td>5</td><td>37.0</td><td>100.00</td><td>C1</td><td>Control</td><td>R1</td></tr>\n",
       "\t<tr><th scope=row>6</th><td>6</td><td>32.0</td><td>200.00</td><td>C1</td><td>Control</td><td>R1</td></tr>\n",
       "</tbody>\n",
       "</table>\n"
      ],
      "text/latex": [
       "A data.frame: 6 × 6\n",
       "\\begin{tabular}{r|llllll}\n",
       "  & X & BPchange & Dose & Run & Treatment & Animal\\\\\n",
       "  & <int> & <dbl> & <dbl> & <fct> & <fct> & <fct>\\\\\n",
       "\\hline\n",
       "\t1 & 1 &  0.5 &   6.25 & C1 & Control & R1\\\\\n",
       "\t2 & 2 &  4.5 &  12.50 & C1 & Control & R1\\\\\n",
       "\t3 & 3 & 10.0 &  25.00 & C1 & Control & R1\\\\\n",
       "\t4 & 4 & 26.0 &  50.00 & C1 & Control & R1\\\\\n",
       "\t5 & 5 & 37.0 & 100.00 & C1 & Control & R1\\\\\n",
       "\t6 & 6 & 32.0 & 200.00 & C1 & Control & R1\\\\\n",
       "\\end{tabular}\n"
      ],
      "text/markdown": [
       "\n",
       "A data.frame: 6 × 6\n",
       "\n",
       "| <!--/--> | X &lt;int&gt; | BPchange &lt;dbl&gt; | Dose &lt;dbl&gt; | Run &lt;fct&gt; | Treatment &lt;fct&gt; | Animal &lt;fct&gt; |\n",
       "|---|---|---|---|---|---|---|\n",
       "| 1 | 1 |  0.5 |   6.25 | C1 | Control | R1 |\n",
       "| 2 | 2 |  4.5 |  12.50 | C1 | Control | R1 |\n",
       "| 3 | 3 | 10.0 |  25.00 | C1 | Control | R1 |\n",
       "| 4 | 4 | 26.0 |  50.00 | C1 | Control | R1 |\n",
       "| 5 | 5 | 37.0 | 100.00 | C1 | Control | R1 |\n",
       "| 6 | 6 | 32.0 | 200.00 | C1 | Control | R1 |\n",
       "\n"
      ],
      "text/plain": [
       "  X BPchange Dose   Run Treatment Animal\n",
       "1 1  0.5       6.25 C1  Control   R1    \n",
       "2 2  4.5      12.50 C1  Control   R1    \n",
       "3 3 10.0      25.00 C1  Control   R1    \n",
       "4 4 26.0      50.00 C1  Control   R1    \n",
       "5 5 37.0     100.00 C1  Control   R1    \n",
       "6 6 32.0     200.00 C1  Control   R1    "
      ]
     },
     "metadata": {},
     "output_type": "display_data"
    }
   ],
   "source": [
    "# Getting data from file \"rabbit.csv\"\n",
    "rabbit_sample <- read.csv(\"datasets/rabbit.csv\")\n",
    "\n",
    "# Print the class of the variable rabbit_sample\n",
    "print(class(rabbit_sample))\n",
    "\n",
    "# Printing first few lines of the dataframe\n",
    "head(rabbit_sample)"
   ]
  },
  {
   "cell_type": "markdown",
   "metadata": {},
   "source": [
    "#### Not Assuming the First Row in the CSV File is Labels\n",
    "* The column labels will be \"V1\", \"V2\", etc..."
   ]
  },
  {
   "cell_type": "code",
   "execution_count": 2,
   "metadata": {
    "scrolled": true
   },
   "outputs": [
    {
     "data": {
      "text/html": [
       "<table>\n",
       "<caption>A data.frame: 6 × 6</caption>\n",
       "<thead>\n",
       "\t<tr><th></th><th scope=col>V1</th><th scope=col>V2</th><th scope=col>V3</th><th scope=col>V4</th><th scope=col>V5</th><th scope=col>V6</th></tr>\n",
       "\t<tr><th></th><th scope=col>&lt;int&gt;</th><th scope=col>&lt;fct&gt;</th><th scope=col>&lt;fct&gt;</th><th scope=col>&lt;fct&gt;</th><th scope=col>&lt;fct&gt;</th><th scope=col>&lt;fct&gt;</th></tr>\n",
       "</thead>\n",
       "<tbody>\n",
       "\t<tr><th scope=row>1</th><td>NA</td><td>BPchange</td><td>Dose</td><td>Run</td><td>Treatment</td><td>Animal</td></tr>\n",
       "\t<tr><th scope=row>2</th><td> 1</td><td>0.5     </td><td>6.25</td><td>C1 </td><td>Control  </td><td>R1    </td></tr>\n",
       "\t<tr><th scope=row>3</th><td> 2</td><td>4.5     </td><td>12.5</td><td>C1 </td><td>Control  </td><td>R1    </td></tr>\n",
       "\t<tr><th scope=row>4</th><td> 3</td><td>10      </td><td>25  </td><td>C1 </td><td>Control  </td><td>R1    </td></tr>\n",
       "\t<tr><th scope=row>5</th><td> 4</td><td>26      </td><td>50  </td><td>C1 </td><td>Control  </td><td>R1    </td></tr>\n",
       "\t<tr><th scope=row>6</th><td> 5</td><td>37      </td><td>100 </td><td>C1 </td><td>Control  </td><td>R1    </td></tr>\n",
       "</tbody>\n",
       "</table>\n"
      ],
      "text/latex": [
       "A data.frame: 6 × 6\n",
       "\\begin{tabular}{r|llllll}\n",
       "  & V1 & V2 & V3 & V4 & V5 & V6\\\\\n",
       "  & <int> & <fct> & <fct> & <fct> & <fct> & <fct>\\\\\n",
       "\\hline\n",
       "\t1 & NA & BPchange & Dose & Run & Treatment & Animal\\\\\n",
       "\t2 &  1 & 0.5      & 6.25 & C1  & Control   & R1    \\\\\n",
       "\t3 &  2 & 4.5      & 12.5 & C1  & Control   & R1    \\\\\n",
       "\t4 &  3 & 10       & 25   & C1  & Control   & R1    \\\\\n",
       "\t5 &  4 & 26       & 50   & C1  & Control   & R1    \\\\\n",
       "\t6 &  5 & 37       & 100  & C1  & Control   & R1    \\\\\n",
       "\\end{tabular}\n"
      ],
      "text/markdown": [
       "\n",
       "A data.frame: 6 × 6\n",
       "\n",
       "| <!--/--> | V1 &lt;int&gt; | V2 &lt;fct&gt; | V3 &lt;fct&gt; | V4 &lt;fct&gt; | V5 &lt;fct&gt; | V6 &lt;fct&gt; |\n",
       "|---|---|---|---|---|---|---|\n",
       "| 1 | NA | BPchange | Dose | Run | Treatment | Animal |\n",
       "| 2 |  1 | 0.5      | 6.25 | C1  | Control   | R1     |\n",
       "| 3 |  2 | 4.5      | 12.5 | C1  | Control   | R1     |\n",
       "| 4 |  3 | 10       | 25   | C1  | Control   | R1     |\n",
       "| 5 |  4 | 26       | 50   | C1  | Control   | R1     |\n",
       "| 6 |  5 | 37       | 100  | C1  | Control   | R1     |\n",
       "\n"
      ],
      "text/plain": [
       "  V1 V2       V3   V4  V5        V6    \n",
       "1 NA BPchange Dose Run Treatment Animal\n",
       "2  1 0.5      6.25 C1  Control   R1    \n",
       "3  2 4.5      12.5 C1  Control   R1    \n",
       "4  3 10       25   C1  Control   R1    \n",
       "5  4 26       50   C1  Control   R1    \n",
       "6  5 37       100  C1  Control   R1    "
      ]
     },
     "metadata": {},
     "output_type": "display_data"
    }
   ],
   "source": [
    "# Getting data from file \"rabbit.csv\"\n",
    "rabbit_sample <- read.csv(\"datasets/rabbit.csv\", header = FALSE)\n",
    "\n",
    "# Printing first few lines of the dataframe\n",
    "head(rabbit_sample)"
   ]
  },
  {
   "cell_type": "markdown",
   "metadata": {},
   "source": [
    "#### Using Custom Column Names\n",
    "* The rule is the same as rows."
   ]
  },
  {
   "cell_type": "code",
   "execution_count": 3,
   "metadata": {
    "scrolled": true
   },
   "outputs": [
    {
     "data": {
      "text/html": [
       "<table>\n",
       "<caption>A data.frame: 6 × 6</caption>\n",
       "<thead>\n",
       "\t<tr><th></th><th scope=col>A</th><th scope=col>B</th><th scope=col>C</th><th scope=col>D</th><th scope=col>E</th><th scope=col>F</th></tr>\n",
       "\t<tr><th></th><th scope=col>&lt;int&gt;</th><th scope=col>&lt;dbl&gt;</th><th scope=col>&lt;dbl&gt;</th><th scope=col>&lt;fct&gt;</th><th scope=col>&lt;fct&gt;</th><th scope=col>&lt;fct&gt;</th></tr>\n",
       "</thead>\n",
       "<tbody>\n",
       "\t<tr><th scope=row>1</th><td>1</td><td> 0.5</td><td>  6.25</td><td>C1</td><td>Control</td><td>R1</td></tr>\n",
       "\t<tr><th scope=row>2</th><td>2</td><td> 4.5</td><td> 12.50</td><td>C1</td><td>Control</td><td>R1</td></tr>\n",
       "\t<tr><th scope=row>3</th><td>3</td><td>10.0</td><td> 25.00</td><td>C1</td><td>Control</td><td>R1</td></tr>\n",
       "\t<tr><th scope=row>4</th><td>4</td><td>26.0</td><td> 50.00</td><td>C1</td><td>Control</td><td>R1</td></tr>\n",
       "\t<tr><th scope=row>5</th><td>5</td><td>37.0</td><td>100.00</td><td>C1</td><td>Control</td><td>R1</td></tr>\n",
       "\t<tr><th scope=row>6</th><td>6</td><td>32.0</td><td>200.00</td><td>C1</td><td>Control</td><td>R1</td></tr>\n",
       "</tbody>\n",
       "</table>\n"
      ],
      "text/latex": [
       "A data.frame: 6 × 6\n",
       "\\begin{tabular}{r|llllll}\n",
       "  & A & B & C & D & E & F\\\\\n",
       "  & <int> & <dbl> & <dbl> & <fct> & <fct> & <fct>\\\\\n",
       "\\hline\n",
       "\t1 & 1 &  0.5 &   6.25 & C1 & Control & R1\\\\\n",
       "\t2 & 2 &  4.5 &  12.50 & C1 & Control & R1\\\\\n",
       "\t3 & 3 & 10.0 &  25.00 & C1 & Control & R1\\\\\n",
       "\t4 & 4 & 26.0 &  50.00 & C1 & Control & R1\\\\\n",
       "\t5 & 5 & 37.0 & 100.00 & C1 & Control & R1\\\\\n",
       "\t6 & 6 & 32.0 & 200.00 & C1 & Control & R1\\\\\n",
       "\\end{tabular}\n"
      ],
      "text/markdown": [
       "\n",
       "A data.frame: 6 × 6\n",
       "\n",
       "| <!--/--> | A &lt;int&gt; | B &lt;dbl&gt; | C &lt;dbl&gt; | D &lt;fct&gt; | E &lt;fct&gt; | F &lt;fct&gt; |\n",
       "|---|---|---|---|---|---|---|\n",
       "| 1 | 1 |  0.5 |   6.25 | C1 | Control | R1 |\n",
       "| 2 | 2 |  4.5 |  12.50 | C1 | Control | R1 |\n",
       "| 3 | 3 | 10.0 |  25.00 | C1 | Control | R1 |\n",
       "| 4 | 4 | 26.0 |  50.00 | C1 | Control | R1 |\n",
       "| 5 | 5 | 37.0 | 100.00 | C1 | Control | R1 |\n",
       "| 6 | 6 | 32.0 | 200.00 | C1 | Control | R1 |\n",
       "\n"
      ],
      "text/plain": [
       "  A B    C      D  E       F \n",
       "1 1  0.5   6.25 C1 Control R1\n",
       "2 2  4.5  12.50 C1 Control R1\n",
       "3 3 10.0  25.00 C1 Control R1\n",
       "4 4 26.0  50.00 C1 Control R1\n",
       "5 5 37.0 100.00 C1 Control R1\n",
       "6 6 32.0 200.00 C1 Control R1"
      ]
     },
     "metadata": {},
     "output_type": "display_data"
    }
   ],
   "source": [
    "# Getting data from file \"rabbit.csv\"\n",
    "rabbit_sample <- read.csv(\"datasets/rabbit.csv\", col.names = c(\"A\", \"B\", \"C\", \"D\", \"E\", \"F\"))\n",
    "\n",
    "# Printing first few lines of the dataframe\n",
    "head(rabbit_sample)"
   ]
  },
  {
   "cell_type": "markdown",
   "metadata": {},
   "source": [
    "### Write CSV Files\n",
    "#### The Syntax\n",
    "```\n",
    "write.csv(x, file = \"\", quote = TRUE, eol = \"\\n\", \n",
    "          na = \"NA\", row.names = TRUE, fileEncoding = \"\")\n",
    "\n",
    "```\n",
    "* A more general implementation is `write.table`. Check `?write.table` for more detail."
   ]
  },
  {
   "cell_type": "markdown",
   "metadata": {},
   "source": [
    "#### Simple Use of `write.csv`"
   ]
  },
  {
   "cell_type": "code",
   "execution_count": 4,
   "metadata": {},
   "outputs": [],
   "source": [
    "# Write the data.frame to \"testing.csv\"\n",
    "write.csv(rabbit_sample, \"datasets/testing.csv\")"
   ]
  },
  {
   "cell_type": "markdown",
   "metadata": {},
   "source": [
    "The file \"testing.csv\" contains:  \n",
    "```\n",
    "\"\",\"A\",\"B\",\"C\",\"D\",\"E\",\"F\"\n",
    "\"1\",1,0.5,6.25,\"C1\",\"Control\",\"R1\"\n",
    "\"2\",2,4.5,12.5,\"C1\",\"Control\",\"R1\"\n",
    "\"3\",3,10,25,\"C1\",\"Control\",\"R1\"\n",
    "\"4\",4,26,50,\"C1\",\"Control\",\"R1\"\n",
    "\"5\",5,37,100,\"C1\",\"Control\",\"R1\"\n",
    "\"6\",6,32,200,\"C1\",\"Control\",\"R1\"\n",
    "```"
   ]
  },
  {
   "cell_type": "markdown",
   "metadata": {},
   "source": [
    "## XLSX Files"
   ]
  },
  {
   "cell_type": "markdown",
   "metadata": {},
   "source": [
    "### Read XLSX Files\n",
    "\n",
    "#### The Syntax\n",
    "\n",
    "```\n",
    "read.xlsx(\n",
    "       file,\n",
    "       sheetIndex,\n",
    "       sheetName = NULL,\n",
    "       rowIndex = NULL,\n",
    "       startRow = NULL,\n",
    "       endRow = NULL,\n",
    "       colIndex = NULL,\n",
    "       as.data.frame = TRUE,\n",
    "       header = TRUE,\n",
    "       colClasses = NA,\n",
    "       keepFormulas = FALSE,\n",
    "       encoding = \"unknown\",\n",
    "       password = NULL,\n",
    "       ...\n",
    ")\n",
    "```\n",
    "Here ... are other arguments to ‘data.frame’, for example ‘stringsAsFactors’"
   ]
  },
  {
   "cell_type": "markdown",
   "metadata": {},
   "source": [
    "#### Read a CSV File with Default Options\n",
    "\n",
    "* `xlsx::read.xlsx` returns a data.frame\n",
    "* The xlsx file used for demonstration contains the following data:"
   ]
  },
  {
   "cell_type": "markdown",
   "metadata": {},
   "source": [
    "![title](img/Fig_02_01.png)"
   ]
  },
  {
   "cell_type": "code",
   "execution_count": 5,
   "metadata": {},
   "outputs": [
    {
     "data": {
      "text/html": [
       "<table>\n",
       "<caption>A data.frame: 6 × 6</caption>\n",
       "<thead>\n",
       "\t<tr><th></th><th scope=col>NA.</th><th scope=col>Sepal.Length</th><th scope=col>Sepal.Width</th><th scope=col>Petal.Length</th><th scope=col>Petal.Width</th><th scope=col>Species</th></tr>\n",
       "\t<tr><th></th><th scope=col>&lt;fct&gt;</th><th scope=col>&lt;dbl&gt;</th><th scope=col>&lt;dbl&gt;</th><th scope=col>&lt;dbl&gt;</th><th scope=col>&lt;dbl&gt;</th><th scope=col>&lt;fct&gt;</th></tr>\n",
       "</thead>\n",
       "<tbody>\n",
       "\t<tr><th scope=row>1</th><td>1</td><td>5.1</td><td>3.5</td><td>1.4</td><td>0.2</td><td>setosa</td></tr>\n",
       "\t<tr><th scope=row>2</th><td>2</td><td>4.9</td><td>3.0</td><td>1.4</td><td>0.2</td><td>setosa</td></tr>\n",
       "\t<tr><th scope=row>3</th><td>3</td><td>4.7</td><td>3.2</td><td>1.3</td><td>0.2</td><td>setosa</td></tr>\n",
       "\t<tr><th scope=row>4</th><td>4</td><td>4.6</td><td>3.1</td><td>1.5</td><td>0.2</td><td>setosa</td></tr>\n",
       "\t<tr><th scope=row>5</th><td>5</td><td>5.0</td><td>3.6</td><td>1.4</td><td>0.2</td><td>setosa</td></tr>\n",
       "\t<tr><th scope=row>6</th><td>6</td><td>5.4</td><td>3.9</td><td>1.7</td><td>0.4</td><td>setosa</td></tr>\n",
       "</tbody>\n",
       "</table>\n"
      ],
      "text/latex": [
       "A data.frame: 6 × 6\n",
       "\\begin{tabular}{r|llllll}\n",
       "  & NA. & Sepal.Length & Sepal.Width & Petal.Length & Petal.Width & Species\\\\\n",
       "  & <fct> & <dbl> & <dbl> & <dbl> & <dbl> & <fct>\\\\\n",
       "\\hline\n",
       "\t1 & 1 & 5.1 & 3.5 & 1.4 & 0.2 & setosa\\\\\n",
       "\t2 & 2 & 4.9 & 3.0 & 1.4 & 0.2 & setosa\\\\\n",
       "\t3 & 3 & 4.7 & 3.2 & 1.3 & 0.2 & setosa\\\\\n",
       "\t4 & 4 & 4.6 & 3.1 & 1.5 & 0.2 & setosa\\\\\n",
       "\t5 & 5 & 5.0 & 3.6 & 1.4 & 0.2 & setosa\\\\\n",
       "\t6 & 6 & 5.4 & 3.9 & 1.7 & 0.4 & setosa\\\\\n",
       "\\end{tabular}\n"
      ],
      "text/markdown": [
       "\n",
       "A data.frame: 6 × 6\n",
       "\n",
       "| <!--/--> | NA. &lt;fct&gt; | Sepal.Length &lt;dbl&gt; | Sepal.Width &lt;dbl&gt; | Petal.Length &lt;dbl&gt; | Petal.Width &lt;dbl&gt; | Species &lt;fct&gt; |\n",
       "|---|---|---|---|---|---|---|\n",
       "| 1 | 1 | 5.1 | 3.5 | 1.4 | 0.2 | setosa |\n",
       "| 2 | 2 | 4.9 | 3.0 | 1.4 | 0.2 | setosa |\n",
       "| 3 | 3 | 4.7 | 3.2 | 1.3 | 0.2 | setosa |\n",
       "| 4 | 4 | 4.6 | 3.1 | 1.5 | 0.2 | setosa |\n",
       "| 5 | 5 | 5.0 | 3.6 | 1.4 | 0.2 | setosa |\n",
       "| 6 | 6 | 5.4 | 3.9 | 1.7 | 0.4 | setosa |\n",
       "\n"
      ],
      "text/plain": [
       "  NA. Sepal.Length Sepal.Width Petal.Length Petal.Width Species\n",
       "1 1   5.1          3.5         1.4          0.2         setosa \n",
       "2 2   4.9          3.0         1.4          0.2         setosa \n",
       "3 3   4.7          3.2         1.3          0.2         setosa \n",
       "4 4   4.6          3.1         1.5          0.2         setosa \n",
       "5 5   5.0          3.6         1.4          0.2         setosa \n",
       "6 6   5.4          3.9         1.7          0.4         setosa "
      ]
     },
     "metadata": {},
     "output_type": "display_data"
    }
   ],
   "source": [
    "# Loading the xlsx library\n",
    "library(xlsx)\n",
    "\n",
    "# Get the iris dataset from iris.xlsx, the second argument is the index of the worksheet in the xlsx file.\n",
    "iris_table <- xlsx::read.xlsx(\"datasets/iris.xlsx\", 1)\n",
    "\n",
    "# Print first few lines of the table\n",
    "head(iris_table)"
   ]
  },
  {
   "cell_type": "markdown",
   "metadata": {},
   "source": [
    "### Write XLSX Files\n",
    "\n",
    "#### The Syntax\n",
    "\n",
    "```\n",
    "write.xlsx(\n",
    "       x,\n",
    "       file,\n",
    "       sheetName = \"Sheet1\",\n",
    "       col.names = TRUE,\n",
    "       row.names = TRUE,\n",
    "       append = FALSE,\n",
    "       showNA = TRUE,\n",
    "       password = NULL\n",
    "     )\n",
    "```"
   ]
  },
  {
   "cell_type": "markdown",
   "metadata": {},
   "source": [
    "#### Write a CSV File with Default Options"
   ]
  },
  {
   "cell_type": "code",
   "execution_count": 6,
   "metadata": {},
   "outputs": [],
   "source": [
    "# Staff table to export\n",
    "staff_table = data.frame(\n",
    "    ID = c(1L, 2L, 3L, 4L),\n",
    "    Name = c(\"Tom\", \"Ann\", \"Peter\", \"Kelly\"), \n",
    "    Phone = c(73490245L, 77990904L, 47876737L, 35146136L)\n",
    ")\n",
    "\n",
    "# Write the xlsx file to the file namely staff_table.xlsx\n",
    "xlsx::write.xlsx(staff_table, \"datasets/staff_table.xlsx\", append = FALSE)"
   ]
  },
  {
   "cell_type": "markdown",
   "metadata": {},
   "source": [
    "* The output xlsx file:\n",
    "\n",
    "![title](img/Fig_02_02.png)"
   ]
  },
  {
   "cell_type": "markdown",
   "metadata": {},
   "source": [
    "# Database"
   ]
  },
  {
   "cell_type": "markdown",
   "metadata": {},
   "source": [
    "## MySQL\n",
    "\n",
    "### Connect to MySQL Server\n",
    "\n",
    "To connection to MySQL servers, we need to include two libraries:"
   ]
  },
  {
   "cell_type": "code",
   "execution_count": 7,
   "metadata": {},
   "outputs": [],
   "source": [
    "# Include libraries for MySQL connection\n",
    "library(DBI)\n",
    "library(RMySQL)"
   ]
  },
  {
   "cell_type": "markdown",
   "metadata": {},
   "source": [
    "Then we connect to database namely \"classicmodels\" on the MySQL server at 127.0.0.1 using function DBI::dbConnect:"
   ]
  },
  {
   "cell_type": "code",
   "execution_count": 8,
   "metadata": {},
   "outputs": [],
   "source": [
    "# Create a connection object and store it in \"con\"\n",
    "con <- DBI::dbConnect(RMySQL::MySQL(),          # The driver to communicate with the server\n",
    "                      dbname=\"classicmodels\",   # The name of the database to access on the server\n",
    "                      host=\"127.0.0.1\",         # The ip / URL / hostname of the server\n",
    "                      user=\"alan\",              # user name to login\n",
    "                      password=\"password\")      # password for the user ID"
   ]
  },
  {
   "cell_type": "markdown",
   "metadata": {},
   "source": [
    "Now the connection pipe is stored in object `con`. To list tables, we could use `DBI::dbListTables`."
   ]
  },
  {
   "cell_type": "code",
   "execution_count": 9,
   "metadata": {},
   "outputs": [
    {
     "data": {
      "text/html": [
       "<style>\n",
       ".list-inline {list-style: none; margin:0; padding: 0}\n",
       ".list-inline>li {display: inline-block}\n",
       ".list-inline>li:not(:last-child)::after {content: \"\\00b7\"; padding: 0 .5ex}\n",
       "</style>\n",
       "<ol class=list-inline><li>'committees'</li><li>'customers'</li><li>'employees'</li><li>'members'</li><li>'offices'</li><li>'orderdetails'</li><li>'orders'</li><li>'payments'</li><li>'productlines'</li><li>'products'</li></ol>\n"
      ],
      "text/latex": [
       "\\begin{enumerate*}\n",
       "\\item 'committees'\n",
       "\\item 'customers'\n",
       "\\item 'employees'\n",
       "\\item 'members'\n",
       "\\item 'offices'\n",
       "\\item 'orderdetails'\n",
       "\\item 'orders'\n",
       "\\item 'payments'\n",
       "\\item 'productlines'\n",
       "\\item 'products'\n",
       "\\end{enumerate*}\n"
      ],
      "text/markdown": [
       "1. 'committees'\n",
       "2. 'customers'\n",
       "3. 'employees'\n",
       "4. 'members'\n",
       "5. 'offices'\n",
       "6. 'orderdetails'\n",
       "7. 'orders'\n",
       "8. 'payments'\n",
       "9. 'productlines'\n",
       "10. 'products'\n",
       "\n",
       "\n"
      ],
      "text/plain": [
       " [1] \"committees\"   \"customers\"    \"employees\"    \"members\"      \"offices\"     \n",
       " [6] \"orderdetails\" \"orders\"       \"payments\"     \"productlines\" \"products\"    "
      ]
     },
     "metadata": {},
     "output_type": "display_data"
    }
   ],
   "source": [
    "# Get the list of table in the database\n",
    "DBI::dbListTables(conn = con)"
   ]
  },
  {
   "cell_type": "markdown",
   "metadata": {},
   "source": [
    "### Reading Tables Through the DBI Interface"
   ]
  },
  {
   "cell_type": "markdown",
   "metadata": {},
   "source": [
    "#### Using `DBI::dbGetQuery`\n",
    "\n",
    "* Syntax:\n",
    "```\n",
    "dbGetQuery(conn, statement, ...)\n",
    "```\n",
    "* `DBI::dbGetQuery` returns a data.frame."
   ]
  },
  {
   "cell_type": "code",
   "execution_count": 10,
   "metadata": {
    "scrolled": true
   },
   "outputs": [
    {
     "name": "stdout",
     "output_type": "stream",
     "text": [
      "\n",
      "The type of the output object: data.frame . \n"
     ]
    },
    {
     "data": {
      "text/html": [
       "<table>\n",
       "<caption>A data.frame: 6 × 3</caption>\n",
       "<thead>\n",
       "\t<tr><th></th><th scope=col>customerNumber</th><th scope=col>customerName</th><th scope=col>phone</th></tr>\n",
       "\t<tr><th></th><th scope=col>&lt;int&gt;</th><th scope=col>&lt;chr&gt;</th><th scope=col>&lt;chr&gt;</th></tr>\n",
       "</thead>\n",
       "<tbody>\n",
       "\t<tr><th scope=row>1</th><td>103</td><td>Atelier graphique           </td><td>40.32.2555  </td></tr>\n",
       "\t<tr><th scope=row>2</th><td>112</td><td>Signal Gift Stores          </td><td>7025551838  </td></tr>\n",
       "\t<tr><th scope=row>3</th><td>114</td><td>Australian Collectors, Co.  </td><td>03 9520 4555</td></tr>\n",
       "\t<tr><th scope=row>4</th><td>119</td><td>La Rochelle Gifts           </td><td>40.67.8555  </td></tr>\n",
       "\t<tr><th scope=row>5</th><td>121</td><td>Baane Mini Imports          </td><td>07-98 9555  </td></tr>\n",
       "\t<tr><th scope=row>6</th><td>124</td><td>Mini Gifts Distributors Ltd.</td><td>4155551450  </td></tr>\n",
       "</tbody>\n",
       "</table>\n"
      ],
      "text/latex": [
       "A data.frame: 6 × 3\n",
       "\\begin{tabular}{r|lll}\n",
       "  & customerNumber & customerName & phone\\\\\n",
       "  & <int> & <chr> & <chr>\\\\\n",
       "\\hline\n",
       "\t1 & 103 & Atelier graphique            & 40.32.2555  \\\\\n",
       "\t2 & 112 & Signal Gift Stores           & 7025551838  \\\\\n",
       "\t3 & 114 & Australian Collectors, Co.   & 03 9520 4555\\\\\n",
       "\t4 & 119 & La Rochelle Gifts            & 40.67.8555  \\\\\n",
       "\t5 & 121 & Baane Mini Imports           & 07-98 9555  \\\\\n",
       "\t6 & 124 & Mini Gifts Distributors Ltd. & 4155551450  \\\\\n",
       "\\end{tabular}\n"
      ],
      "text/markdown": [
       "\n",
       "A data.frame: 6 × 3\n",
       "\n",
       "| <!--/--> | customerNumber &lt;int&gt; | customerName &lt;chr&gt; | phone &lt;chr&gt; |\n",
       "|---|---|---|---|\n",
       "| 1 | 103 | Atelier graphique            | 40.32.2555   |\n",
       "| 2 | 112 | Signal Gift Stores           | 7025551838   |\n",
       "| 3 | 114 | Australian Collectors, Co.   | 03 9520 4555 |\n",
       "| 4 | 119 | La Rochelle Gifts            | 40.67.8555   |\n",
       "| 5 | 121 | Baane Mini Imports           | 07-98 9555   |\n",
       "| 6 | 124 | Mini Gifts Distributors Ltd. | 4155551450   |\n",
       "\n"
      ],
      "text/plain": [
       "  customerNumber customerName                 phone       \n",
       "1 103            Atelier graphique            40.32.2555  \n",
       "2 112            Signal Gift Stores           7025551838  \n",
       "3 114            Australian Collectors, Co.   03 9520 4555\n",
       "4 119            La Rochelle Gifts            40.67.8555  \n",
       "5 121            Baane Mini Imports           07-98 9555  \n",
       "6 124            Mini Gifts Distributors Ltd. 4155551450  "
      ]
     },
     "metadata": {},
     "output_type": "display_data"
    }
   ],
   "source": [
    "# Get the data.frame from the database based on the SQL statement\n",
    "select_result <- DBI::dbGetQuery(conn = con, statement = \"\n",
    "    select customerNumber,customerName,phone from customers;\n",
    "\")\n",
    "\n",
    "# Print out the class of the object select_result\n",
    "cat(\"\\nThe type of the output object:\", class(select_result) ,\". \\n\")\n",
    "\n",
    "# Print first few lines of the object select_result\n",
    "head(select_result) "
   ]
  },
  {
   "cell_type": "markdown",
   "metadata": {},
   "source": [
    "#### Using `DBI::dbSendQuery` and `DBI::dbFetch`\n",
    "\n",
    "* Syntax:\n",
    "```\n",
    "dbSendQuery(conn, statement, ...)\n",
    "```\n",
    "* `DBI::dbSendQuery` returns a S4 object. The S4 object can be translate to data.frame by `DBI::dbFetch`.\n",
    "* The syntax of `DBI::dbFetch` :\n",
    "  ```\n",
    "  dbFetch(res, n = -1, ...)\n",
    "  ```\n",
    "    - Here $n$ is the number of records to retrieve."
   ]
  },
  {
   "cell_type": "code",
   "execution_count": 11,
   "metadata": {
    "scrolled": true
   },
   "outputs": [
    {
     "name": "stdout",
     "output_type": "stream",
     "text": [
      "\n",
      "The type of the output object: data.frame . \n"
     ]
    },
    {
     "data": {
      "text/html": [
       "<table>\n",
       "<caption>A data.frame: 6 × 3</caption>\n",
       "<thead>\n",
       "\t<tr><th></th><th scope=col>customerNumber</th><th scope=col>customerName</th><th scope=col>state</th></tr>\n",
       "\t<tr><th></th><th scope=col>&lt;int&gt;</th><th scope=col>&lt;chr&gt;</th><th scope=col>&lt;chr&gt;</th></tr>\n",
       "</thead>\n",
       "<tbody>\n",
       "\t<tr><th scope=row>1</th><td>103</td><td>Atelier graphique           </td><td>NA      </td></tr>\n",
       "\t<tr><th scope=row>2</th><td>112</td><td>Signal Gift Stores          </td><td>NV      </td></tr>\n",
       "\t<tr><th scope=row>3</th><td>114</td><td>Australian Collectors, Co.  </td><td>Victoria</td></tr>\n",
       "\t<tr><th scope=row>4</th><td>119</td><td>La Rochelle Gifts           </td><td>NA      </td></tr>\n",
       "\t<tr><th scope=row>5</th><td>121</td><td>Baane Mini Imports          </td><td>NA      </td></tr>\n",
       "\t<tr><th scope=row>6</th><td>124</td><td>Mini Gifts Distributors Ltd.</td><td>CA      </td></tr>\n",
       "</tbody>\n",
       "</table>\n"
      ],
      "text/latex": [
       "A data.frame: 6 × 3\n",
       "\\begin{tabular}{r|lll}\n",
       "  & customerNumber & customerName & state\\\\\n",
       "  & <int> & <chr> & <chr>\\\\\n",
       "\\hline\n",
       "\t1 & 103 & Atelier graphique            & NA      \\\\\n",
       "\t2 & 112 & Signal Gift Stores           & NV      \\\\\n",
       "\t3 & 114 & Australian Collectors, Co.   & Victoria\\\\\n",
       "\t4 & 119 & La Rochelle Gifts            & NA      \\\\\n",
       "\t5 & 121 & Baane Mini Imports           & NA      \\\\\n",
       "\t6 & 124 & Mini Gifts Distributors Ltd. & CA      \\\\\n",
       "\\end{tabular}\n"
      ],
      "text/markdown": [
       "\n",
       "A data.frame: 6 × 3\n",
       "\n",
       "| <!--/--> | customerNumber &lt;int&gt; | customerName &lt;chr&gt; | state &lt;chr&gt; |\n",
       "|---|---|---|---|\n",
       "| 1 | 103 | Atelier graphique            | NA       |\n",
       "| 2 | 112 | Signal Gift Stores           | NV       |\n",
       "| 3 | 114 | Australian Collectors, Co.   | Victoria |\n",
       "| 4 | 119 | La Rochelle Gifts            | NA       |\n",
       "| 5 | 121 | Baane Mini Imports           | NA       |\n",
       "| 6 | 124 | Mini Gifts Distributors Ltd. | CA       |\n",
       "\n"
      ],
      "text/plain": [
       "  customerNumber customerName                 state   \n",
       "1 103            Atelier graphique            NA      \n",
       "2 112            Signal Gift Stores           NV      \n",
       "3 114            Australian Collectors, Co.   Victoria\n",
       "4 119            La Rochelle Gifts            NA      \n",
       "5 121            Baane Mini Imports           NA      \n",
       "6 124            Mini Gifts Distributors Ltd. CA      "
      ]
     },
     "metadata": {},
     "output_type": "display_data"
    }
   ],
   "source": [
    "# Get the S4 object from the database based on the SQL statement\n",
    "select_result_raw <- DBI::dbSendQuery(conn = con, statement = \"\n",
    "    select customerNumber,customerName,state from customers;\n",
    "\")\n",
    "\n",
    "# Translate the S4 object into data.frame\n",
    "select_result <- DBI::dbFetch(select_result_raw)\n",
    "\n",
    "# Print the class of the object select_result\n",
    "cat(\"\\nThe type of the output object:\", class(select_result) ,\". \\n\")\n",
    "\n",
    "# Print first few lines of the object select_result\n",
    "head(select_result) "
   ]
  },
  {
   "cell_type": "markdown",
   "metadata": {},
   "source": [
    "#### Getting the Whole Table\n",
    "\n",
    "* If we want to retrieve the whole table, `DBI::dbReadTable` will be a shorter command."
   ]
  },
  {
   "cell_type": "code",
   "execution_count": 12,
   "metadata": {},
   "outputs": [
    {
     "name": "stdout",
     "output_type": "stream",
     "text": [
      "  officeCode          city           phone         addressLine1 addressLine2\n",
      "1          1 San Francisco +1 650 219 4782    100 Market Street    Suite 300\n",
      "2          2        Boston +1 215 837 0825     1550 Court Place    Suite 102\n",
      "3          3           NYC +1 212 555 3000 523 East 53rd Street      apt. 5A\n",
      "  state country postalCode territory\n",
      "1    CA     USA      94080        NA\n",
      "2    MA     USA      02107        NA\n",
      "3    NY     USA      10022        NA\n"
     ]
    }
   ],
   "source": [
    "# Storing the Whole Table\n",
    "whole_table <- DBI::dbReadTable(con, \"offices\")\n",
    "\n",
    "# Show the first few lines of the data.frame whole_table\n",
    "print(whole_table[1:3,])"
   ]
  },
  {
   "cell_type": "markdown",
   "metadata": {},
   "source": [
    "### Adding an Entry to a Table\n",
    "\n",
    "* There are two routine to add entries to tables. But I found only `DBI::dbWriteTable` is working in the current scenario.\n",
    "* `DBI::dbWriteTable` has a syntax:\n",
    "  ```\n",
    "  dbWriteTable(conn, name, value, ...)\n",
    "  ```\n",
    "  - `...` includes:\n",
    "    1. ‘row.names’ (default: ‘FALSE’)\n",
    "    2. ‘overwrite’ (default: ‘FALSE’)\n",
    "    3. ‘append’ (default: ‘FALSE’)\n",
    "    4. ‘field.types’ (default: ‘NULL’)\n",
    "    5. ‘temporary’ (default: ‘FALSE’)"
   ]
  },
  {
   "cell_type": "code",
   "execution_count": 13,
   "metadata": {
    "scrolled": true
   },
   "outputs": [
    {
     "name": "stdout",
     "output_type": "stream",
     "text": [
      "  customerNumber customerName state     phone\n",
      "1           1001          Tom    NA 173173173\n",
      "2           1002         Mary    NY 246246246\n"
     ]
    },
    {
     "data": {
      "text/html": [
       "TRUE"
      ],
      "text/latex": [
       "TRUE"
      ],
      "text/markdown": [
       "TRUE"
      ],
      "text/plain": [
       "[1] TRUE"
      ]
     },
     "metadata": {},
     "output_type": "display_data"
    },
    {
     "data": {
      "text/html": [
       "<table>\n",
       "<caption>A data.frame: 2 × 4</caption>\n",
       "<thead>\n",
       "\t<tr><th></th><th scope=col>customerNumber</th><th scope=col>customerName</th><th scope=col>state</th><th scope=col>phone</th></tr>\n",
       "\t<tr><th></th><th scope=col>&lt;int&gt;</th><th scope=col>&lt;chr&gt;</th><th scope=col>&lt;chr&gt;</th><th scope=col>&lt;chr&gt;</th></tr>\n",
       "</thead>\n",
       "<tbody>\n",
       "\t<tr><th scope=row>1</th><td>1001</td><td>Tom </td><td>NA</td><td>173173173</td></tr>\n",
       "\t<tr><th scope=row>2</th><td>1002</td><td>Mary</td><td>NY</td><td>246246246</td></tr>\n",
       "</tbody>\n",
       "</table>\n"
      ],
      "text/latex": [
       "A data.frame: 2 × 4\n",
       "\\begin{tabular}{r|llll}\n",
       "  & customerNumber & customerName & state & phone\\\\\n",
       "  & <int> & <chr> & <chr> & <chr>\\\\\n",
       "\\hline\n",
       "\t1 & 1001 & Tom  & NA & 173173173\\\\\n",
       "\t2 & 1002 & Mary & NY & 246246246\\\\\n",
       "\\end{tabular}\n"
      ],
      "text/markdown": [
       "\n",
       "A data.frame: 2 × 4\n",
       "\n",
       "| <!--/--> | customerNumber &lt;int&gt; | customerName &lt;chr&gt; | state &lt;chr&gt; | phone &lt;chr&gt; |\n",
       "|---|---|---|---|---|\n",
       "| 1 | 1001 | Tom  | NA | 173173173 |\n",
       "| 2 | 1002 | Mary | NY | 246246246 |\n",
       "\n"
      ],
      "text/plain": [
       "  customerNumber customerName state phone    \n",
       "1 1001           Tom          NA    173173173\n",
       "2 1002           Mary         NY    246246246"
      ]
     },
     "metadata": {},
     "output_type": "display_data"
    }
   ],
   "source": [
    "# Create a data.frame for new entries\n",
    "new_entry = data.frame(\n",
    "    customerNumber = c(1001L,1002L),\n",
    "    customerName = c(\"Tom\", \"Mary\"),\n",
    "    state = c(\"NA\", \"NY\"),\n",
    "    phone = c(173173173, 246246246)\n",
    ")\n",
    "\n",
    "# Show the content of the new entries\n",
    "print(new_entry)\n",
    "\n",
    "# Appending new rows in the table namely customers\n",
    "DBI::dbWriteTable(conn = con, \"customers\", new_entry, append=TRUE, row.names=FALSE)\n",
    "\n",
    "# Print out the new entries to show their existence\n",
    "select_result <- DBI::dbGetQuery(conn = con, statement = \"\n",
    "    select customerNumber,customerName,state,phone from customers where customerNumber > 1000;\n",
    "\")\n",
    "\n",
    "# Print first few lines of the object select_result\n",
    "head(select_result) "
   ]
  },
  {
   "cell_type": "markdown",
   "metadata": {},
   "source": [
    "### Deleting an Entry from a Table\n",
    "* DBI seems not include a routine to delete an entry from tables. However SQL statement is still a working option."
   ]
  },
  {
   "cell_type": "code",
   "execution_count": 14,
   "metadata": {},
   "outputs": [
    {
     "data": {
      "text/html": [
       "<table>\n",
       "<caption>A data.frame: 0 × 4</caption>\n",
       "<thead>\n",
       "\t<tr><th scope=col>customerNumber</th><th scope=col>customerName</th><th scope=col>state</th><th scope=col>phone</th></tr>\n",
       "\t<tr><th scope=col>&lt;int&gt;</th><th scope=col>&lt;chr&gt;</th><th scope=col>&lt;chr&gt;</th><th scope=col>&lt;chr&gt;</th></tr>\n",
       "</thead>\n",
       "<tbody>\n",
       "</tbody>\n",
       "</table>\n"
      ],
      "text/latex": [
       "A data.frame: 0 × 4\n",
       "\\begin{tabular}{llll}\n",
       " customerNumber & customerName & state & phone\\\\\n",
       " <int> & <chr> & <chr> & <chr>\\\\\n",
       "\\hline\n",
       "\\end{tabular}\n"
      ],
      "text/markdown": [
       "\n",
       "A data.frame: 0 × 4\n",
       "\n",
       "| customerNumber &lt;int&gt; | customerName &lt;chr&gt; | state &lt;chr&gt; | phone &lt;chr&gt; |\n",
       "|---|---|---|---|\n",
       "\n"
      ],
      "text/plain": [
       "     customerNumber customerName state phone"
      ]
     },
     "metadata": {},
     "output_type": "display_data"
    }
   ],
   "source": [
    "# Delete the entries by a SQL comment\n",
    "result <- DBI::dbSendStatement(con, \"delete from customers where customernumber > 1000 ;\")\n",
    "\n",
    "# Attempted to select new records to show the deletion\n",
    "select_result <- DBI::dbGetQuery(conn = con, statement = \"\n",
    "    select customerNumber,customerName,state,phone from customers where customerNumber > 1000;\n",
    "\")\n",
    "\n",
    "# Print first few lines of the object select_result\n",
    "head(select_result) "
   ]
  },
  {
   "cell_type": "markdown",
   "metadata": {},
   "source": [
    "### Disconnect the Databse"
   ]
  },
  {
   "cell_type": "code",
   "execution_count": 15,
   "metadata": {},
   "outputs": [
    {
     "data": {
      "text/html": [
       "TRUE"
      ],
      "text/latex": [
       "TRUE"
      ],
      "text/markdown": [
       "TRUE"
      ],
      "text/plain": [
       "[1] TRUE"
      ]
     },
     "metadata": {},
     "output_type": "display_data"
    }
   ],
   "source": [
    "# The connection stored in con will be disconnected\n",
    "DBI::dbDisconnect(con)"
   ]
  },
  {
   "cell_type": "markdown",
   "metadata": {},
   "source": [
    "## SQLite"
   ]
  },
  {
   "cell_type": "markdown",
   "metadata": {},
   "source": [
    "### Open a SQLite File\n",
    "\n",
    "* Like MySQL, this operation requires DBI library, while RSQLite is the driver pacakge to enable the connection."
   ]
  },
  {
   "cell_type": "code",
   "execution_count": 16,
   "metadata": {},
   "outputs": [],
   "source": [
    "# Loading the required libraries\n",
    "library(DBI, RSQLite)"
   ]
  },
  {
   "cell_type": "markdown",
   "metadata": {},
   "source": [
    "* SQLite is server-less. The database is stored in a database file. Once the database file is connected, we may use it as if a SQL server.\n",
    "* Like the MySQL example, we used `DBI::dbConnect` to open the sqlite file and store the connection object in `con`.\n",
    "* There is an importent option called `flags`. This option controls the mode of database file opening.\n",
    "  - If ``flags=RSQLite::SQLITE_RWC `` implies the database file is readable, writable, and creatable (if it does not exist).\n",
    "  - If ``flags=RSQLite::SQLITE_RO `` implies the database file will be read-only in the follow operation.\n",
    "  - ``flags=RSQLite::SQLITE_RWC `` is the default."
   ]
  },
  {
   "cell_type": "code",
   "execution_count": 17,
   "metadata": {},
   "outputs": [],
   "source": [
    "# Open the sqlite file and store the connection object in con\n",
    "con <- DBI::dbConnect(RSQLite::SQLite(), \"datasets/patient_record.sqlite\", flags=RSQLite::SQLITE_RWC)"
   ]
  },
  {
   "cell_type": "markdown",
   "metadata": {},
   "source": [
    "* Here we may query the list of tables inside the database."
   ]
  },
  {
   "cell_type": "code",
   "execution_count": 18,
   "metadata": {},
   "outputs": [
    {
     "data": {
      "text/html": [
       "<style>\n",
       ".list-inline {list-style: none; margin:0; padding: 0}\n",
       ".list-inline>li {display: inline-block}\n",
       ".list-inline>li:not(:last-child)::after {content: \"\\00b7\"; padding: 0 .5ex}\n",
       "</style>\n",
       "<ol class=list-inline><li>'Hospitals'</li><li>'PatientRecord'</li><li>'Patients'</li></ol>\n"
      ],
      "text/latex": [
       "\\begin{enumerate*}\n",
       "\\item 'Hospitals'\n",
       "\\item 'PatientRecord'\n",
       "\\item 'Patients'\n",
       "\\end{enumerate*}\n"
      ],
      "text/markdown": [
       "1. 'Hospitals'\n",
       "2. 'PatientRecord'\n",
       "3. 'Patients'\n",
       "\n",
       "\n"
      ],
      "text/plain": [
       "[1] \"Hospitals\"     \"PatientRecord\" \"Patients\"     "
      ]
     },
     "metadata": {},
     "output_type": "display_data"
    }
   ],
   "source": [
    "# Getting the list of table\n",
    "DBI::dbListTables(con)"
   ]
  },
  {
   "cell_type": "markdown",
   "metadata": {},
   "source": [
    "### Reading Tables Through DBI Functions\n",
    "* Like the examples in the MySQL section, DBI functions are workable in SQLite."
   ]
  },
  {
   "cell_type": "markdown",
   "metadata": {},
   "source": [
    "#### Using `DBI::dbGetQuery`"
   ]
  },
  {
   "cell_type": "code",
   "execution_count": 19,
   "metadata": {},
   "outputs": [
    {
     "data": {
      "text/html": [
       "<table>\n",
       "<caption>A data.frame: 6 × 5</caption>\n",
       "<thead>\n",
       "\t<tr><th></th><th scope=col>Name</th><th scope=col>StartDate</th><th scope=col>EndDate</th><th scope=col>Hospital</th><th scope=col>Ward</th></tr>\n",
       "\t<tr><th></th><th scope=col>&lt;chr&gt;</th><th scope=col>&lt;chr&gt;</th><th scope=col>&lt;chr&gt;</th><th scope=col>&lt;chr&gt;</th><th scope=col>&lt;chr&gt;</th></tr>\n",
       "</thead>\n",
       "<tbody>\n",
       "\t<tr><th scope=row>1</th><td>Chantelle</td><td>2000-04-16</td><td>2000-04-21</td><td>RH</td><td>8C</td></tr>\n",
       "\t<tr><th scope=row>2</th><td>Tonita   </td><td>2000-09-16</td><td>2000-09-26</td><td>RH</td><td>4C</td></tr>\n",
       "\t<tr><th scope=row>3</th><td>Ned      </td><td>2000-10-21</td><td>2000-10-26</td><td>RH</td><td>6A</td></tr>\n",
       "\t<tr><th scope=row>4</th><td>Silva    </td><td>2000-10-25</td><td>2000-10-30</td><td>RH</td><td>9A</td></tr>\n",
       "\t<tr><th scope=row>5</th><td>Johnnie  </td><td>2001-02-10</td><td>2001-02-15</td><td>RH</td><td>7A</td></tr>\n",
       "\t<tr><th scope=row>6</th><td>Chantelle</td><td>2001-03-29</td><td>2001-04-04</td><td>RH</td><td>6B</td></tr>\n",
       "</tbody>\n",
       "</table>\n"
      ],
      "text/latex": [
       "A data.frame: 6 × 5\n",
       "\\begin{tabular}{r|lllll}\n",
       "  & Name & StartDate & EndDate & Hospital & Ward\\\\\n",
       "  & <chr> & <chr> & <chr> & <chr> & <chr>\\\\\n",
       "\\hline\n",
       "\t1 & Chantelle & 2000-04-16 & 2000-04-21 & RH & 8C\\\\\n",
       "\t2 & Tonita    & 2000-09-16 & 2000-09-26 & RH & 4C\\\\\n",
       "\t3 & Ned       & 2000-10-21 & 2000-10-26 & RH & 6A\\\\\n",
       "\t4 & Silva     & 2000-10-25 & 2000-10-30 & RH & 9A\\\\\n",
       "\t5 & Johnnie   & 2001-02-10 & 2001-02-15 & RH & 7A\\\\\n",
       "\t6 & Chantelle & 2001-03-29 & 2001-04-04 & RH & 6B\\\\\n",
       "\\end{tabular}\n"
      ],
      "text/markdown": [
       "\n",
       "A data.frame: 6 × 5\n",
       "\n",
       "| <!--/--> | Name &lt;chr&gt; | StartDate &lt;chr&gt; | EndDate &lt;chr&gt; | Hospital &lt;chr&gt; | Ward &lt;chr&gt; |\n",
       "|---|---|---|---|---|---|\n",
       "| 1 | Chantelle | 2000-04-16 | 2000-04-21 | RH | 8C |\n",
       "| 2 | Tonita    | 2000-09-16 | 2000-09-26 | RH | 4C |\n",
       "| 3 | Ned       | 2000-10-21 | 2000-10-26 | RH | 6A |\n",
       "| 4 | Silva     | 2000-10-25 | 2000-10-30 | RH | 9A |\n",
       "| 5 | Johnnie   | 2001-02-10 | 2001-02-15 | RH | 7A |\n",
       "| 6 | Chantelle | 2001-03-29 | 2001-04-04 | RH | 6B |\n",
       "\n"
      ],
      "text/plain": [
       "  Name      StartDate  EndDate    Hospital Ward\n",
       "1 Chantelle 2000-04-16 2000-04-21 RH       8C  \n",
       "2 Tonita    2000-09-16 2000-09-26 RH       4C  \n",
       "3 Ned       2000-10-21 2000-10-26 RH       6A  \n",
       "4 Silva     2000-10-25 2000-10-30 RH       9A  \n",
       "5 Johnnie   2001-02-10 2001-02-15 RH       7A  \n",
       "6 Chantelle 2001-03-29 2001-04-04 RH       6B  "
      ]
     },
     "metadata": {},
     "output_type": "display_data"
    }
   ],
   "source": [
    "# Get the PatientRecord from the database\n",
    "patient_record_RH <- DBI::dbGetQuery(con, \"select * from PatientRecord where Hospital == \\\"RH\\\";\")\n",
    "\n",
    "# Print first few lines of the object patient_record\n",
    "head(patient_record_RH)"
   ]
  },
  {
   "cell_type": "markdown",
   "metadata": {},
   "source": [
    "#### Using DBI::dbSendQuery and DBI::dbFetch\n",
    "\n",
    "* In SQLite, object returned from `dbSendQuery` need to be cleaned by `dbClearResult` after the usage."
   ]
  },
  {
   "cell_type": "code",
   "execution_count": 20,
   "metadata": {},
   "outputs": [
    {
     "data": {
      "text/html": [
       "<table>\n",
       "<caption>A data.frame: 6 × 2</caption>\n",
       "<thead>\n",
       "\t<tr><th></th><th scope=col>Name</th><th scope=col>count()</th></tr>\n",
       "\t<tr><th></th><th scope=col>&lt;chr&gt;</th><th scope=col>&lt;int&gt;</th></tr>\n",
       "</thead>\n",
       "<tbody>\n",
       "\t<tr><th scope=row>1</th><td>Alleen   </td><td>5</td></tr>\n",
       "\t<tr><th scope=row>2</th><td>Alona    </td><td>2</td></tr>\n",
       "\t<tr><th scope=row>3</th><td>Barb     </td><td>4</td></tr>\n",
       "\t<tr><th scope=row>4</th><td>Bridgett </td><td>2</td></tr>\n",
       "\t<tr><th scope=row>5</th><td>Chantelle</td><td>3</td></tr>\n",
       "\t<tr><th scope=row>6</th><td>Charla   </td><td>3</td></tr>\n",
       "</tbody>\n",
       "</table>\n"
      ],
      "text/latex": [
       "A data.frame: 6 × 2\n",
       "\\begin{tabular}{r|ll}\n",
       "  & Name & count()\\\\\n",
       "  & <chr> & <int>\\\\\n",
       "\\hline\n",
       "\t1 & Alleen    & 5\\\\\n",
       "\t2 & Alona     & 2\\\\\n",
       "\t3 & Barb      & 4\\\\\n",
       "\t4 & Bridgett  & 2\\\\\n",
       "\t5 & Chantelle & 3\\\\\n",
       "\t6 & Charla    & 3\\\\\n",
       "\\end{tabular}\n"
      ],
      "text/markdown": [
       "\n",
       "A data.frame: 6 × 2\n",
       "\n",
       "| <!--/--> | Name &lt;chr&gt; | count() &lt;int&gt; |\n",
       "|---|---|---|\n",
       "| 1 | Alleen    | 5 |\n",
       "| 2 | Alona     | 2 |\n",
       "| 3 | Barb      | 4 |\n",
       "| 4 | Bridgett  | 2 |\n",
       "| 5 | Chantelle | 3 |\n",
       "| 6 | Charla    | 3 |\n",
       "\n"
      ],
      "text/plain": [
       "  Name      count()\n",
       "1 Alleen    5      \n",
       "2 Alona     2      \n",
       "3 Barb      4      \n",
       "4 Bridgett  2      \n",
       "5 Chantelle 3      \n",
       "6 Charla    3      "
      ]
     },
     "metadata": {},
     "output_type": "display_data"
    }
   ],
   "source": [
    "# Get the PatientRecord from the database\n",
    "patient_record_count_raw <- DBI::dbSendQuery(con, \"select Name,count() from PatientRecord group by Name;\")\n",
    "\n",
    "# Fetch the raw data to data.frame \n",
    "patient_record_count <- DBI::dbFetch(patient_record_count_raw)\n",
    "\n",
    "# Clean up the object created by DBI::dbSendQuery\n",
    "DBI::dbClearResult(patient_record_count_raw)\n",
    "\n",
    "# Print first few lines of the object patient_record\n",
    "head(patient_record_count)"
   ]
  },
  {
   "cell_type": "markdown",
   "metadata": {},
   "source": [
    "#### Using `DBI::dbReadTable`"
   ]
  },
  {
   "cell_type": "code",
   "execution_count": 21,
   "metadata": {
    "scrolled": false
   },
   "outputs": [
    {
     "name": "stdout",
     "output_type": "stream",
     "text": [
      "       Name  StartDate    EndDate Hospital Ward\n",
      "1 Chantelle 2000-04-16 2000-04-21       RH   8C\n",
      "2     Silva 2000-05-07 2000-05-16     TSKH   5A\n",
      "3  Maybelle 2000-06-10 2000-06-13     WCHH   5A\n",
      "4 Wilhemina 2000-06-12 2000-06-18     WCHH   5A\n",
      "5    Alleen 2000-07-07 2000-07-17      SJH   6A\n",
      "6   Natalia 2000-07-25 2000-08-02    PYNEH   8B\n"
     ]
    }
   ],
   "source": [
    "# Storing the Whole Table\n",
    "patient_record_all <- DBI::dbReadTable(con, \"PatientRecord\")\n",
    "\n",
    "# Print first few records\n",
    "print(patient_record_all[1:6,])"
   ]
  },
  {
   "cell_type": "markdown",
   "metadata": {},
   "source": [
    "### Adding an Entry to a Table"
   ]
  },
  {
   "cell_type": "code",
   "execution_count": 22,
   "metadata": {},
   "outputs": [
    {
     "data": {
      "text/html": [
       "<table>\n",
       "<caption>A data.frame: 1 × 5</caption>\n",
       "<thead>\n",
       "\t<tr><th scope=col>Name</th><th scope=col>StartDate</th><th scope=col>EndDate</th><th scope=col>Hospital</th><th scope=col>Ward</th></tr>\n",
       "\t<tr><th scope=col>&lt;chr&gt;</th><th scope=col>&lt;chr&gt;</th><th scope=col>&lt;chr&gt;</th><th scope=col>&lt;chr&gt;</th><th scope=col>&lt;chr&gt;</th></tr>\n",
       "</thead>\n",
       "<tbody>\n",
       "\t<tr><td>Dummy</td><td>2020-01-25</td><td>2020-01-28</td><td>XXH</td><td>10C</td></tr>\n",
       "</tbody>\n",
       "</table>\n"
      ],
      "text/latex": [
       "A data.frame: 1 × 5\n",
       "\\begin{tabular}{lllll}\n",
       " Name & StartDate & EndDate & Hospital & Ward\\\\\n",
       " <chr> & <chr> & <chr> & <chr> & <chr>\\\\\n",
       "\\hline\n",
       "\t Dummy & 2020-01-25 & 2020-01-28 & XXH & 10C\\\\\n",
       "\\end{tabular}\n"
      ],
      "text/markdown": [
       "\n",
       "A data.frame: 1 × 5\n",
       "\n",
       "| Name &lt;chr&gt; | StartDate &lt;chr&gt; | EndDate &lt;chr&gt; | Hospital &lt;chr&gt; | Ward &lt;chr&gt; |\n",
       "|---|---|---|---|---|\n",
       "| Dummy | 2020-01-25 | 2020-01-28 | XXH | 10C |\n",
       "\n"
      ],
      "text/plain": [
       "  Name  StartDate  EndDate    Hospital Ward\n",
       "1 Dummy 2020-01-25 2020-01-28 XXH      10C "
      ]
     },
     "metadata": {},
     "output_type": "display_data"
    }
   ],
   "source": [
    "# Making a new entry to the table\n",
    "new_entry <- data.frame(\n",
    "    Name = c(\"Dummy\"),\n",
    "    StartDate = c(\"2020-01-25\"),\n",
    "    EndDate = c(\"2020-01-28\"),\n",
    "    Hospital = c(\"XXH\"),\n",
    "    Ward = c(\"10C\")\n",
    ")\n",
    "\n",
    "# Append the entry to the table\n",
    "DBI::dbWriteTable(con, \"PatientRecord\", new_entry, append = TRUE)\n",
    "\n",
    "# Show that the newly appended entry exist\n",
    "DBI::dbGetQuery(con, \"select * from PatientRecord where Name == 'Dummy';\")"
   ]
  },
  {
   "cell_type": "markdown",
   "metadata": {},
   "source": [
    "### Delete an Entry from a Table\n",
    "\n",
    "* In SQLite, the function `DBI::dbSendStatement` will also return result concerning the SQL outcome. The SQL outcome should be cleaned after used, and before the next SQL statement."
   ]
  },
  {
   "cell_type": "code",
   "execution_count": 23,
   "metadata": {
    "scrolled": true
   },
   "outputs": [
    {
     "data": {
      "text/html": [
       "<table>\n",
       "<caption>A data.frame: 0 × 5</caption>\n",
       "<thead>\n",
       "\t<tr><th scope=col>Name</th><th scope=col>StartDate</th><th scope=col>EndDate</th><th scope=col>Hospital</th><th scope=col>Ward</th></tr>\n",
       "\t<tr><th scope=col>&lt;chr&gt;</th><th scope=col>&lt;chr&gt;</th><th scope=col>&lt;chr&gt;</th><th scope=col>&lt;chr&gt;</th><th scope=col>&lt;chr&gt;</th></tr>\n",
       "</thead>\n",
       "<tbody>\n",
       "</tbody>\n",
       "</table>\n"
      ],
      "text/latex": [
       "A data.frame: 0 × 5\n",
       "\\begin{tabular}{lllll}\n",
       " Name & StartDate & EndDate & Hospital & Ward\\\\\n",
       " <chr> & <chr> & <chr> & <chr> & <chr>\\\\\n",
       "\\hline\n",
       "\\end{tabular}\n"
      ],
      "text/markdown": [
       "\n",
       "A data.frame: 0 × 5\n",
       "\n",
       "| Name &lt;chr&gt; | StartDate &lt;chr&gt; | EndDate &lt;chr&gt; | Hospital &lt;chr&gt; | Ward &lt;chr&gt; |\n",
       "|---|---|---|---|---|\n",
       "\n"
      ],
      "text/plain": [
       "     Name StartDate EndDate Hospital Ward"
      ]
     },
     "metadata": {},
     "output_type": "display_data"
    }
   ],
   "source": [
    "# Running the SQL to Delete the just-append entry\n",
    "DBI::dbClearResult(DBI::dbSendStatement(con, \"delete from PatientRecord where Name == 'Dummy';\"))\n",
    "\n",
    "# Show that the entry nolonger exist\n",
    "DBI::dbGetQuery(con, \"select * from PatientRecord where Name == 'Dummy';\")"
   ]
  },
  {
   "cell_type": "markdown",
   "metadata": {},
   "source": [
    "### Disconnect the Database"
   ]
  },
  {
   "cell_type": "code",
   "execution_count": 24,
   "metadata": {},
   "outputs": [],
   "source": [
    "# Disconnect using dbDisconnect\n",
    "DBI::dbDisconnect(con)"
   ]
  },
  {
   "cell_type": "markdown",
   "metadata": {},
   "source": [
    "# Data Manipulation"
   ]
  },
  {
   "cell_type": "markdown",
   "metadata": {},
   "source": [
    "Loading the SQLite Database for Demonstration. "
   ]
  },
  {
   "cell_type": "code",
   "execution_count": 25,
   "metadata": {},
   "outputs": [],
   "source": [
    "# Open the sqlite file and store the connection object in con\n",
    "con <- DBI::dbConnect(RSQLite::SQLite(), \"datasets/patient_record.sqlite\", flags=RSQLite::SQLITE_RO)"
   ]
  },
  {
   "cell_type": "markdown",
   "metadata": {},
   "source": [
    "In the database, there are three tables:"
   ]
  },
  {
   "cell_type": "code",
   "execution_count": 26,
   "metadata": {},
   "outputs": [
    {
     "data": {
      "text/html": [
       "<style>\n",
       ".list-inline {list-style: none; margin:0; padding: 0}\n",
       ".list-inline>li {display: inline-block}\n",
       ".list-inline>li:not(:last-child)::after {content: \"\\00b7\"; padding: 0 .5ex}\n",
       "</style>\n",
       "<ol class=list-inline><li>'Hospitals'</li><li>'PatientRecord'</li><li>'Patients'</li></ol>\n"
      ],
      "text/latex": [
       "\\begin{enumerate*}\n",
       "\\item 'Hospitals'\n",
       "\\item 'PatientRecord'\n",
       "\\item 'Patients'\n",
       "\\end{enumerate*}\n"
      ],
      "text/markdown": [
       "1. 'Hospitals'\n",
       "2. 'PatientRecord'\n",
       "3. 'Patients'\n",
       "\n",
       "\n"
      ],
      "text/plain": [
       "[1] \"Hospitals\"     \"PatientRecord\" \"Patients\"     "
      ]
     },
     "metadata": {},
     "output_type": "display_data"
    },
    {
     "data": {
      "text/html": [
       "<table>\n",
       "<caption>A data.frame: 6 × 5</caption>\n",
       "<thead>\n",
       "\t<tr><th></th><th scope=col>Name</th><th scope=col>StartDate</th><th scope=col>EndDate</th><th scope=col>Hospital</th><th scope=col>Ward</th></tr>\n",
       "\t<tr><th></th><th scope=col>&lt;chr&gt;</th><th scope=col>&lt;chr&gt;</th><th scope=col>&lt;chr&gt;</th><th scope=col>&lt;chr&gt;</th><th scope=col>&lt;chr&gt;</th></tr>\n",
       "</thead>\n",
       "<tbody>\n",
       "\t<tr><th scope=row>1</th><td>Chantelle</td><td>2000-04-16</td><td>2000-04-21</td><td>RH   </td><td>8C</td></tr>\n",
       "\t<tr><th scope=row>2</th><td>Silva    </td><td>2000-05-07</td><td>2000-05-16</td><td>TSKH </td><td>5A</td></tr>\n",
       "\t<tr><th scope=row>3</th><td>Maybelle </td><td>2000-06-10</td><td>2000-06-13</td><td>WCHH </td><td>5A</td></tr>\n",
       "\t<tr><th scope=row>4</th><td>Wilhemina</td><td>2000-06-12</td><td>2000-06-18</td><td>WCHH </td><td>5A</td></tr>\n",
       "\t<tr><th scope=row>5</th><td>Alleen   </td><td>2000-07-07</td><td>2000-07-17</td><td>SJH  </td><td>6A</td></tr>\n",
       "\t<tr><th scope=row>6</th><td>Natalia  </td><td>2000-07-25</td><td>2000-08-02</td><td>PYNEH</td><td>8B</td></tr>\n",
       "</tbody>\n",
       "</table>\n"
      ],
      "text/latex": [
       "A data.frame: 6 × 5\n",
       "\\begin{tabular}{r|lllll}\n",
       "  & Name & StartDate & EndDate & Hospital & Ward\\\\\n",
       "  & <chr> & <chr> & <chr> & <chr> & <chr>\\\\\n",
       "\\hline\n",
       "\t1 & Chantelle & 2000-04-16 & 2000-04-21 & RH    & 8C\\\\\n",
       "\t2 & Silva     & 2000-05-07 & 2000-05-16 & TSKH  & 5A\\\\\n",
       "\t3 & Maybelle  & 2000-06-10 & 2000-06-13 & WCHH  & 5A\\\\\n",
       "\t4 & Wilhemina & 2000-06-12 & 2000-06-18 & WCHH  & 5A\\\\\n",
       "\t5 & Alleen    & 2000-07-07 & 2000-07-17 & SJH   & 6A\\\\\n",
       "\t6 & Natalia   & 2000-07-25 & 2000-08-02 & PYNEH & 8B\\\\\n",
       "\\end{tabular}\n"
      ],
      "text/markdown": [
       "\n",
       "A data.frame: 6 × 5\n",
       "\n",
       "| <!--/--> | Name &lt;chr&gt; | StartDate &lt;chr&gt; | EndDate &lt;chr&gt; | Hospital &lt;chr&gt; | Ward &lt;chr&gt; |\n",
       "|---|---|---|---|---|---|\n",
       "| 1 | Chantelle | 2000-04-16 | 2000-04-21 | RH    | 8C |\n",
       "| 2 | Silva     | 2000-05-07 | 2000-05-16 | TSKH  | 5A |\n",
       "| 3 | Maybelle  | 2000-06-10 | 2000-06-13 | WCHH  | 5A |\n",
       "| 4 | Wilhemina | 2000-06-12 | 2000-06-18 | WCHH  | 5A |\n",
       "| 5 | Alleen    | 2000-07-07 | 2000-07-17 | SJH   | 6A |\n",
       "| 6 | Natalia   | 2000-07-25 | 2000-08-02 | PYNEH | 8B |\n",
       "\n"
      ],
      "text/plain": [
       "  Name      StartDate  EndDate    Hospital Ward\n",
       "1 Chantelle 2000-04-16 2000-04-21 RH       8C  \n",
       "2 Silva     2000-05-07 2000-05-16 TSKH     5A  \n",
       "3 Maybelle  2000-06-10 2000-06-13 WCHH     5A  \n",
       "4 Wilhemina 2000-06-12 2000-06-18 WCHH     5A  \n",
       "5 Alleen    2000-07-07 2000-07-17 SJH      6A  \n",
       "6 Natalia   2000-07-25 2000-08-02 PYNEH    8B  "
      ]
     },
     "metadata": {},
     "output_type": "display_data"
    },
    {
     "data": {
      "text/html": [
       "<table>\n",
       "<caption>A data.frame: 6 × 2</caption>\n",
       "<thead>\n",
       "\t<tr><th></th><th scope=col>Hospital</th><th scope=col>EquipGrade</th></tr>\n",
       "\t<tr><th></th><th scope=col>&lt;chr&gt;</th><th scope=col>&lt;chr&gt;</th></tr>\n",
       "</thead>\n",
       "<tbody>\n",
       "\t<tr><th scope=row>1</th><td>CCH  </td><td>Moderate</td></tr>\n",
       "\t<tr><th scope=row>2</th><td>PYNEH</td><td>Low     </td></tr>\n",
       "\t<tr><th scope=row>3</th><td>RH   </td><td>Low     </td></tr>\n",
       "\t<tr><th scope=row>4</th><td>SJH  </td><td>Moderate</td></tr>\n",
       "\t<tr><th scope=row>5</th><td>TSKH </td><td>Moderate</td></tr>\n",
       "\t<tr><th scope=row>6</th><td>TWEH </td><td>Low     </td></tr>\n",
       "</tbody>\n",
       "</table>\n"
      ],
      "text/latex": [
       "A data.frame: 6 × 2\n",
       "\\begin{tabular}{r|ll}\n",
       "  & Hospital & EquipGrade\\\\\n",
       "  & <chr> & <chr>\\\\\n",
       "\\hline\n",
       "\t1 & CCH   & Moderate\\\\\n",
       "\t2 & PYNEH & Low     \\\\\n",
       "\t3 & RH    & Low     \\\\\n",
       "\t4 & SJH   & Moderate\\\\\n",
       "\t5 & TSKH  & Moderate\\\\\n",
       "\t6 & TWEH  & Low     \\\\\n",
       "\\end{tabular}\n"
      ],
      "text/markdown": [
       "\n",
       "A data.frame: 6 × 2\n",
       "\n",
       "| <!--/--> | Hospital &lt;chr&gt; | EquipGrade &lt;chr&gt; |\n",
       "|---|---|---|\n",
       "| 1 | CCH   | Moderate |\n",
       "| 2 | PYNEH | Low      |\n",
       "| 3 | RH    | Low      |\n",
       "| 4 | SJH   | Moderate |\n",
       "| 5 | TSKH  | Moderate |\n",
       "| 6 | TWEH  | Low      |\n",
       "\n"
      ],
      "text/plain": [
       "  Hospital EquipGrade\n",
       "1 CCH      Moderate  \n",
       "2 PYNEH    Low       \n",
       "3 RH       Low       \n",
       "4 SJH      Moderate  \n",
       "5 TSKH     Moderate  \n",
       "6 TWEH     Low       "
      ]
     },
     "metadata": {},
     "output_type": "display_data"
    },
    {
     "data": {
      "text/html": [
       "<table>\n",
       "<caption>A data.frame: 6 × 3</caption>\n",
       "<thead>\n",
       "\t<tr><th></th><th scope=col>Name</th><th scope=col>Sex</th><th scope=col>HomePhone</th></tr>\n",
       "\t<tr><th></th><th scope=col>&lt;chr&gt;</th><th scope=col>&lt;chr&gt;</th><th scope=col>&lt;int&gt;</th></tr>\n",
       "</thead>\n",
       "<tbody>\n",
       "\t<tr><th scope=row>1</th><td>Yung    </td><td>F</td><td>26370360</td></tr>\n",
       "\t<tr><th scope=row>2</th><td>Lucas   </td><td>M</td><td>21470543</td></tr>\n",
       "\t<tr><th scope=row>3</th><td>Staci   </td><td>F</td><td>21537227</td></tr>\n",
       "\t<tr><th scope=row>4</th><td>Jesusita</td><td>M</td><td>29738952</td></tr>\n",
       "\t<tr><th scope=row>5</th><td>Johnnie </td><td>F</td><td>20976943</td></tr>\n",
       "\t<tr><th scope=row>6</th><td>Jadwiga </td><td>F</td><td>27701614</td></tr>\n",
       "</tbody>\n",
       "</table>\n"
      ],
      "text/latex": [
       "A data.frame: 6 × 3\n",
       "\\begin{tabular}{r|lll}\n",
       "  & Name & Sex & HomePhone\\\\\n",
       "  & <chr> & <chr> & <int>\\\\\n",
       "\\hline\n",
       "\t1 & Yung     & F & 26370360\\\\\n",
       "\t2 & Lucas    & M & 21470543\\\\\n",
       "\t3 & Staci    & F & 21537227\\\\\n",
       "\t4 & Jesusita & M & 29738952\\\\\n",
       "\t5 & Johnnie  & F & 20976943\\\\\n",
       "\t6 & Jadwiga  & F & 27701614\\\\\n",
       "\\end{tabular}\n"
      ],
      "text/markdown": [
       "\n",
       "A data.frame: 6 × 3\n",
       "\n",
       "| <!--/--> | Name &lt;chr&gt; | Sex &lt;chr&gt; | HomePhone &lt;int&gt; |\n",
       "|---|---|---|---|\n",
       "| 1 | Yung     | F | 26370360 |\n",
       "| 2 | Lucas    | M | 21470543 |\n",
       "| 3 | Staci    | F | 21537227 |\n",
       "| 4 | Jesusita | M | 29738952 |\n",
       "| 5 | Johnnie  | F | 20976943 |\n",
       "| 6 | Jadwiga  | F | 27701614 |\n",
       "\n"
      ],
      "text/plain": [
       "  Name     Sex HomePhone\n",
       "1 Yung     F   26370360 \n",
       "2 Lucas    M   21470543 \n",
       "3 Staci    F   21537227 \n",
       "4 Jesusita M   29738952 \n",
       "5 Johnnie  F   20976943 \n",
       "6 Jadwiga  F   27701614 "
      ]
     },
     "metadata": {},
     "output_type": "display_data"
    }
   ],
   "source": [
    "# List all tables\n",
    "DBI::dbListTables(con)\n",
    "\n",
    "# Getting three tables from the database\n",
    "PatientRecord.Table <- DBI::dbReadTable(con, \"PatientRecord\")\n",
    "Hospitals.Table <- DBI::dbReadTable(con, \"Hospitals\")\n",
    "Patients.Tabble <- DBI::dbReadTable(con, \"Patients\")\n",
    "\n",
    "# Print out first few lines of the tables\n",
    "head(PatientRecord.Table)\n",
    "head(Hospitals.Table)\n",
    "head(Patients.Tabble)\n",
    "\n",
    "# Disconnnect the database\n",
    "DBI::dbDisconnect(con)"
   ]
  },
  {
   "cell_type": "markdown",
   "metadata": {},
   "source": [
    "## Filtering"
   ]
  },
  {
   "cell_type": "markdown",
   "metadata": {},
   "source": [
    "### Filtering / Selecting by Index / Indices\n",
    "\n",
    "* Like other programming languages, square brackets accpets numbers to select rows and columns."
   ]
  },
  {
   "cell_type": "code",
   "execution_count": 27,
   "metadata": {
    "scrolled": true
   },
   "outputs": [
    {
     "name": "stdout",
     "output_type": "stream",
     "text": [
      "       Name  StartDate    EndDate Hospital Ward\n",
      "1 Chantelle 2000-04-16 2000-04-21       RH   8C\n",
      "\n",
      "       Name  StartDate    EndDate Hospital Ward\n",
      "1 Chantelle 2000-04-16 2000-04-21       RH   8C\n",
      "2     Silva 2000-05-07 2000-05-16     TSKH   5A\n",
      "\n",
      "       Name  StartDate\n",
      "1 Chantelle 2000-04-16\n",
      "2     Silva 2000-05-07\n"
     ]
    }
   ],
   "source": [
    "# Print the first row and all columns of PatientRecord.Table\n",
    "print(PatientRecord.Table[1,])\n",
    "cat(\"\\n\")\n",
    "\n",
    "# Print first two row and all columns of PatientRecord.Table\n",
    "print(PatientRecord.Table[1:2,])\n",
    "cat(\"\\n\")\n",
    "\n",
    "# Print the first row and first two columns of PatientRecord.Table\n",
    "print(PatientRecord.Table[1:2,1:2])"
   ]
  },
  {
   "cell_type": "markdown",
   "metadata": {},
   "source": [
    "### Filtering by Criteria \n",
    "\n",
    "* In R, square bracket accepts also boolean vector to filter data."
   ]
  },
  {
   "cell_type": "code",
   "execution_count": 28,
   "metadata": {},
   "outputs": [
    {
     "data": {
      "text/html": [
       "<table>\n",
       "<caption>A data.frame: 4 × 2</caption>\n",
       "<thead>\n",
       "\t<tr><th></th><th scope=col>Hospital</th><th scope=col>EquipGrade</th></tr>\n",
       "\t<tr><th></th><th scope=col>&lt;chr&gt;</th><th scope=col>&lt;chr&gt;</th></tr>\n",
       "</thead>\n",
       "<tbody>\n",
       "\t<tr><th scope=row>1</th><td>CCH </td><td>Moderate</td></tr>\n",
       "\t<tr><th scope=row>4</th><td>SJH </td><td>Moderate</td></tr>\n",
       "\t<tr><th scope=row>5</th><td>TSKH</td><td>Moderate</td></tr>\n",
       "\t<tr><th scope=row>7</th><td>WCHH</td><td>High    </td></tr>\n",
       "</tbody>\n",
       "</table>\n"
      ],
      "text/latex": [
       "A data.frame: 4 × 2\n",
       "\\begin{tabular}{r|ll}\n",
       "  & Hospital & EquipGrade\\\\\n",
       "  & <chr> & <chr>\\\\\n",
       "\\hline\n",
       "\t1 & CCH  & Moderate\\\\\n",
       "\t4 & SJH  & Moderate\\\\\n",
       "\t5 & TSKH & Moderate\\\\\n",
       "\t7 & WCHH & High    \\\\\n",
       "\\end{tabular}\n"
      ],
      "text/markdown": [
       "\n",
       "A data.frame: 4 × 2\n",
       "\n",
       "| <!--/--> | Hospital &lt;chr&gt; | EquipGrade &lt;chr&gt; |\n",
       "|---|---|---|\n",
       "| 1 | CCH  | Moderate |\n",
       "| 4 | SJH  | Moderate |\n",
       "| 5 | TSKH | Moderate |\n",
       "| 7 | WCHH | High     |\n",
       "\n"
      ],
      "text/plain": [
       "  Hospital EquipGrade\n",
       "1 CCH      Moderate  \n",
       "4 SJH      Moderate  \n",
       "5 TSKH     Moderate  \n",
       "7 WCHH     High      "
      ]
     },
     "metadata": {},
     "output_type": "display_data"
    },
    {
     "name": "stdout",
     "output_type": "stream",
     "text": [
      "\n"
     ]
    },
    {
     "data": {
      "text/html": [
       "<table>\n",
       "<caption>A data.frame: 2 × 5</caption>\n",
       "<thead>\n",
       "\t<tr><th></th><th scope=col>Name</th><th scope=col>StartDate</th><th scope=col>EndDate</th><th scope=col>Hospital</th><th scope=col>Ward</th></tr>\n",
       "\t<tr><th></th><th scope=col>&lt;chr&gt;</th><th scope=col>&lt;chr&gt;</th><th scope=col>&lt;chr&gt;</th><th scope=col>&lt;chr&gt;</th><th scope=col>&lt;chr&gt;</th></tr>\n",
       "</thead>\n",
       "<tbody>\n",
       "\t<tr><th scope=row>1</th><td>Chantelle</td><td>2000-04-16</td><td>2000-04-21</td><td>RH</td><td>8C</td></tr>\n",
       "\t<tr><th scope=row>43</th><td>Sunday   </td><td>2001-07-14</td><td>2001-07-20</td><td>RH</td><td>8C</td></tr>\n",
       "</tbody>\n",
       "</table>\n"
      ],
      "text/latex": [
       "A data.frame: 2 × 5\n",
       "\\begin{tabular}{r|lllll}\n",
       "  & Name & StartDate & EndDate & Hospital & Ward\\\\\n",
       "  & <chr> & <chr> & <chr> & <chr> & <chr>\\\\\n",
       "\\hline\n",
       "\t1 & Chantelle & 2000-04-16 & 2000-04-21 & RH & 8C\\\\\n",
       "\t43 & Sunday    & 2001-07-14 & 2001-07-20 & RH & 8C\\\\\n",
       "\\end{tabular}\n"
      ],
      "text/markdown": [
       "\n",
       "A data.frame: 2 × 5\n",
       "\n",
       "| <!--/--> | Name &lt;chr&gt; | StartDate &lt;chr&gt; | EndDate &lt;chr&gt; | Hospital &lt;chr&gt; | Ward &lt;chr&gt; |\n",
       "|---|---|---|---|---|---|\n",
       "| 1 | Chantelle | 2000-04-16 | 2000-04-21 | RH | 8C |\n",
       "| 43 | Sunday    | 2001-07-14 | 2001-07-20 | RH | 8C |\n",
       "\n"
      ],
      "text/plain": [
       "   Name      StartDate  EndDate    Hospital Ward\n",
       "1  Chantelle 2000-04-16 2000-04-21 RH       8C  \n",
       "43 Sunday    2001-07-14 2001-07-20 RH       8C  "
      ]
     },
     "metadata": {},
     "output_type": "display_data"
    },
    {
     "name": "stdout",
     "output_type": "stream",
     "text": [
      "\n"
     ]
    }
   ],
   "source": [
    "# The returned table will contain rows being TRUE to the logical statement\n",
    "head(Hospitals.Table[Hospitals.Table$EquipGrade %in% c(\"High\", \"Moderate\"), ])\n",
    "cat(\"\\n\")\n",
    "\n",
    "# Combining two logical statement is acceptable\n",
    "head(PatientRecord.Table[PatientRecord.Table$Ward == \"8C\" & \n",
    "                         PatientRecord.Table$Hospital == \"RH\" ,])\n",
    "cat(\"\\n\")"
   ]
  },
  {
   "cell_type": "markdown",
   "metadata": {},
   "source": [
    "## Sorting\n",
    "\n",
    "* The function `order` returns the rank of the vector in its argument.\n",
    "* By putting function `order`, we may sort the data frame.\n",
    "\n",
    "### Sorting with a Ascending Order\n",
    "\n",
    "* The function `order` enables an ascending order by default."
   ]
  },
  {
   "cell_type": "code",
   "execution_count": 29,
   "metadata": {},
   "outputs": [
    {
     "name": "stdout",
     "output_type": "stream",
     "text": [
      "  [1]   5  33  67 129 140  50  87  17  72  83 122  61  79   1  26 106  20  90\n",
      " [19] 114  34 110 135 151 157  30  63 119  48 113 143 149 156  32  78  29  93\n",
      " [37]  22  39  59  73 121 131 138  53 115  15  45  13  66  58  69  95 124  38\n",
      " [55] 109 139 148 153  62  74  23  56  19  88  16  47  42  84  51  71  25  70\n",
      " [73] 123 142  36  60 100 120   7  52 117  28 105  64  82 104  46  80 108 136\n",
      " [91] 141  40  99  27 103   3  75  91 111   6  54 116 144 152   9  21 102 132\n",
      "[109] 134  31  97 125 147  37  86 118 137  41 112  12  89 128  49  76  92 107\n",
      "[127] 127  24  77  44  81   2  10  11  94 126 145 154  43  68  57  85 133 150\n",
      "[145] 155   8  55  98 130 146   4  65 101  18  96  14  35\n"
     ]
    },
    {
     "data": {
      "text/html": [
       "<table>\n",
       "<caption>A data.frame: 10 × 5</caption>\n",
       "<thead>\n",
       "\t<tr><th></th><th scope=col>Name</th><th scope=col>StartDate</th><th scope=col>EndDate</th><th scope=col>Hospital</th><th scope=col>Ward</th></tr>\n",
       "\t<tr><th></th><th scope=col>&lt;chr&gt;</th><th scope=col>&lt;chr&gt;</th><th scope=col>&lt;chr&gt;</th><th scope=col>&lt;chr&gt;</th><th scope=col>&lt;chr&gt;</th></tr>\n",
       "</thead>\n",
       "<tbody>\n",
       "\t<tr><th scope=row>5</th><td>Alleen</td><td>2000-07-07</td><td>2000-07-17</td><td>SJH </td><td>6A</td></tr>\n",
       "\t<tr><th scope=row>33</th><td>Alleen</td><td>2001-05-27</td><td>2001-06-05</td><td>CCH </td><td>4A</td></tr>\n",
       "\t<tr><th scope=row>67</th><td>Alleen</td><td>2002-03-06</td><td>2002-03-14</td><td>TSKH</td><td>6B</td></tr>\n",
       "\t<tr><th scope=row>129</th><td>Alleen</td><td>2004-01-08</td><td>2004-01-11</td><td>TWEH</td><td>8B</td></tr>\n",
       "\t<tr><th scope=row>140</th><td>Alleen</td><td>2005-01-08</td><td>2005-01-16</td><td>WCHH</td><td>9C</td></tr>\n",
       "\t<tr><th scope=row>50</th><td>Alona </td><td>2001-08-19</td><td>2001-08-28</td><td>RH  </td><td>9C</td></tr>\n",
       "\t<tr><th scope=row>87</th><td>Alona </td><td>2002-08-14</td><td>2002-08-17</td><td>TWEH</td><td>3A</td></tr>\n",
       "\t<tr><th scope=row>17</th><td>Barb  </td><td>2001-01-28</td><td>2001-01-31</td><td>TWEH</td><td>6C</td></tr>\n",
       "\t<tr><th scope=row>72</th><td>Barb  </td><td>2002-04-03</td><td>2002-04-11</td><td>SJH </td><td>8A</td></tr>\n",
       "\t<tr><th scope=row>83</th><td>Barb  </td><td>2002-07-27</td><td>2002-07-30</td><td>RH  </td><td>9C</td></tr>\n",
       "</tbody>\n",
       "</table>\n"
      ],
      "text/latex": [
       "A data.frame: 10 × 5\n",
       "\\begin{tabular}{r|lllll}\n",
       "  & Name & StartDate & EndDate & Hospital & Ward\\\\\n",
       "  & <chr> & <chr> & <chr> & <chr> & <chr>\\\\\n",
       "\\hline\n",
       "\t5 & Alleen & 2000-07-07 & 2000-07-17 & SJH  & 6A\\\\\n",
       "\t33 & Alleen & 2001-05-27 & 2001-06-05 & CCH  & 4A\\\\\n",
       "\t67 & Alleen & 2002-03-06 & 2002-03-14 & TSKH & 6B\\\\\n",
       "\t129 & Alleen & 2004-01-08 & 2004-01-11 & TWEH & 8B\\\\\n",
       "\t140 & Alleen & 2005-01-08 & 2005-01-16 & WCHH & 9C\\\\\n",
       "\t50 & Alona  & 2001-08-19 & 2001-08-28 & RH   & 9C\\\\\n",
       "\t87 & Alona  & 2002-08-14 & 2002-08-17 & TWEH & 3A\\\\\n",
       "\t17 & Barb   & 2001-01-28 & 2001-01-31 & TWEH & 6C\\\\\n",
       "\t72 & Barb   & 2002-04-03 & 2002-04-11 & SJH  & 8A\\\\\n",
       "\t83 & Barb   & 2002-07-27 & 2002-07-30 & RH   & 9C\\\\\n",
       "\\end{tabular}\n"
      ],
      "text/markdown": [
       "\n",
       "A data.frame: 10 × 5\n",
       "\n",
       "| <!--/--> | Name &lt;chr&gt; | StartDate &lt;chr&gt; | EndDate &lt;chr&gt; | Hospital &lt;chr&gt; | Ward &lt;chr&gt; |\n",
       "|---|---|---|---|---|---|\n",
       "| 5 | Alleen | 2000-07-07 | 2000-07-17 | SJH  | 6A |\n",
       "| 33 | Alleen | 2001-05-27 | 2001-06-05 | CCH  | 4A |\n",
       "| 67 | Alleen | 2002-03-06 | 2002-03-14 | TSKH | 6B |\n",
       "| 129 | Alleen | 2004-01-08 | 2004-01-11 | TWEH | 8B |\n",
       "| 140 | Alleen | 2005-01-08 | 2005-01-16 | WCHH | 9C |\n",
       "| 50 | Alona  | 2001-08-19 | 2001-08-28 | RH   | 9C |\n",
       "| 87 | Alona  | 2002-08-14 | 2002-08-17 | TWEH | 3A |\n",
       "| 17 | Barb   | 2001-01-28 | 2001-01-31 | TWEH | 6C |\n",
       "| 72 | Barb   | 2002-04-03 | 2002-04-11 | SJH  | 8A |\n",
       "| 83 | Barb   | 2002-07-27 | 2002-07-30 | RH   | 9C |\n",
       "\n"
      ],
      "text/plain": [
       "    Name   StartDate  EndDate    Hospital Ward\n",
       "5   Alleen 2000-07-07 2000-07-17 SJH      6A  \n",
       "33  Alleen 2001-05-27 2001-06-05 CCH      4A  \n",
       "67  Alleen 2002-03-06 2002-03-14 TSKH     6B  \n",
       "129 Alleen 2004-01-08 2004-01-11 TWEH     8B  \n",
       "140 Alleen 2005-01-08 2005-01-16 WCHH     9C  \n",
       "50  Alona  2001-08-19 2001-08-28 RH       9C  \n",
       "87  Alona  2002-08-14 2002-08-17 TWEH     3A  \n",
       "17  Barb   2001-01-28 2001-01-31 TWEH     6C  \n",
       "72  Barb   2002-04-03 2002-04-11 SJH      8A  \n",
       "83  Barb   2002-07-27 2002-07-30 RH       9C  "
      ]
     },
     "metadata": {},
     "output_type": "display_data"
    }
   ],
   "source": [
    "# Function order returns the rank of vector entries\n",
    "print(order(PatientRecord.Table$Name))\n",
    "\n",
    "# By using the function order, the table is sorted along the Name column\n",
    "PatientRecord.Table.Sorted <- PatientRecord.Table[order(PatientRecord.Table$Name),]\n",
    "\n",
    "# Print the first 10 lines of the sorted table\n",
    "head(PatientRecord.Table.Sorted, 10)"
   ]
  },
  {
   "cell_type": "markdown",
   "metadata": {},
   "source": [
    "### Sorting with a Descending Order\n",
    "\n",
    "* `order` has an option `decreasing`. By assigning a boolean value, the direction of sorting can be controlled."
   ]
  },
  {
   "cell_type": "code",
   "execution_count": 30,
   "metadata": {
    "scrolled": true
   },
   "outputs": [
    {
     "data": {
      "text/html": [
       "<table>\n",
       "<caption>A data.frame: 10 × 5</caption>\n",
       "<thead>\n",
       "\t<tr><th></th><th scope=col>Name</th><th scope=col>StartDate</th><th scope=col>EndDate</th><th scope=col>Hospital</th><th scope=col>Ward</th></tr>\n",
       "\t<tr><th></th><th scope=col>&lt;chr&gt;</th><th scope=col>&lt;chr&gt;</th><th scope=col>&lt;chr&gt;</th><th scope=col>&lt;chr&gt;</th><th scope=col>&lt;chr&gt;</th></tr>\n",
       "</thead>\n",
       "<tbody>\n",
       "\t<tr><th scope=row>14</th><td>Yung     </td><td>2001-01-23</td><td>2001-02-01</td><td>SJH  </td><td>4C</td></tr>\n",
       "\t<tr><th scope=row>35</th><td>Yung     </td><td>2001-06-22</td><td>2001-06-29</td><td>WCHH </td><td>4B</td></tr>\n",
       "\t<tr><th scope=row>18</th><td>Xiomara  </td><td>2001-02-09</td><td>2001-02-16</td><td>WCHH </td><td>8B</td></tr>\n",
       "\t<tr><th scope=row>96</th><td>Xiomara  </td><td>2002-12-02</td><td>2002-12-12</td><td>TSKH </td><td>5C</td></tr>\n",
       "\t<tr><th scope=row>4</th><td>Wilhemina</td><td>2000-06-12</td><td>2000-06-18</td><td>WCHH </td><td>5A</td></tr>\n",
       "\t<tr><th scope=row>65</th><td>Wilhemina</td><td>2001-12-04</td><td>2001-12-10</td><td>TSKH </td><td>9C</td></tr>\n",
       "\t<tr><th scope=row>101</th><td>Wilhemina</td><td>2002-12-31</td><td>2003-01-05</td><td>PYNEH</td><td>3A</td></tr>\n",
       "\t<tr><th scope=row>8</th><td>Tonita   </td><td>2000-09-16</td><td>2000-09-26</td><td>RH   </td><td>4C</td></tr>\n",
       "\t<tr><th scope=row>55</th><td>Tonita   </td><td>2001-10-01</td><td>2001-10-06</td><td>TSKH </td><td>7B</td></tr>\n",
       "\t<tr><th scope=row>98</th><td>Tonita   </td><td>2002-12-18</td><td>2002-12-24</td><td>WCHH </td><td>9B</td></tr>\n",
       "</tbody>\n",
       "</table>\n"
      ],
      "text/latex": [
       "A data.frame: 10 × 5\n",
       "\\begin{tabular}{r|lllll}\n",
       "  & Name & StartDate & EndDate & Hospital & Ward\\\\\n",
       "  & <chr> & <chr> & <chr> & <chr> & <chr>\\\\\n",
       "\\hline\n",
       "\t14 & Yung      & 2001-01-23 & 2001-02-01 & SJH   & 4C\\\\\n",
       "\t35 & Yung      & 2001-06-22 & 2001-06-29 & WCHH  & 4B\\\\\n",
       "\t18 & Xiomara   & 2001-02-09 & 2001-02-16 & WCHH  & 8B\\\\\n",
       "\t96 & Xiomara   & 2002-12-02 & 2002-12-12 & TSKH  & 5C\\\\\n",
       "\t4 & Wilhemina & 2000-06-12 & 2000-06-18 & WCHH  & 5A\\\\\n",
       "\t65 & Wilhemina & 2001-12-04 & 2001-12-10 & TSKH  & 9C\\\\\n",
       "\t101 & Wilhemina & 2002-12-31 & 2003-01-05 & PYNEH & 3A\\\\\n",
       "\t8 & Tonita    & 2000-09-16 & 2000-09-26 & RH    & 4C\\\\\n",
       "\t55 & Tonita    & 2001-10-01 & 2001-10-06 & TSKH  & 7B\\\\\n",
       "\t98 & Tonita    & 2002-12-18 & 2002-12-24 & WCHH  & 9B\\\\\n",
       "\\end{tabular}\n"
      ],
      "text/markdown": [
       "\n",
       "A data.frame: 10 × 5\n",
       "\n",
       "| <!--/--> | Name &lt;chr&gt; | StartDate &lt;chr&gt; | EndDate &lt;chr&gt; | Hospital &lt;chr&gt; | Ward &lt;chr&gt; |\n",
       "|---|---|---|---|---|---|\n",
       "| 14 | Yung      | 2001-01-23 | 2001-02-01 | SJH   | 4C |\n",
       "| 35 | Yung      | 2001-06-22 | 2001-06-29 | WCHH  | 4B |\n",
       "| 18 | Xiomara   | 2001-02-09 | 2001-02-16 | WCHH  | 8B |\n",
       "| 96 | Xiomara   | 2002-12-02 | 2002-12-12 | TSKH  | 5C |\n",
       "| 4 | Wilhemina | 2000-06-12 | 2000-06-18 | WCHH  | 5A |\n",
       "| 65 | Wilhemina | 2001-12-04 | 2001-12-10 | TSKH  | 9C |\n",
       "| 101 | Wilhemina | 2002-12-31 | 2003-01-05 | PYNEH | 3A |\n",
       "| 8 | Tonita    | 2000-09-16 | 2000-09-26 | RH    | 4C |\n",
       "| 55 | Tonita    | 2001-10-01 | 2001-10-06 | TSKH  | 7B |\n",
       "| 98 | Tonita    | 2002-12-18 | 2002-12-24 | WCHH  | 9B |\n",
       "\n"
      ],
      "text/plain": [
       "    Name      StartDate  EndDate    Hospital Ward\n",
       "14  Yung      2001-01-23 2001-02-01 SJH      4C  \n",
       "35  Yung      2001-06-22 2001-06-29 WCHH     4B  \n",
       "18  Xiomara   2001-02-09 2001-02-16 WCHH     8B  \n",
       "96  Xiomara   2002-12-02 2002-12-12 TSKH     5C  \n",
       "4   Wilhemina 2000-06-12 2000-06-18 WCHH     5A  \n",
       "65  Wilhemina 2001-12-04 2001-12-10 TSKH     9C  \n",
       "101 Wilhemina 2002-12-31 2003-01-05 PYNEH    3A  \n",
       "8   Tonita    2000-09-16 2000-09-26 RH       4C  \n",
       "55  Tonita    2001-10-01 2001-10-06 TSKH     7B  \n",
       "98  Tonita    2002-12-18 2002-12-24 WCHH     9B  "
      ]
     },
     "metadata": {},
     "output_type": "display_data"
    }
   ],
   "source": [
    "# The descending order\n",
    "PatientRecord.Table.Sorted <- PatientRecord.Table[order(PatientRecord.Table$Name, decreasing = TRUE),]\n",
    "\n",
    "# Print the first 10 lines of the sorted table\n",
    "head(PatientRecord.Table.Sorted, 10)"
   ]
  },
  {
   "cell_type": "markdown",
   "metadata": {},
   "source": [
    "### Sorting along Multiple Columns\n",
    "\n",
    "* Function `order` can accept multiple columns."
   ]
  },
  {
   "cell_type": "code",
   "execution_count": 31,
   "metadata": {},
   "outputs": [
    {
     "data": {
      "text/html": [
       "<table>\n",
       "<caption>A data.frame: 10 × 5</caption>\n",
       "<thead>\n",
       "\t<tr><th></th><th scope=col>Name</th><th scope=col>StartDate</th><th scope=col>EndDate</th><th scope=col>Hospital</th><th scope=col>Ward</th></tr>\n",
       "\t<tr><th></th><th scope=col>&lt;chr&gt;</th><th scope=col>&lt;chr&gt;</th><th scope=col>&lt;chr&gt;</th><th scope=col>&lt;chr&gt;</th><th scope=col>&lt;chr&gt;</th></tr>\n",
       "</thead>\n",
       "<tbody>\n",
       "\t<tr><th scope=row>35</th><td>Yung     </td><td>2001-06-22</td><td>2001-06-29</td><td>WCHH </td><td>4B</td></tr>\n",
       "\t<tr><th scope=row>14</th><td>Yung     </td><td>2001-01-23</td><td>2001-02-01</td><td>SJH  </td><td>4C</td></tr>\n",
       "\t<tr><th scope=row>96</th><td>Xiomara  </td><td>2002-12-02</td><td>2002-12-12</td><td>TSKH </td><td>5C</td></tr>\n",
       "\t<tr><th scope=row>18</th><td>Xiomara  </td><td>2001-02-09</td><td>2001-02-16</td><td>WCHH </td><td>8B</td></tr>\n",
       "\t<tr><th scope=row>101</th><td>Wilhemina</td><td>2002-12-31</td><td>2003-01-05</td><td>PYNEH</td><td>3A</td></tr>\n",
       "\t<tr><th scope=row>65</th><td>Wilhemina</td><td>2001-12-04</td><td>2001-12-10</td><td>TSKH </td><td>9C</td></tr>\n",
       "\t<tr><th scope=row>4</th><td>Wilhemina</td><td>2000-06-12</td><td>2000-06-18</td><td>WCHH </td><td>5A</td></tr>\n",
       "\t<tr><th scope=row>146</th><td>Tonita   </td><td>2005-07-31</td><td>2005-08-05</td><td>RH   </td><td>3B</td></tr>\n",
       "\t<tr><th scope=row>130</th><td>Tonita   </td><td>2004-03-02</td><td>2004-03-09</td><td>RH   </td><td>3B</td></tr>\n",
       "\t<tr><th scope=row>98</th><td>Tonita   </td><td>2002-12-18</td><td>2002-12-24</td><td>WCHH </td><td>9B</td></tr>\n",
       "</tbody>\n",
       "</table>\n"
      ],
      "text/latex": [
       "A data.frame: 10 × 5\n",
       "\\begin{tabular}{r|lllll}\n",
       "  & Name & StartDate & EndDate & Hospital & Ward\\\\\n",
       "  & <chr> & <chr> & <chr> & <chr> & <chr>\\\\\n",
       "\\hline\n",
       "\t35 & Yung      & 2001-06-22 & 2001-06-29 & WCHH  & 4B\\\\\n",
       "\t14 & Yung      & 2001-01-23 & 2001-02-01 & SJH   & 4C\\\\\n",
       "\t96 & Xiomara   & 2002-12-02 & 2002-12-12 & TSKH  & 5C\\\\\n",
       "\t18 & Xiomara   & 2001-02-09 & 2001-02-16 & WCHH  & 8B\\\\\n",
       "\t101 & Wilhemina & 2002-12-31 & 2003-01-05 & PYNEH & 3A\\\\\n",
       "\t65 & Wilhemina & 2001-12-04 & 2001-12-10 & TSKH  & 9C\\\\\n",
       "\t4 & Wilhemina & 2000-06-12 & 2000-06-18 & WCHH  & 5A\\\\\n",
       "\t146 & Tonita    & 2005-07-31 & 2005-08-05 & RH    & 3B\\\\\n",
       "\t130 & Tonita    & 2004-03-02 & 2004-03-09 & RH    & 3B\\\\\n",
       "\t98 & Tonita    & 2002-12-18 & 2002-12-24 & WCHH  & 9B\\\\\n",
       "\\end{tabular}\n"
      ],
      "text/markdown": [
       "\n",
       "A data.frame: 10 × 5\n",
       "\n",
       "| <!--/--> | Name &lt;chr&gt; | StartDate &lt;chr&gt; | EndDate &lt;chr&gt; | Hospital &lt;chr&gt; | Ward &lt;chr&gt; |\n",
       "|---|---|---|---|---|---|\n",
       "| 35 | Yung      | 2001-06-22 | 2001-06-29 | WCHH  | 4B |\n",
       "| 14 | Yung      | 2001-01-23 | 2001-02-01 | SJH   | 4C |\n",
       "| 96 | Xiomara   | 2002-12-02 | 2002-12-12 | TSKH  | 5C |\n",
       "| 18 | Xiomara   | 2001-02-09 | 2001-02-16 | WCHH  | 8B |\n",
       "| 101 | Wilhemina | 2002-12-31 | 2003-01-05 | PYNEH | 3A |\n",
       "| 65 | Wilhemina | 2001-12-04 | 2001-12-10 | TSKH  | 9C |\n",
       "| 4 | Wilhemina | 2000-06-12 | 2000-06-18 | WCHH  | 5A |\n",
       "| 146 | Tonita    | 2005-07-31 | 2005-08-05 | RH    | 3B |\n",
       "| 130 | Tonita    | 2004-03-02 | 2004-03-09 | RH    | 3B |\n",
       "| 98 | Tonita    | 2002-12-18 | 2002-12-24 | WCHH  | 9B |\n",
       "\n"
      ],
      "text/plain": [
       "    Name      StartDate  EndDate    Hospital Ward\n",
       "35  Yung      2001-06-22 2001-06-29 WCHH     4B  \n",
       "14  Yung      2001-01-23 2001-02-01 SJH      4C  \n",
       "96  Xiomara   2002-12-02 2002-12-12 TSKH     5C  \n",
       "18  Xiomara   2001-02-09 2001-02-16 WCHH     8B  \n",
       "101 Wilhemina 2002-12-31 2003-01-05 PYNEH    3A  \n",
       "65  Wilhemina 2001-12-04 2001-12-10 TSKH     9C  \n",
       "4   Wilhemina 2000-06-12 2000-06-18 WCHH     5A  \n",
       "146 Tonita    2005-07-31 2005-08-05 RH       3B  \n",
       "130 Tonita    2004-03-02 2004-03-09 RH       3B  \n",
       "98  Tonita    2002-12-18 2002-12-24 WCHH     9B  "
      ]
     },
     "metadata": {},
     "output_type": "display_data"
    }
   ],
   "source": [
    "# The descending order in Name and StartDate\n",
    "PatientRecord.Table.Sorted <- PatientRecord.Table[\n",
    "    order(PatientRecord.Table$Name, \n",
    "          PatientRecord.Table$StartDate,\n",
    "          decreasing = TRUE\n",
    "),]\n",
    "\n",
    "# Print the first 10 lines of the sorted table\n",
    "head(PatientRecord.Table.Sorted, 10)"
   ]
  },
  {
   "cell_type": "markdown",
   "metadata": {},
   "source": [
    "### Sorting along Multiple Columns in Different Directions\n",
    "\n",
    "* By make the concerning column a `factor`, we may use `as.numeric` to choose a reverse by accompanying a minus sign."
   ]
  },
  {
   "cell_type": "code",
   "execution_count": 32,
   "metadata": {},
   "outputs": [
    {
     "data": {
      "text/html": [
       "<table>\n",
       "<caption>A data.frame: 10 × 5</caption>\n",
       "<thead>\n",
       "\t<tr><th></th><th scope=col>Name</th><th scope=col>StartDate</th><th scope=col>EndDate</th><th scope=col>Hospital</th><th scope=col>Ward</th></tr>\n",
       "\t<tr><th></th><th scope=col>&lt;chr&gt;</th><th scope=col>&lt;chr&gt;</th><th scope=col>&lt;chr&gt;</th><th scope=col>&lt;chr&gt;</th><th scope=col>&lt;chr&gt;</th></tr>\n",
       "</thead>\n",
       "<tbody>\n",
       "\t<tr><th scope=row>140</th><td>Alleen</td><td>2005-01-08</td><td>2005-01-16</td><td>WCHH</td><td>9C</td></tr>\n",
       "\t<tr><th scope=row>129</th><td>Alleen</td><td>2004-01-08</td><td>2004-01-11</td><td>TWEH</td><td>8B</td></tr>\n",
       "\t<tr><th scope=row>67</th><td>Alleen</td><td>2002-03-06</td><td>2002-03-14</td><td>TSKH</td><td>6B</td></tr>\n",
       "\t<tr><th scope=row>33</th><td>Alleen</td><td>2001-05-27</td><td>2001-06-05</td><td>CCH </td><td>4A</td></tr>\n",
       "\t<tr><th scope=row>5</th><td>Alleen</td><td>2000-07-07</td><td>2000-07-17</td><td>SJH </td><td>6A</td></tr>\n",
       "\t<tr><th scope=row>87</th><td>Alona </td><td>2002-08-14</td><td>2002-08-17</td><td>TWEH</td><td>3A</td></tr>\n",
       "\t<tr><th scope=row>50</th><td>Alona </td><td>2001-08-19</td><td>2001-08-28</td><td>RH  </td><td>9C</td></tr>\n",
       "\t<tr><th scope=row>122</th><td>Barb  </td><td>2003-08-27</td><td>2003-09-06</td><td>WCHH</td><td>5A</td></tr>\n",
       "\t<tr><th scope=row>83</th><td>Barb  </td><td>2002-07-27</td><td>2002-07-30</td><td>RH  </td><td>9C</td></tr>\n",
       "\t<tr><th scope=row>72</th><td>Barb  </td><td>2002-04-03</td><td>2002-04-11</td><td>SJH </td><td>8A</td></tr>\n",
       "</tbody>\n",
       "</table>\n"
      ],
      "text/latex": [
       "A data.frame: 10 × 5\n",
       "\\begin{tabular}{r|lllll}\n",
       "  & Name & StartDate & EndDate & Hospital & Ward\\\\\n",
       "  & <chr> & <chr> & <chr> & <chr> & <chr>\\\\\n",
       "\\hline\n",
       "\t140 & Alleen & 2005-01-08 & 2005-01-16 & WCHH & 9C\\\\\n",
       "\t129 & Alleen & 2004-01-08 & 2004-01-11 & TWEH & 8B\\\\\n",
       "\t67 & Alleen & 2002-03-06 & 2002-03-14 & TSKH & 6B\\\\\n",
       "\t33 & Alleen & 2001-05-27 & 2001-06-05 & CCH  & 4A\\\\\n",
       "\t5 & Alleen & 2000-07-07 & 2000-07-17 & SJH  & 6A\\\\\n",
       "\t87 & Alona  & 2002-08-14 & 2002-08-17 & TWEH & 3A\\\\\n",
       "\t50 & Alona  & 2001-08-19 & 2001-08-28 & RH   & 9C\\\\\n",
       "\t122 & Barb   & 2003-08-27 & 2003-09-06 & WCHH & 5A\\\\\n",
       "\t83 & Barb   & 2002-07-27 & 2002-07-30 & RH   & 9C\\\\\n",
       "\t72 & Barb   & 2002-04-03 & 2002-04-11 & SJH  & 8A\\\\\n",
       "\\end{tabular}\n"
      ],
      "text/markdown": [
       "\n",
       "A data.frame: 10 × 5\n",
       "\n",
       "| <!--/--> | Name &lt;chr&gt; | StartDate &lt;chr&gt; | EndDate &lt;chr&gt; | Hospital &lt;chr&gt; | Ward &lt;chr&gt; |\n",
       "|---|---|---|---|---|---|\n",
       "| 140 | Alleen | 2005-01-08 | 2005-01-16 | WCHH | 9C |\n",
       "| 129 | Alleen | 2004-01-08 | 2004-01-11 | TWEH | 8B |\n",
       "| 67 | Alleen | 2002-03-06 | 2002-03-14 | TSKH | 6B |\n",
       "| 33 | Alleen | 2001-05-27 | 2001-06-05 | CCH  | 4A |\n",
       "| 5 | Alleen | 2000-07-07 | 2000-07-17 | SJH  | 6A |\n",
       "| 87 | Alona  | 2002-08-14 | 2002-08-17 | TWEH | 3A |\n",
       "| 50 | Alona  | 2001-08-19 | 2001-08-28 | RH   | 9C |\n",
       "| 122 | Barb   | 2003-08-27 | 2003-09-06 | WCHH | 5A |\n",
       "| 83 | Barb   | 2002-07-27 | 2002-07-30 | RH   | 9C |\n",
       "| 72 | Barb   | 2002-04-03 | 2002-04-11 | SJH  | 8A |\n",
       "\n"
      ],
      "text/plain": [
       "    Name   StartDate  EndDate    Hospital Ward\n",
       "140 Alleen 2005-01-08 2005-01-16 WCHH     9C  \n",
       "129 Alleen 2004-01-08 2004-01-11 TWEH     8B  \n",
       "67  Alleen 2002-03-06 2002-03-14 TSKH     6B  \n",
       "33  Alleen 2001-05-27 2001-06-05 CCH      4A  \n",
       "5   Alleen 2000-07-07 2000-07-17 SJH      6A  \n",
       "87  Alona  2002-08-14 2002-08-17 TWEH     3A  \n",
       "50  Alona  2001-08-19 2001-08-28 RH       9C  \n",
       "122 Barb   2003-08-27 2003-09-06 WCHH     5A  \n",
       "83  Barb   2002-07-27 2002-07-30 RH       9C  \n",
       "72  Barb   2002-04-03 2002-04-11 SJH      8A  "
      ]
     },
     "metadata": {},
     "output_type": "display_data"
    }
   ],
   "source": [
    "# The ascending order in Name and descending order in StartDate\n",
    "PatientRecord.Table.Sorted <- PatientRecord.Table[\n",
    "    order(PatientRecord.Table$Name, \n",
    "          -as.numeric(factor(PatientRecord.Table$StartDate)),\n",
    "          decreasing = FALSE\n",
    "),]\n",
    "\n",
    "# Print the first 10 lines of the sorted table\n",
    "head(PatientRecord.Table.Sorted, 10)"
   ]
  },
  {
   "cell_type": "markdown",
   "metadata": {},
   "source": [
    "#### Reset Row-Names\n",
    "\n",
    "* By assigning `NULL` to `rowname`, the rowname can be reset."
   ]
  },
  {
   "cell_type": "code",
   "execution_count": 33,
   "metadata": {
    "scrolled": true
   },
   "outputs": [
    {
     "data": {
      "text/html": [
       "<table>\n",
       "<caption>A data.frame: 10 × 5</caption>\n",
       "<thead>\n",
       "\t<tr><th></th><th scope=col>Name</th><th scope=col>StartDate</th><th scope=col>EndDate</th><th scope=col>Hospital</th><th scope=col>Ward</th></tr>\n",
       "\t<tr><th></th><th scope=col>&lt;chr&gt;</th><th scope=col>&lt;chr&gt;</th><th scope=col>&lt;chr&gt;</th><th scope=col>&lt;chr&gt;</th><th scope=col>&lt;chr&gt;</th></tr>\n",
       "</thead>\n",
       "<tbody>\n",
       "\t<tr><th scope=row>1</th><td>Alleen</td><td>2005-01-08</td><td>2005-01-16</td><td>WCHH</td><td>9C</td></tr>\n",
       "\t<tr><th scope=row>2</th><td>Alleen</td><td>2004-01-08</td><td>2004-01-11</td><td>TWEH</td><td>8B</td></tr>\n",
       "\t<tr><th scope=row>3</th><td>Alleen</td><td>2002-03-06</td><td>2002-03-14</td><td>TSKH</td><td>6B</td></tr>\n",
       "\t<tr><th scope=row>4</th><td>Alleen</td><td>2001-05-27</td><td>2001-06-05</td><td>CCH </td><td>4A</td></tr>\n",
       "\t<tr><th scope=row>5</th><td>Alleen</td><td>2000-07-07</td><td>2000-07-17</td><td>SJH </td><td>6A</td></tr>\n",
       "\t<tr><th scope=row>6</th><td>Alona </td><td>2002-08-14</td><td>2002-08-17</td><td>TWEH</td><td>3A</td></tr>\n",
       "\t<tr><th scope=row>7</th><td>Alona </td><td>2001-08-19</td><td>2001-08-28</td><td>RH  </td><td>9C</td></tr>\n",
       "\t<tr><th scope=row>8</th><td>Barb  </td><td>2003-08-27</td><td>2003-09-06</td><td>WCHH</td><td>5A</td></tr>\n",
       "\t<tr><th scope=row>9</th><td>Barb  </td><td>2002-07-27</td><td>2002-07-30</td><td>RH  </td><td>9C</td></tr>\n",
       "\t<tr><th scope=row>10</th><td>Barb  </td><td>2002-04-03</td><td>2002-04-11</td><td>SJH </td><td>8A</td></tr>\n",
       "</tbody>\n",
       "</table>\n"
      ],
      "text/latex": [
       "A data.frame: 10 × 5\n",
       "\\begin{tabular}{r|lllll}\n",
       "  & Name & StartDate & EndDate & Hospital & Ward\\\\\n",
       "  & <chr> & <chr> & <chr> & <chr> & <chr>\\\\\n",
       "\\hline\n",
       "\t1 & Alleen & 2005-01-08 & 2005-01-16 & WCHH & 9C\\\\\n",
       "\t2 & Alleen & 2004-01-08 & 2004-01-11 & TWEH & 8B\\\\\n",
       "\t3 & Alleen & 2002-03-06 & 2002-03-14 & TSKH & 6B\\\\\n",
       "\t4 & Alleen & 2001-05-27 & 2001-06-05 & CCH  & 4A\\\\\n",
       "\t5 & Alleen & 2000-07-07 & 2000-07-17 & SJH  & 6A\\\\\n",
       "\t6 & Alona  & 2002-08-14 & 2002-08-17 & TWEH & 3A\\\\\n",
       "\t7 & Alona  & 2001-08-19 & 2001-08-28 & RH   & 9C\\\\\n",
       "\t8 & Barb   & 2003-08-27 & 2003-09-06 & WCHH & 5A\\\\\n",
       "\t9 & Barb   & 2002-07-27 & 2002-07-30 & RH   & 9C\\\\\n",
       "\t10 & Barb   & 2002-04-03 & 2002-04-11 & SJH  & 8A\\\\\n",
       "\\end{tabular}\n"
      ],
      "text/markdown": [
       "\n",
       "A data.frame: 10 × 5\n",
       "\n",
       "| <!--/--> | Name &lt;chr&gt; | StartDate &lt;chr&gt; | EndDate &lt;chr&gt; | Hospital &lt;chr&gt; | Ward &lt;chr&gt; |\n",
       "|---|---|---|---|---|---|\n",
       "| 1 | Alleen | 2005-01-08 | 2005-01-16 | WCHH | 9C |\n",
       "| 2 | Alleen | 2004-01-08 | 2004-01-11 | TWEH | 8B |\n",
       "| 3 | Alleen | 2002-03-06 | 2002-03-14 | TSKH | 6B |\n",
       "| 4 | Alleen | 2001-05-27 | 2001-06-05 | CCH  | 4A |\n",
       "| 5 | Alleen | 2000-07-07 | 2000-07-17 | SJH  | 6A |\n",
       "| 6 | Alona  | 2002-08-14 | 2002-08-17 | TWEH | 3A |\n",
       "| 7 | Alona  | 2001-08-19 | 2001-08-28 | RH   | 9C |\n",
       "| 8 | Barb   | 2003-08-27 | 2003-09-06 | WCHH | 5A |\n",
       "| 9 | Barb   | 2002-07-27 | 2002-07-30 | RH   | 9C |\n",
       "| 10 | Barb   | 2002-04-03 | 2002-04-11 | SJH  | 8A |\n",
       "\n"
      ],
      "text/plain": [
       "   Name   StartDate  EndDate    Hospital Ward\n",
       "1  Alleen 2005-01-08 2005-01-16 WCHH     9C  \n",
       "2  Alleen 2004-01-08 2004-01-11 TWEH     8B  \n",
       "3  Alleen 2002-03-06 2002-03-14 TSKH     6B  \n",
       "4  Alleen 2001-05-27 2001-06-05 CCH      4A  \n",
       "5  Alleen 2000-07-07 2000-07-17 SJH      6A  \n",
       "6  Alona  2002-08-14 2002-08-17 TWEH     3A  \n",
       "7  Alona  2001-08-19 2001-08-28 RH       9C  \n",
       "8  Barb   2003-08-27 2003-09-06 WCHH     5A  \n",
       "9  Barb   2002-07-27 2002-07-30 RH       9C  \n",
       "10 Barb   2002-04-03 2002-04-11 SJH      8A  "
      ]
     },
     "metadata": {},
     "output_type": "display_data"
    }
   ],
   "source": [
    "# Reset the rowname\n",
    "rownames(PatientRecord.Table.Sorted) <- NULL\n",
    "\n",
    "# Print the first 10 lines of the sorted table\n",
    "head(PatientRecord.Table.Sorted, 10)"
   ]
  },
  {
   "cell_type": "markdown",
   "metadata": {},
   "source": [
    "## Column Shifting with `dplyr`\n",
    "\n",
    "* Library `dplyr` is using for data frame manipulation.\n",
    "* Here we will `dplyr::lead` and `dplyr::lag`"
   ]
  },
  {
   "cell_type": "code",
   "execution_count": 34,
   "metadata": {},
   "outputs": [
    {
     "name": "stdout",
     "output_type": "stream",
     "text": [
      " [1]  1  2  3  4  5  6  7  8  9 10\n",
      " [1]  2  3  4  5  6  7  8  9 10 NA\n",
      " [1] NA  1  2  3  4  5  6  7  8  9\n"
     ]
    }
   ],
   "source": [
    "# Loading the library\n",
    "library(dplyr, warn.conflicts = FALSE)\n",
    "\n",
    "# For example, dplyr::lead can shift a vector backwards\n",
    "v = 1:10\n",
    "print(v)\n",
    "print(dplyr::lead(v, 1))\n",
    "\n",
    "# dplyr::lag can shift a vector forwards\n",
    "print(dplyr::lag(v, 1))"
   ]
  },
  {
   "cell_type": "markdown",
   "metadata": {},
   "source": [
    "#### Example: Making Columns for Previous Hospitals and Previous Ward for Each Patient"
   ]
  },
  {
   "cell_type": "code",
   "execution_count": 35,
   "metadata": {},
   "outputs": [
    {
     "name": "stdout",
     "output_type": "stream",
     "text": [
      "         Name  StartDate    EndDate Hospital Ward LastHospital LastWard\n",
      "1   Chantelle 2000-04-16 2000-04-21       RH   8C         <NA>     <NA>\n",
      "26  Chantelle 2001-03-29 2001-04-04       RH   6B           RH       8C\n",
      "106 Chantelle 2003-01-20 2003-01-27     WCHH   3A           RH       6B\n",
      "\n",
      "      Name  StartDate    EndDate Hospital Ward LastHospital LastWard\n",
      "5   Alleen 2000-07-07 2000-07-17      SJH   6A         <NA>     <NA>\n",
      "33  Alleen 2001-05-27 2001-06-05      CCH   4A          SJH       6A\n",
      "67  Alleen 2002-03-06 2002-03-14     TSKH   6B          CCH       4A\n",
      "129 Alleen 2004-01-08 2004-01-11     TWEH   8B         TSKH       6B\n",
      "140 Alleen 2005-01-08 2005-01-16     WCHH   9C         TWEH       8B\n"
     ]
    }
   ],
   "source": [
    "# Making a new data.frame to store PatientRecord.Table with Last hospital and Last Ward\n",
    "PatientRecord.Table.withLast <- PatientRecord.Table\n",
    "\n",
    "# The for loop run over factors of PatientRecord.Table$Name\n",
    "for (name_i in levels(factor(PatientRecord.Table$Name))){\n",
    "    # Store vector of hospitals of patient name_i\n",
    "    tmp <- PatientRecord.Table$Hospital[PatientRecord.Table$Name == name_i]\n",
    "    # Shift the vector forwards and store it in the new column namely LastHospital\n",
    "    PatientRecord.Table.withLast$LastHospital[PatientRecord.Table$Name == name_i] <- dplyr::lag(tmp, 1)\n",
    "    \n",
    "    # Store vector of wards of patient name_i\n",
    "    tmp <- PatientRecord.Table$Ward[PatientRecord.Table$Name == name_i]\n",
    "    # Shift the vector forwards and store it in the new column namely LastWard    \n",
    "    PatientRecord.Table.withLast$LastWard[PatientRecord.Table$Name == name_i] <- dplyr::lag(tmp, 1)\n",
    "}\n",
    "\n",
    "# Checking for the patient Chantelle\n",
    "print(PatientRecord.Table.withLast[PatientRecord.Table$Name == \"Chantelle\",])\n",
    "\n",
    "cat(\"\\n\")\n",
    "\n",
    "# Checking for the patient Alleen\n",
    "print(PatientRecord.Table.withLast[PatientRecord.Table$Name == \"Alleen\",])"
   ]
  },
  {
   "cell_type": "markdown",
   "metadata": {},
   "source": [
    "## Table Joining with `dplyr`\n",
    "\n",
    "* `dplyr` provides functions `inner_join`, `left_join`, `right_join`, `full_join` etc. The meanings of those functions are the same as their counterparts in SQL.\n",
    "* For detail, please check https://dplyr.tidyverse.org/reference/join.html"
   ]
  },
  {
   "cell_type": "markdown",
   "metadata": {},
   "source": [
    "#### Example: Inner-Join Two Tables"
   ]
  },
  {
   "cell_type": "code",
   "execution_count": 36,
   "metadata": {
    "scrolled": true
   },
   "outputs": [
    {
     "data": {
      "text/html": [
       "<table>\n",
       "<caption>A data.frame: 10 × 6</caption>\n",
       "<thead>\n",
       "\t<tr><th></th><th scope=col>Name</th><th scope=col>StartDate</th><th scope=col>EndDate</th><th scope=col>Hospital</th><th scope=col>Ward</th><th scope=col>EquipGrade</th></tr>\n",
       "\t<tr><th></th><th scope=col>&lt;chr&gt;</th><th scope=col>&lt;chr&gt;</th><th scope=col>&lt;chr&gt;</th><th scope=col>&lt;chr&gt;</th><th scope=col>&lt;chr&gt;</th><th scope=col>&lt;chr&gt;</th></tr>\n",
       "</thead>\n",
       "<tbody>\n",
       "\t<tr><th scope=row>1</th><td>Chantelle</td><td>2000-04-16</td><td>2000-04-21</td><td>RH   </td><td>8C</td><td>Low     </td></tr>\n",
       "\t<tr><th scope=row>2</th><td>Silva    </td><td>2000-05-07</td><td>2000-05-16</td><td>TSKH </td><td>5A</td><td>Moderate</td></tr>\n",
       "\t<tr><th scope=row>3</th><td>Maybelle </td><td>2000-06-10</td><td>2000-06-13</td><td>WCHH </td><td>5A</td><td>High    </td></tr>\n",
       "\t<tr><th scope=row>4</th><td>Wilhemina</td><td>2000-06-12</td><td>2000-06-18</td><td>WCHH </td><td>5A</td><td>High    </td></tr>\n",
       "\t<tr><th scope=row>5</th><td>Alleen   </td><td>2000-07-07</td><td>2000-07-17</td><td>SJH  </td><td>6A</td><td>Moderate</td></tr>\n",
       "\t<tr><th scope=row>6</th><td>Natalia  </td><td>2000-07-25</td><td>2000-08-02</td><td>PYNEH</td><td>8B</td><td>Low     </td></tr>\n",
       "\t<tr><th scope=row>7</th><td>Lawanda  </td><td>2000-09-04</td><td>2000-09-14</td><td>WCHH </td><td>9A</td><td>High    </td></tr>\n",
       "\t<tr><th scope=row>8</th><td>Tonita   </td><td>2000-09-16</td><td>2000-09-26</td><td>RH   </td><td>4C</td><td>Low     </td></tr>\n",
       "\t<tr><th scope=row>9</th><td>Ned      </td><td>2000-10-21</td><td>2000-10-26</td><td>RH   </td><td>6A</td><td>Low     </td></tr>\n",
       "\t<tr><th scope=row>10</th><td>Silva    </td><td>2000-10-25</td><td>2000-10-30</td><td>RH   </td><td>9A</td><td>Low     </td></tr>\n",
       "</tbody>\n",
       "</table>\n"
      ],
      "text/latex": [
       "A data.frame: 10 × 6\n",
       "\\begin{tabular}{r|llllll}\n",
       "  & Name & StartDate & EndDate & Hospital & Ward & EquipGrade\\\\\n",
       "  & <chr> & <chr> & <chr> & <chr> & <chr> & <chr>\\\\\n",
       "\\hline\n",
       "\t1 & Chantelle & 2000-04-16 & 2000-04-21 & RH    & 8C & Low     \\\\\n",
       "\t2 & Silva     & 2000-05-07 & 2000-05-16 & TSKH  & 5A & Moderate\\\\\n",
       "\t3 & Maybelle  & 2000-06-10 & 2000-06-13 & WCHH  & 5A & High    \\\\\n",
       "\t4 & Wilhemina & 2000-06-12 & 2000-06-18 & WCHH  & 5A & High    \\\\\n",
       "\t5 & Alleen    & 2000-07-07 & 2000-07-17 & SJH   & 6A & Moderate\\\\\n",
       "\t6 & Natalia   & 2000-07-25 & 2000-08-02 & PYNEH & 8B & Low     \\\\\n",
       "\t7 & Lawanda   & 2000-09-04 & 2000-09-14 & WCHH  & 9A & High    \\\\\n",
       "\t8 & Tonita    & 2000-09-16 & 2000-09-26 & RH    & 4C & Low     \\\\\n",
       "\t9 & Ned       & 2000-10-21 & 2000-10-26 & RH    & 6A & Low     \\\\\n",
       "\t10 & Silva     & 2000-10-25 & 2000-10-30 & RH    & 9A & Low     \\\\\n",
       "\\end{tabular}\n"
      ],
      "text/markdown": [
       "\n",
       "A data.frame: 10 × 6\n",
       "\n",
       "| <!--/--> | Name &lt;chr&gt; | StartDate &lt;chr&gt; | EndDate &lt;chr&gt; | Hospital &lt;chr&gt; | Ward &lt;chr&gt; | EquipGrade &lt;chr&gt; |\n",
       "|---|---|---|---|---|---|---|\n",
       "| 1 | Chantelle | 2000-04-16 | 2000-04-21 | RH    | 8C | Low      |\n",
       "| 2 | Silva     | 2000-05-07 | 2000-05-16 | TSKH  | 5A | Moderate |\n",
       "| 3 | Maybelle  | 2000-06-10 | 2000-06-13 | WCHH  | 5A | High     |\n",
       "| 4 | Wilhemina | 2000-06-12 | 2000-06-18 | WCHH  | 5A | High     |\n",
       "| 5 | Alleen    | 2000-07-07 | 2000-07-17 | SJH   | 6A | Moderate |\n",
       "| 6 | Natalia   | 2000-07-25 | 2000-08-02 | PYNEH | 8B | Low      |\n",
       "| 7 | Lawanda   | 2000-09-04 | 2000-09-14 | WCHH  | 9A | High     |\n",
       "| 8 | Tonita    | 2000-09-16 | 2000-09-26 | RH    | 4C | Low      |\n",
       "| 9 | Ned       | 2000-10-21 | 2000-10-26 | RH    | 6A | Low      |\n",
       "| 10 | Silva     | 2000-10-25 | 2000-10-30 | RH    | 9A | Low      |\n",
       "\n"
      ],
      "text/plain": [
       "   Name      StartDate  EndDate    Hospital Ward EquipGrade\n",
       "1  Chantelle 2000-04-16 2000-04-21 RH       8C   Low       \n",
       "2  Silva     2000-05-07 2000-05-16 TSKH     5A   Moderate  \n",
       "3  Maybelle  2000-06-10 2000-06-13 WCHH     5A   High      \n",
       "4  Wilhemina 2000-06-12 2000-06-18 WCHH     5A   High      \n",
       "5  Alleen    2000-07-07 2000-07-17 SJH      6A   Moderate  \n",
       "6  Natalia   2000-07-25 2000-08-02 PYNEH    8B   Low       \n",
       "7  Lawanda   2000-09-04 2000-09-14 WCHH     9A   High      \n",
       "8  Tonita    2000-09-16 2000-09-26 RH       4C   Low       \n",
       "9  Ned       2000-10-21 2000-10-26 RH       6A   Low       \n",
       "10 Silva     2000-10-25 2000-10-30 RH       9A   Low       "
      ]
     },
     "metadata": {},
     "output_type": "display_data"
    }
   ],
   "source": [
    "# Print first few lines the outcome of inner-join of two tables\n",
    "head(dplyr::inner_join(PatientRecord.Table, Hospitals.Table, by = c(\"Hospital\" = \"Hospital\")), 10)"
   ]
  },
  {
   "cell_type": "markdown",
   "metadata": {},
   "source": [
    "#### Example: Left-Join Two Tables"
   ]
  },
  {
   "cell_type": "code",
   "execution_count": 37,
   "metadata": {
    "scrolled": true
   },
   "outputs": [
    {
     "data": {
      "text/html": [
       "<table>\n",
       "<caption>A data.frame: 10 × 6</caption>\n",
       "<thead>\n",
       "\t<tr><th></th><th scope=col>Name</th><th scope=col>StartDate</th><th scope=col>EndDate</th><th scope=col>Hospital</th><th scope=col>Ward</th><th scope=col>EquipGrade</th></tr>\n",
       "\t<tr><th></th><th scope=col>&lt;chr&gt;</th><th scope=col>&lt;chr&gt;</th><th scope=col>&lt;chr&gt;</th><th scope=col>&lt;chr&gt;</th><th scope=col>&lt;chr&gt;</th><th scope=col>&lt;chr&gt;</th></tr>\n",
       "</thead>\n",
       "<tbody>\n",
       "\t<tr><th scope=row>1</th><td>Chantelle</td><td>2000-04-16</td><td>2000-04-21</td><td>RH   </td><td>8C</td><td>NA </td></tr>\n",
       "\t<tr><th scope=row>2</th><td>Silva    </td><td>2000-05-07</td><td>2000-05-16</td><td>TSKH </td><td>5A</td><td>NA </td></tr>\n",
       "\t<tr><th scope=row>3</th><td>Maybelle </td><td>2000-06-10</td><td>2000-06-13</td><td>WCHH </td><td>5A</td><td>NA </td></tr>\n",
       "\t<tr><th scope=row>4</th><td>Wilhemina</td><td>2000-06-12</td><td>2000-06-18</td><td>WCHH </td><td>5A</td><td>NA </td></tr>\n",
       "\t<tr><th scope=row>5</th><td>Alleen   </td><td>2000-07-07</td><td>2000-07-17</td><td>SJH  </td><td>6A</td><td>NA </td></tr>\n",
       "\t<tr><th scope=row>6</th><td>Natalia  </td><td>2000-07-25</td><td>2000-08-02</td><td>PYNEH</td><td>8B</td><td>Low</td></tr>\n",
       "\t<tr><th scope=row>7</th><td>Lawanda  </td><td>2000-09-04</td><td>2000-09-14</td><td>WCHH </td><td>9A</td><td>NA </td></tr>\n",
       "\t<tr><th scope=row>8</th><td>Tonita   </td><td>2000-09-16</td><td>2000-09-26</td><td>RH   </td><td>4C</td><td>NA </td></tr>\n",
       "\t<tr><th scope=row>9</th><td>Ned      </td><td>2000-10-21</td><td>2000-10-26</td><td>RH   </td><td>6A</td><td>NA </td></tr>\n",
       "\t<tr><th scope=row>10</th><td>Silva    </td><td>2000-10-25</td><td>2000-10-30</td><td>RH   </td><td>9A</td><td>NA </td></tr>\n",
       "</tbody>\n",
       "</table>\n"
      ],
      "text/latex": [
       "A data.frame: 10 × 6\n",
       "\\begin{tabular}{r|llllll}\n",
       "  & Name & StartDate & EndDate & Hospital & Ward & EquipGrade\\\\\n",
       "  & <chr> & <chr> & <chr> & <chr> & <chr> & <chr>\\\\\n",
       "\\hline\n",
       "\t1 & Chantelle & 2000-04-16 & 2000-04-21 & RH    & 8C & NA \\\\\n",
       "\t2 & Silva     & 2000-05-07 & 2000-05-16 & TSKH  & 5A & NA \\\\\n",
       "\t3 & Maybelle  & 2000-06-10 & 2000-06-13 & WCHH  & 5A & NA \\\\\n",
       "\t4 & Wilhemina & 2000-06-12 & 2000-06-18 & WCHH  & 5A & NA \\\\\n",
       "\t5 & Alleen    & 2000-07-07 & 2000-07-17 & SJH   & 6A & NA \\\\\n",
       "\t6 & Natalia   & 2000-07-25 & 2000-08-02 & PYNEH & 8B & Low\\\\\n",
       "\t7 & Lawanda   & 2000-09-04 & 2000-09-14 & WCHH  & 9A & NA \\\\\n",
       "\t8 & Tonita    & 2000-09-16 & 2000-09-26 & RH    & 4C & NA \\\\\n",
       "\t9 & Ned       & 2000-10-21 & 2000-10-26 & RH    & 6A & NA \\\\\n",
       "\t10 & Silva     & 2000-10-25 & 2000-10-30 & RH    & 9A & NA \\\\\n",
       "\\end{tabular}\n"
      ],
      "text/markdown": [
       "\n",
       "A data.frame: 10 × 6\n",
       "\n",
       "| <!--/--> | Name &lt;chr&gt; | StartDate &lt;chr&gt; | EndDate &lt;chr&gt; | Hospital &lt;chr&gt; | Ward &lt;chr&gt; | EquipGrade &lt;chr&gt; |\n",
       "|---|---|---|---|---|---|---|\n",
       "| 1 | Chantelle | 2000-04-16 | 2000-04-21 | RH    | 8C | NA  |\n",
       "| 2 | Silva     | 2000-05-07 | 2000-05-16 | TSKH  | 5A | NA  |\n",
       "| 3 | Maybelle  | 2000-06-10 | 2000-06-13 | WCHH  | 5A | NA  |\n",
       "| 4 | Wilhemina | 2000-06-12 | 2000-06-18 | WCHH  | 5A | NA  |\n",
       "| 5 | Alleen    | 2000-07-07 | 2000-07-17 | SJH   | 6A | NA  |\n",
       "| 6 | Natalia   | 2000-07-25 | 2000-08-02 | PYNEH | 8B | Low |\n",
       "| 7 | Lawanda   | 2000-09-04 | 2000-09-14 | WCHH  | 9A | NA  |\n",
       "| 8 | Tonita    | 2000-09-16 | 2000-09-26 | RH    | 4C | NA  |\n",
       "| 9 | Ned       | 2000-10-21 | 2000-10-26 | RH    | 6A | NA  |\n",
       "| 10 | Silva     | 2000-10-25 | 2000-10-30 | RH    | 9A | NA  |\n",
       "\n"
      ],
      "text/plain": [
       "   Name      StartDate  EndDate    Hospital Ward EquipGrade\n",
       "1  Chantelle 2000-04-16 2000-04-21 RH       8C   NA        \n",
       "2  Silva     2000-05-07 2000-05-16 TSKH     5A   NA        \n",
       "3  Maybelle  2000-06-10 2000-06-13 WCHH     5A   NA        \n",
       "4  Wilhemina 2000-06-12 2000-06-18 WCHH     5A   NA        \n",
       "5  Alleen    2000-07-07 2000-07-17 SJH      6A   NA        \n",
       "6  Natalia   2000-07-25 2000-08-02 PYNEH    8B   Low       \n",
       "7  Lawanda   2000-09-04 2000-09-14 WCHH     9A   NA        \n",
       "8  Tonita    2000-09-16 2000-09-26 RH       4C   NA        \n",
       "9  Ned       2000-10-21 2000-10-26 RH       6A   NA        \n",
       "10 Silva     2000-10-25 2000-10-30 RH       9A   NA        "
      ]
     },
     "metadata": {},
     "output_type": "display_data"
    }
   ],
   "source": [
    "# Make an incomplete table to show left-join\n",
    "Hospitals.Table.incomplete <- Hospitals.Table[1:2,]\n",
    "\n",
    "# Print first few lines the outcome of left-join of two tables\n",
    "head(dplyr::left_join(PatientRecord.Table, Hospitals.Table.incomplete, by = c(\"Hospital\" = \"Hospital\")), 10)"
   ]
  },
  {
   "cell_type": "markdown",
   "metadata": {},
   "source": [
    "* Then many entries in EquipGrade become NA, as expected for left-join with an incomplete table."
   ]
  },
  {
   "cell_type": "markdown",
   "metadata": {},
   "source": [
    "## Other Operations Avilable in `dplyr`\n",
    "\n",
    "In this subsection, toy datasets from MASS will be used for demonstractions."
   ]
  },
  {
   "cell_type": "markdown",
   "metadata": {},
   "source": [
    "### Toy Datasets\n",
    "\n",
    "Here we load the MASS library and use its Rabbit data frame."
   ]
  },
  {
   "cell_type": "code",
   "execution_count": 38,
   "metadata": {},
   "outputs": [],
   "source": [
    "# Load the MASS library\n",
    "library(MASS, warn.conflicts = FALSE)\n",
    "\n",
    "# Assign the MASS::Rabbit data.frame to a new data.frame\n",
    "rabbit <- MASS::Rabbit"
   ]
  },
  {
   "cell_type": "markdown",
   "metadata": {},
   "source": [
    "#### Content of the data frame "
   ]
  },
  {
   "cell_type": "code",
   "execution_count": 39,
   "metadata": {},
   "outputs": [
    {
     "data": {
      "text/html": [
       "<table>\n",
       "<caption>A data.frame: 10 × 5</caption>\n",
       "<thead>\n",
       "\t<tr><th></th><th scope=col>BPchange</th><th scope=col>Dose</th><th scope=col>Run</th><th scope=col>Treatment</th><th scope=col>Animal</th></tr>\n",
       "\t<tr><th></th><th scope=col>&lt;dbl&gt;</th><th scope=col>&lt;dbl&gt;</th><th scope=col>&lt;fct&gt;</th><th scope=col>&lt;fct&gt;</th><th scope=col>&lt;fct&gt;</th></tr>\n",
       "</thead>\n",
       "<tbody>\n",
       "\t<tr><th scope=row>1</th><td> 0.50</td><td>  6.25</td><td>C1</td><td>Control</td><td>R1</td></tr>\n",
       "\t<tr><th scope=row>2</th><td> 4.50</td><td> 12.50</td><td>C1</td><td>Control</td><td>R1</td></tr>\n",
       "\t<tr><th scope=row>3</th><td>10.00</td><td> 25.00</td><td>C1</td><td>Control</td><td>R1</td></tr>\n",
       "\t<tr><th scope=row>4</th><td>26.00</td><td> 50.00</td><td>C1</td><td>Control</td><td>R1</td></tr>\n",
       "\t<tr><th scope=row>5</th><td>37.00</td><td>100.00</td><td>C1</td><td>Control</td><td>R1</td></tr>\n",
       "\t<tr><th scope=row>6</th><td>32.00</td><td>200.00</td><td>C1</td><td>Control</td><td>R1</td></tr>\n",
       "\t<tr><th scope=row>7</th><td> 1.00</td><td>  6.25</td><td>C2</td><td>Control</td><td>R2</td></tr>\n",
       "\t<tr><th scope=row>8</th><td> 1.25</td><td> 12.50</td><td>C2</td><td>Control</td><td>R2</td></tr>\n",
       "\t<tr><th scope=row>9</th><td> 4.00</td><td> 25.00</td><td>C2</td><td>Control</td><td>R2</td></tr>\n",
       "\t<tr><th scope=row>10</th><td>12.00</td><td> 50.00</td><td>C2</td><td>Control</td><td>R2</td></tr>\n",
       "</tbody>\n",
       "</table>\n"
      ],
      "text/latex": [
       "A data.frame: 10 × 5\n",
       "\\begin{tabular}{r|lllll}\n",
       "  & BPchange & Dose & Run & Treatment & Animal\\\\\n",
       "  & <dbl> & <dbl> & <fct> & <fct> & <fct>\\\\\n",
       "\\hline\n",
       "\t1 &  0.50 &   6.25 & C1 & Control & R1\\\\\n",
       "\t2 &  4.50 &  12.50 & C1 & Control & R1\\\\\n",
       "\t3 & 10.00 &  25.00 & C1 & Control & R1\\\\\n",
       "\t4 & 26.00 &  50.00 & C1 & Control & R1\\\\\n",
       "\t5 & 37.00 & 100.00 & C1 & Control & R1\\\\\n",
       "\t6 & 32.00 & 200.00 & C1 & Control & R1\\\\\n",
       "\t7 &  1.00 &   6.25 & C2 & Control & R2\\\\\n",
       "\t8 &  1.25 &  12.50 & C2 & Control & R2\\\\\n",
       "\t9 &  4.00 &  25.00 & C2 & Control & R2\\\\\n",
       "\t10 & 12.00 &  50.00 & C2 & Control & R2\\\\\n",
       "\\end{tabular}\n"
      ],
      "text/markdown": [
       "\n",
       "A data.frame: 10 × 5\n",
       "\n",
       "| <!--/--> | BPchange &lt;dbl&gt; | Dose &lt;dbl&gt; | Run &lt;fct&gt; | Treatment &lt;fct&gt; | Animal &lt;fct&gt; |\n",
       "|---|---|---|---|---|---|\n",
       "| 1 |  0.50 |   6.25 | C1 | Control | R1 |\n",
       "| 2 |  4.50 |  12.50 | C1 | Control | R1 |\n",
       "| 3 | 10.00 |  25.00 | C1 | Control | R1 |\n",
       "| 4 | 26.00 |  50.00 | C1 | Control | R1 |\n",
       "| 5 | 37.00 | 100.00 | C1 | Control | R1 |\n",
       "| 6 | 32.00 | 200.00 | C1 | Control | R1 |\n",
       "| 7 |  1.00 |   6.25 | C2 | Control | R2 |\n",
       "| 8 |  1.25 |  12.50 | C2 | Control | R2 |\n",
       "| 9 |  4.00 |  25.00 | C2 | Control | R2 |\n",
       "| 10 | 12.00 |  50.00 | C2 | Control | R2 |\n",
       "\n"
      ],
      "text/plain": [
       "   BPchange Dose   Run Treatment Animal\n",
       "1   0.50      6.25 C1  Control   R1    \n",
       "2   4.50     12.50 C1  Control   R1    \n",
       "3  10.00     25.00 C1  Control   R1    \n",
       "4  26.00     50.00 C1  Control   R1    \n",
       "5  37.00    100.00 C1  Control   R1    \n",
       "6  32.00    200.00 C1  Control   R1    \n",
       "7   1.00      6.25 C2  Control   R2    \n",
       "8   1.25     12.50 C2  Control   R2    \n",
       "9   4.00     25.00 C2  Control   R2    \n",
       "10 12.00     50.00 C2  Control   R2    "
      ]
     },
     "metadata": {},
     "output_type": "display_data"
    }
   ],
   "source": [
    "# Print first few lines\n",
    "head(rabbit, 10)"
   ]
  },
  {
   "cell_type": "markdown",
   "metadata": {},
   "source": [
    "### `dplyr::select()` ： Column Selction"
   ]
  },
  {
   "cell_type": "code",
   "execution_count": 40,
   "metadata": {},
   "outputs": [
    {
     "data": {
      "text/html": [
       "<table>\n",
       "<caption>A data.frame: 6 × 3</caption>\n",
       "<thead>\n",
       "\t<tr><th></th><th scope=col>BPchange</th><th scope=col>Dose</th><th scope=col>Animal</th></tr>\n",
       "\t<tr><th></th><th scope=col>&lt;dbl&gt;</th><th scope=col>&lt;dbl&gt;</th><th scope=col>&lt;fct&gt;</th></tr>\n",
       "</thead>\n",
       "<tbody>\n",
       "\t<tr><th scope=row>1</th><td> 0.5</td><td>  6.25</td><td>R1</td></tr>\n",
       "\t<tr><th scope=row>2</th><td> 4.5</td><td> 12.50</td><td>R1</td></tr>\n",
       "\t<tr><th scope=row>3</th><td>10.0</td><td> 25.00</td><td>R1</td></tr>\n",
       "\t<tr><th scope=row>4</th><td>26.0</td><td> 50.00</td><td>R1</td></tr>\n",
       "\t<tr><th scope=row>5</th><td>37.0</td><td>100.00</td><td>R1</td></tr>\n",
       "\t<tr><th scope=row>6</th><td>32.0</td><td>200.00</td><td>R1</td></tr>\n",
       "</tbody>\n",
       "</table>\n"
      ],
      "text/latex": [
       "A data.frame: 6 × 3\n",
       "\\begin{tabular}{r|lll}\n",
       "  & BPchange & Dose & Animal\\\\\n",
       "  & <dbl> & <dbl> & <fct>\\\\\n",
       "\\hline\n",
       "\t1 &  0.5 &   6.25 & R1\\\\\n",
       "\t2 &  4.5 &  12.50 & R1\\\\\n",
       "\t3 & 10.0 &  25.00 & R1\\\\\n",
       "\t4 & 26.0 &  50.00 & R1\\\\\n",
       "\t5 & 37.0 & 100.00 & R1\\\\\n",
       "\t6 & 32.0 & 200.00 & R1\\\\\n",
       "\\end{tabular}\n"
      ],
      "text/markdown": [
       "\n",
       "A data.frame: 6 × 3\n",
       "\n",
       "| <!--/--> | BPchange &lt;dbl&gt; | Dose &lt;dbl&gt; | Animal &lt;fct&gt; |\n",
       "|---|---|---|---|\n",
       "| 1 |  0.5 |   6.25 | R1 |\n",
       "| 2 |  4.5 |  12.50 | R1 |\n",
       "| 3 | 10.0 |  25.00 | R1 |\n",
       "| 4 | 26.0 |  50.00 | R1 |\n",
       "| 5 | 37.0 | 100.00 | R1 |\n",
       "| 6 | 32.0 | 200.00 | R1 |\n",
       "\n"
      ],
      "text/plain": [
       "  BPchange Dose   Animal\n",
       "1  0.5       6.25 R1    \n",
       "2  4.5      12.50 R1    \n",
       "3 10.0      25.00 R1    \n",
       "4 26.0      50.00 R1    \n",
       "5 37.0     100.00 R1    \n",
       "6 32.0     200.00 R1    "
      ]
     },
     "metadata": {},
     "output_type": "display_data"
    }
   ],
   "source": [
    "# Select columns of the data.frame\n",
    "result <- rabbit %>% dplyr::select(BPchange, Dose, Animal)\n",
    "\n",
    "# Print first few lines\n",
    "head(result)"
   ]
  },
  {
   "cell_type": "markdown",
   "metadata": {},
   "source": [
    "### `dplyr::rename` : Rename Column Name"
   ]
  },
  {
   "cell_type": "code",
   "execution_count": 41,
   "metadata": {},
   "outputs": [
    {
     "data": {
      "text/html": [
       "<table>\n",
       "<caption>A data.frame: 10 × 5</caption>\n",
       "<thead>\n",
       "\t<tr><th></th><th scope=col>ChangeInBP</th><th scope=col>Dose</th><th scope=col>Run</th><th scope=col>Treatment</th><th scope=col>Animal</th></tr>\n",
       "\t<tr><th></th><th scope=col>&lt;dbl&gt;</th><th scope=col>&lt;dbl&gt;</th><th scope=col>&lt;fct&gt;</th><th scope=col>&lt;fct&gt;</th><th scope=col>&lt;fct&gt;</th></tr>\n",
       "</thead>\n",
       "<tbody>\n",
       "\t<tr><th scope=row>1</th><td> 0.50</td><td>  6.25</td><td>C1</td><td>Control</td><td>R1</td></tr>\n",
       "\t<tr><th scope=row>2</th><td> 4.50</td><td> 12.50</td><td>C1</td><td>Control</td><td>R1</td></tr>\n",
       "\t<tr><th scope=row>3</th><td>10.00</td><td> 25.00</td><td>C1</td><td>Control</td><td>R1</td></tr>\n",
       "\t<tr><th scope=row>4</th><td>26.00</td><td> 50.00</td><td>C1</td><td>Control</td><td>R1</td></tr>\n",
       "\t<tr><th scope=row>5</th><td>37.00</td><td>100.00</td><td>C1</td><td>Control</td><td>R1</td></tr>\n",
       "\t<tr><th scope=row>6</th><td>32.00</td><td>200.00</td><td>C1</td><td>Control</td><td>R1</td></tr>\n",
       "\t<tr><th scope=row>7</th><td> 1.00</td><td>  6.25</td><td>C2</td><td>Control</td><td>R2</td></tr>\n",
       "\t<tr><th scope=row>8</th><td> 1.25</td><td> 12.50</td><td>C2</td><td>Control</td><td>R2</td></tr>\n",
       "\t<tr><th scope=row>9</th><td> 4.00</td><td> 25.00</td><td>C2</td><td>Control</td><td>R2</td></tr>\n",
       "\t<tr><th scope=row>10</th><td>12.00</td><td> 50.00</td><td>C2</td><td>Control</td><td>R2</td></tr>\n",
       "</tbody>\n",
       "</table>\n"
      ],
      "text/latex": [
       "A data.frame: 10 × 5\n",
       "\\begin{tabular}{r|lllll}\n",
       "  & ChangeInBP & Dose & Run & Treatment & Animal\\\\\n",
       "  & <dbl> & <dbl> & <fct> & <fct> & <fct>\\\\\n",
       "\\hline\n",
       "\t1 &  0.50 &   6.25 & C1 & Control & R1\\\\\n",
       "\t2 &  4.50 &  12.50 & C1 & Control & R1\\\\\n",
       "\t3 & 10.00 &  25.00 & C1 & Control & R1\\\\\n",
       "\t4 & 26.00 &  50.00 & C1 & Control & R1\\\\\n",
       "\t5 & 37.00 & 100.00 & C1 & Control & R1\\\\\n",
       "\t6 & 32.00 & 200.00 & C1 & Control & R1\\\\\n",
       "\t7 &  1.00 &   6.25 & C2 & Control & R2\\\\\n",
       "\t8 &  1.25 &  12.50 & C2 & Control & R2\\\\\n",
       "\t9 &  4.00 &  25.00 & C2 & Control & R2\\\\\n",
       "\t10 & 12.00 &  50.00 & C2 & Control & R2\\\\\n",
       "\\end{tabular}\n"
      ],
      "text/markdown": [
       "\n",
       "A data.frame: 10 × 5\n",
       "\n",
       "| <!--/--> | ChangeInBP &lt;dbl&gt; | Dose &lt;dbl&gt; | Run &lt;fct&gt; | Treatment &lt;fct&gt; | Animal &lt;fct&gt; |\n",
       "|---|---|---|---|---|---|\n",
       "| 1 |  0.50 |   6.25 | C1 | Control | R1 |\n",
       "| 2 |  4.50 |  12.50 | C1 | Control | R1 |\n",
       "| 3 | 10.00 |  25.00 | C1 | Control | R1 |\n",
       "| 4 | 26.00 |  50.00 | C1 | Control | R1 |\n",
       "| 5 | 37.00 | 100.00 | C1 | Control | R1 |\n",
       "| 6 | 32.00 | 200.00 | C1 | Control | R1 |\n",
       "| 7 |  1.00 |   6.25 | C2 | Control | R2 |\n",
       "| 8 |  1.25 |  12.50 | C2 | Control | R2 |\n",
       "| 9 |  4.00 |  25.00 | C2 | Control | R2 |\n",
       "| 10 | 12.00 |  50.00 | C2 | Control | R2 |\n",
       "\n"
      ],
      "text/plain": [
       "   ChangeInBP Dose   Run Treatment Animal\n",
       "1   0.50        6.25 C1  Control   R1    \n",
       "2   4.50       12.50 C1  Control   R1    \n",
       "3  10.00       25.00 C1  Control   R1    \n",
       "4  26.00       50.00 C1  Control   R1    \n",
       "5  37.00      100.00 C1  Control   R1    \n",
       "6  32.00      200.00 C1  Control   R1    \n",
       "7   1.00        6.25 C2  Control   R2    \n",
       "8   1.25       12.50 C2  Control   R2    \n",
       "9   4.00       25.00 C2  Control   R2    \n",
       "10 12.00       50.00 C2  Control   R2    "
      ]
     },
     "metadata": {},
     "output_type": "display_data"
    }
   ],
   "source": [
    "# Rename column namely BPchange\n",
    "result <- rabbit %>% dplyr::rename(ChangeInBP = BPchange)\n",
    "\n",
    "# Print first few lines\n",
    "head(result,10)"
   ]
  },
  {
   "cell_type": "markdown",
   "metadata": {},
   "source": [
    "### `dplyr::mutate` : Create, Modify, and Delete Columns"
   ]
  },
  {
   "cell_type": "markdown",
   "metadata": {},
   "source": [
    "#### Create a Column"
   ]
  },
  {
   "cell_type": "code",
   "execution_count": 42,
   "metadata": {},
   "outputs": [
    {
     "data": {
      "text/html": [
       "<table>\n",
       "<caption>A data.frame: 10 × 6</caption>\n",
       "<thead>\n",
       "\t<tr><th></th><th scope=col>BPchange</th><th scope=col>Dose</th><th scope=col>Run</th><th scope=col>Treatment</th><th scope=col>Animal</th><th scope=col>PBchangePlusDose</th></tr>\n",
       "\t<tr><th></th><th scope=col>&lt;dbl&gt;</th><th scope=col>&lt;dbl&gt;</th><th scope=col>&lt;fct&gt;</th><th scope=col>&lt;fct&gt;</th><th scope=col>&lt;fct&gt;</th><th scope=col>&lt;dbl&gt;</th></tr>\n",
       "</thead>\n",
       "<tbody>\n",
       "\t<tr><th scope=row>1</th><td> 0.50</td><td>  6.25</td><td>C1</td><td>Control</td><td>R1</td><td>  6.75</td></tr>\n",
       "\t<tr><th scope=row>2</th><td> 4.50</td><td> 12.50</td><td>C1</td><td>Control</td><td>R1</td><td> 17.00</td></tr>\n",
       "\t<tr><th scope=row>3</th><td>10.00</td><td> 25.00</td><td>C1</td><td>Control</td><td>R1</td><td> 35.00</td></tr>\n",
       "\t<tr><th scope=row>4</th><td>26.00</td><td> 50.00</td><td>C1</td><td>Control</td><td>R1</td><td> 76.00</td></tr>\n",
       "\t<tr><th scope=row>5</th><td>37.00</td><td>100.00</td><td>C1</td><td>Control</td><td>R1</td><td>137.00</td></tr>\n",
       "\t<tr><th scope=row>6</th><td>32.00</td><td>200.00</td><td>C1</td><td>Control</td><td>R1</td><td>232.00</td></tr>\n",
       "\t<tr><th scope=row>7</th><td> 1.00</td><td>  6.25</td><td>C2</td><td>Control</td><td>R2</td><td>  7.25</td></tr>\n",
       "\t<tr><th scope=row>8</th><td> 1.25</td><td> 12.50</td><td>C2</td><td>Control</td><td>R2</td><td> 13.75</td></tr>\n",
       "\t<tr><th scope=row>9</th><td> 4.00</td><td> 25.00</td><td>C2</td><td>Control</td><td>R2</td><td> 29.00</td></tr>\n",
       "\t<tr><th scope=row>10</th><td>12.00</td><td> 50.00</td><td>C2</td><td>Control</td><td>R2</td><td> 62.00</td></tr>\n",
       "</tbody>\n",
       "</table>\n"
      ],
      "text/latex": [
       "A data.frame: 10 × 6\n",
       "\\begin{tabular}{r|llllll}\n",
       "  & BPchange & Dose & Run & Treatment & Animal & PBchangePlusDose\\\\\n",
       "  & <dbl> & <dbl> & <fct> & <fct> & <fct> & <dbl>\\\\\n",
       "\\hline\n",
       "\t1 &  0.50 &   6.25 & C1 & Control & R1 &   6.75\\\\\n",
       "\t2 &  4.50 &  12.50 & C1 & Control & R1 &  17.00\\\\\n",
       "\t3 & 10.00 &  25.00 & C1 & Control & R1 &  35.00\\\\\n",
       "\t4 & 26.00 &  50.00 & C1 & Control & R1 &  76.00\\\\\n",
       "\t5 & 37.00 & 100.00 & C1 & Control & R1 & 137.00\\\\\n",
       "\t6 & 32.00 & 200.00 & C1 & Control & R1 & 232.00\\\\\n",
       "\t7 &  1.00 &   6.25 & C2 & Control & R2 &   7.25\\\\\n",
       "\t8 &  1.25 &  12.50 & C2 & Control & R2 &  13.75\\\\\n",
       "\t9 &  4.00 &  25.00 & C2 & Control & R2 &  29.00\\\\\n",
       "\t10 & 12.00 &  50.00 & C2 & Control & R2 &  62.00\\\\\n",
       "\\end{tabular}\n"
      ],
      "text/markdown": [
       "\n",
       "A data.frame: 10 × 6\n",
       "\n",
       "| <!--/--> | BPchange &lt;dbl&gt; | Dose &lt;dbl&gt; | Run &lt;fct&gt; | Treatment &lt;fct&gt; | Animal &lt;fct&gt; | PBchangePlusDose &lt;dbl&gt; |\n",
       "|---|---|---|---|---|---|---|\n",
       "| 1 |  0.50 |   6.25 | C1 | Control | R1 |   6.75 |\n",
       "| 2 |  4.50 |  12.50 | C1 | Control | R1 |  17.00 |\n",
       "| 3 | 10.00 |  25.00 | C1 | Control | R1 |  35.00 |\n",
       "| 4 | 26.00 |  50.00 | C1 | Control | R1 |  76.00 |\n",
       "| 5 | 37.00 | 100.00 | C1 | Control | R1 | 137.00 |\n",
       "| 6 | 32.00 | 200.00 | C1 | Control | R1 | 232.00 |\n",
       "| 7 |  1.00 |   6.25 | C2 | Control | R2 |   7.25 |\n",
       "| 8 |  1.25 |  12.50 | C2 | Control | R2 |  13.75 |\n",
       "| 9 |  4.00 |  25.00 | C2 | Control | R2 |  29.00 |\n",
       "| 10 | 12.00 |  50.00 | C2 | Control | R2 |  62.00 |\n",
       "\n"
      ],
      "text/plain": [
       "   BPchange Dose   Run Treatment Animal PBchangePlusDose\n",
       "1   0.50      6.25 C1  Control   R1       6.75          \n",
       "2   4.50     12.50 C1  Control   R1      17.00          \n",
       "3  10.00     25.00 C1  Control   R1      35.00          \n",
       "4  26.00     50.00 C1  Control   R1      76.00          \n",
       "5  37.00    100.00 C1  Control   R1     137.00          \n",
       "6  32.00    200.00 C1  Control   R1     232.00          \n",
       "7   1.00      6.25 C2  Control   R2       7.25          \n",
       "8   1.25     12.50 C2  Control   R2      13.75          \n",
       "9   4.00     25.00 C2  Control   R2      29.00          \n",
       "10 12.00     50.00 C2  Control   R2      62.00          "
      ]
     },
     "metadata": {},
     "output_type": "display_data"
    }
   ],
   "source": [
    "# Create a new column namely PBchangePlusDose by summing PBchange and Dose\n",
    "result <- rabbit %>% dplyr::mutate(PBchangePlusDose = BPchange + Dose)\n",
    "\n",
    "# Print first few lines\n",
    "head(result,10)"
   ]
  },
  {
   "cell_type": "markdown",
   "metadata": {},
   "source": [
    "#### Modify a Column"
   ]
  },
  {
   "cell_type": "code",
   "execution_count": 43,
   "metadata": {},
   "outputs": [
    {
     "data": {
      "text/html": [
       "<table>\n",
       "<caption>A data.frame: 10 × 5</caption>\n",
       "<thead>\n",
       "\t<tr><th></th><th scope=col>BPchange</th><th scope=col>Dose</th><th scope=col>Run</th><th scope=col>Treatment</th><th scope=col>Animal</th></tr>\n",
       "\t<tr><th></th><th scope=col>&lt;dbl&gt;</th><th scope=col>&lt;dbl&gt;</th><th scope=col>&lt;fct&gt;</th><th scope=col>&lt;fct&gt;</th><th scope=col>&lt;fct&gt;</th></tr>\n",
       "</thead>\n",
       "<tbody>\n",
       "\t<tr><th scope=row>1</th><td>  6.75</td><td>  6.25</td><td>C1</td><td>Control</td><td>R1</td></tr>\n",
       "\t<tr><th scope=row>2</th><td> 17.00</td><td> 12.50</td><td>C1</td><td>Control</td><td>R1</td></tr>\n",
       "\t<tr><th scope=row>3</th><td> 35.00</td><td> 25.00</td><td>C1</td><td>Control</td><td>R1</td></tr>\n",
       "\t<tr><th scope=row>4</th><td> 76.00</td><td> 50.00</td><td>C1</td><td>Control</td><td>R1</td></tr>\n",
       "\t<tr><th scope=row>5</th><td>137.00</td><td>100.00</td><td>C1</td><td>Control</td><td>R1</td></tr>\n",
       "\t<tr><th scope=row>6</th><td>232.00</td><td>200.00</td><td>C1</td><td>Control</td><td>R1</td></tr>\n",
       "\t<tr><th scope=row>7</th><td>  7.25</td><td>  6.25</td><td>C2</td><td>Control</td><td>R2</td></tr>\n",
       "\t<tr><th scope=row>8</th><td> 13.75</td><td> 12.50</td><td>C2</td><td>Control</td><td>R2</td></tr>\n",
       "\t<tr><th scope=row>9</th><td> 29.00</td><td> 25.00</td><td>C2</td><td>Control</td><td>R2</td></tr>\n",
       "\t<tr><th scope=row>10</th><td> 62.00</td><td> 50.00</td><td>C2</td><td>Control</td><td>R2</td></tr>\n",
       "</tbody>\n",
       "</table>\n"
      ],
      "text/latex": [
       "A data.frame: 10 × 5\n",
       "\\begin{tabular}{r|lllll}\n",
       "  & BPchange & Dose & Run & Treatment & Animal\\\\\n",
       "  & <dbl> & <dbl> & <fct> & <fct> & <fct>\\\\\n",
       "\\hline\n",
       "\t1 &   6.75 &   6.25 & C1 & Control & R1\\\\\n",
       "\t2 &  17.00 &  12.50 & C1 & Control & R1\\\\\n",
       "\t3 &  35.00 &  25.00 & C1 & Control & R1\\\\\n",
       "\t4 &  76.00 &  50.00 & C1 & Control & R1\\\\\n",
       "\t5 & 137.00 & 100.00 & C1 & Control & R1\\\\\n",
       "\t6 & 232.00 & 200.00 & C1 & Control & R1\\\\\n",
       "\t7 &   7.25 &   6.25 & C2 & Control & R2\\\\\n",
       "\t8 &  13.75 &  12.50 & C2 & Control & R2\\\\\n",
       "\t9 &  29.00 &  25.00 & C2 & Control & R2\\\\\n",
       "\t10 &  62.00 &  50.00 & C2 & Control & R2\\\\\n",
       "\\end{tabular}\n"
      ],
      "text/markdown": [
       "\n",
       "A data.frame: 10 × 5\n",
       "\n",
       "| <!--/--> | BPchange &lt;dbl&gt; | Dose &lt;dbl&gt; | Run &lt;fct&gt; | Treatment &lt;fct&gt; | Animal &lt;fct&gt; |\n",
       "|---|---|---|---|---|---|\n",
       "| 1 |   6.75 |   6.25 | C1 | Control | R1 |\n",
       "| 2 |  17.00 |  12.50 | C1 | Control | R1 |\n",
       "| 3 |  35.00 |  25.00 | C1 | Control | R1 |\n",
       "| 4 |  76.00 |  50.00 | C1 | Control | R1 |\n",
       "| 5 | 137.00 | 100.00 | C1 | Control | R1 |\n",
       "| 6 | 232.00 | 200.00 | C1 | Control | R1 |\n",
       "| 7 |   7.25 |   6.25 | C2 | Control | R2 |\n",
       "| 8 |  13.75 |  12.50 | C2 | Control | R2 |\n",
       "| 9 |  29.00 |  25.00 | C2 | Control | R2 |\n",
       "| 10 |  62.00 |  50.00 | C2 | Control | R2 |\n",
       "\n"
      ],
      "text/plain": [
       "   BPchange Dose   Run Treatment Animal\n",
       "1    6.75     6.25 C1  Control   R1    \n",
       "2   17.00    12.50 C1  Control   R1    \n",
       "3   35.00    25.00 C1  Control   R1    \n",
       "4   76.00    50.00 C1  Control   R1    \n",
       "5  137.00   100.00 C1  Control   R1    \n",
       "6  232.00   200.00 C1  Control   R1    \n",
       "7    7.25     6.25 C2  Control   R2    \n",
       "8   13.75    12.50 C2  Control   R2    \n",
       "9   29.00    25.00 C2  Control   R2    \n",
       "10  62.00    50.00 C2  Control   R2    "
      ]
     },
     "metadata": {},
     "output_type": "display_data"
    }
   ],
   "source": [
    "# Modify a column by a formula\n",
    "result <- rabbit %>% dplyr::mutate(BPchange = BPchange + Dose)\n",
    "\n",
    "# Print first few lines\n",
    "head(result,10)"
   ]
  },
  {
   "cell_type": "markdown",
   "metadata": {},
   "source": [
    "#### Delete a Column"
   ]
  },
  {
   "cell_type": "code",
   "execution_count": 44,
   "metadata": {},
   "outputs": [
    {
     "data": {
      "text/html": [
       "<table>\n",
       "<caption>A data.frame: 10 × 4</caption>\n",
       "<thead>\n",
       "\t<tr><th></th><th scope=col>Dose</th><th scope=col>Run</th><th scope=col>Treatment</th><th scope=col>Animal</th></tr>\n",
       "\t<tr><th></th><th scope=col>&lt;dbl&gt;</th><th scope=col>&lt;fct&gt;</th><th scope=col>&lt;fct&gt;</th><th scope=col>&lt;fct&gt;</th></tr>\n",
       "</thead>\n",
       "<tbody>\n",
       "\t<tr><th scope=row>1</th><td>  6.25</td><td>C1</td><td>Control</td><td>R1</td></tr>\n",
       "\t<tr><th scope=row>2</th><td> 12.50</td><td>C1</td><td>Control</td><td>R1</td></tr>\n",
       "\t<tr><th scope=row>3</th><td> 25.00</td><td>C1</td><td>Control</td><td>R1</td></tr>\n",
       "\t<tr><th scope=row>4</th><td> 50.00</td><td>C1</td><td>Control</td><td>R1</td></tr>\n",
       "\t<tr><th scope=row>5</th><td>100.00</td><td>C1</td><td>Control</td><td>R1</td></tr>\n",
       "\t<tr><th scope=row>6</th><td>200.00</td><td>C1</td><td>Control</td><td>R1</td></tr>\n",
       "\t<tr><th scope=row>7</th><td>  6.25</td><td>C2</td><td>Control</td><td>R2</td></tr>\n",
       "\t<tr><th scope=row>8</th><td> 12.50</td><td>C2</td><td>Control</td><td>R2</td></tr>\n",
       "\t<tr><th scope=row>9</th><td> 25.00</td><td>C2</td><td>Control</td><td>R2</td></tr>\n",
       "\t<tr><th scope=row>10</th><td> 50.00</td><td>C2</td><td>Control</td><td>R2</td></tr>\n",
       "</tbody>\n",
       "</table>\n"
      ],
      "text/latex": [
       "A data.frame: 10 × 4\n",
       "\\begin{tabular}{r|llll}\n",
       "  & Dose & Run & Treatment & Animal\\\\\n",
       "  & <dbl> & <fct> & <fct> & <fct>\\\\\n",
       "\\hline\n",
       "\t1 &   6.25 & C1 & Control & R1\\\\\n",
       "\t2 &  12.50 & C1 & Control & R1\\\\\n",
       "\t3 &  25.00 & C1 & Control & R1\\\\\n",
       "\t4 &  50.00 & C1 & Control & R1\\\\\n",
       "\t5 & 100.00 & C1 & Control & R1\\\\\n",
       "\t6 & 200.00 & C1 & Control & R1\\\\\n",
       "\t7 &   6.25 & C2 & Control & R2\\\\\n",
       "\t8 &  12.50 & C2 & Control & R2\\\\\n",
       "\t9 &  25.00 & C2 & Control & R2\\\\\n",
       "\t10 &  50.00 & C2 & Control & R2\\\\\n",
       "\\end{tabular}\n"
      ],
      "text/markdown": [
       "\n",
       "A data.frame: 10 × 4\n",
       "\n",
       "| <!--/--> | Dose &lt;dbl&gt; | Run &lt;fct&gt; | Treatment &lt;fct&gt; | Animal &lt;fct&gt; |\n",
       "|---|---|---|---|---|\n",
       "| 1 |   6.25 | C1 | Control | R1 |\n",
       "| 2 |  12.50 | C1 | Control | R1 |\n",
       "| 3 |  25.00 | C1 | Control | R1 |\n",
       "| 4 |  50.00 | C1 | Control | R1 |\n",
       "| 5 | 100.00 | C1 | Control | R1 |\n",
       "| 6 | 200.00 | C1 | Control | R1 |\n",
       "| 7 |   6.25 | C2 | Control | R2 |\n",
       "| 8 |  12.50 | C2 | Control | R2 |\n",
       "| 9 |  25.00 | C2 | Control | R2 |\n",
       "| 10 |  50.00 | C2 | Control | R2 |\n",
       "\n"
      ],
      "text/plain": [
       "   Dose   Run Treatment Animal\n",
       "1    6.25 C1  Control   R1    \n",
       "2   12.50 C1  Control   R1    \n",
       "3   25.00 C1  Control   R1    \n",
       "4   50.00 C1  Control   R1    \n",
       "5  100.00 C1  Control   R1    \n",
       "6  200.00 C1  Control   R1    \n",
       "7    6.25 C2  Control   R2    \n",
       "8   12.50 C2  Control   R2    \n",
       "9   25.00 C2  Control   R2    \n",
       "10  50.00 C2  Control   R2    "
      ]
     },
     "metadata": {},
     "output_type": "display_data"
    }
   ],
   "source": [
    "# Delete the BPchange column\n",
    "result <- rabbit %>% dplyr::mutate(BPchange = NULL)\n",
    "\n",
    "# Print first few lines\n",
    "head(result,10)"
   ]
  },
  {
   "cell_type": "markdown",
   "metadata": {},
   "source": [
    "#### Special Example: Adding LastWard and LastHospital in the Table"
   ]
  },
  {
   "cell_type": "code",
   "execution_count": 45,
   "metadata": {},
   "outputs": [
    {
     "name": "stdout",
     "output_type": "stream",
     "text": [
      "\u001b[38;5;246m# A tibble: 3 x 7\u001b[39m\n",
      "\u001b[38;5;246m# Groups:   Name [1]\u001b[39m\n",
      "  Name      StartDate  EndDate    Hospital Ward  LastHospital LastWard\n",
      "  \u001b[3m\u001b[38;5;246m<chr>\u001b[39m\u001b[23m     \u001b[3m\u001b[38;5;246m<chr>\u001b[39m\u001b[23m      \u001b[3m\u001b[38;5;246m<chr>\u001b[39m\u001b[23m      \u001b[3m\u001b[38;5;246m<chr>\u001b[39m\u001b[23m    \u001b[3m\u001b[38;5;246m<chr>\u001b[39m\u001b[23m \u001b[3m\u001b[38;5;246m<chr>\u001b[39m\u001b[23m        \u001b[3m\u001b[38;5;246m<chr>\u001b[39m\u001b[23m   \n",
      "\u001b[38;5;250m1\u001b[39m Chantelle 2000-04-16 2000-04-21 RH       8C    \u001b[31mNA\u001b[39m           \u001b[31mNA\u001b[39m      \n",
      "\u001b[38;5;250m2\u001b[39m Chantelle 2001-03-29 2001-04-04 RH       6B    RH           8C      \n",
      "\u001b[38;5;250m3\u001b[39m Chantelle 2003-01-20 2003-01-27 WCHH     3A    RH           6B      \n",
      "\n",
      "\u001b[38;5;246m# A tibble: 5 x 7\u001b[39m\n",
      "\u001b[38;5;246m# Groups:   Name [1]\u001b[39m\n",
      "  Name   StartDate  EndDate    Hospital Ward  LastHospital LastWard\n",
      "  \u001b[3m\u001b[38;5;246m<chr>\u001b[39m\u001b[23m  \u001b[3m\u001b[38;5;246m<chr>\u001b[39m\u001b[23m      \u001b[3m\u001b[38;5;246m<chr>\u001b[39m\u001b[23m      \u001b[3m\u001b[38;5;246m<chr>\u001b[39m\u001b[23m    \u001b[3m\u001b[38;5;246m<chr>\u001b[39m\u001b[23m \u001b[3m\u001b[38;5;246m<chr>\u001b[39m\u001b[23m        \u001b[3m\u001b[38;5;246m<chr>\u001b[39m\u001b[23m   \n",
      "\u001b[38;5;250m1\u001b[39m Alleen 2000-07-07 2000-07-17 SJH      6A    \u001b[31mNA\u001b[39m           \u001b[31mNA\u001b[39m      \n",
      "\u001b[38;5;250m2\u001b[39m Alleen 2001-05-27 2001-06-05 CCH      4A    SJH          6A      \n",
      "\u001b[38;5;250m3\u001b[39m Alleen 2002-03-06 2002-03-14 TSKH     6B    CCH          4A      \n",
      "\u001b[38;5;250m4\u001b[39m Alleen 2004-01-08 2004-01-11 TWEH     8B    TSKH         6B      \n",
      "\u001b[38;5;250m5\u001b[39m Alleen 2005-01-08 2005-01-16 WCHH     9C    TWEH         8B      \n"
     ]
    }
   ],
   "source": [
    "result <- PatientRecord.Table %>% \n",
    "dplyr::group_by(Name) %>% \n",
    "dplyr::mutate(LastHospital = lag(Hospital, 1)) %>% \n",
    "dplyr::mutate(LastWard = lag(Ward, 1)) \n",
    "\n",
    "print(result[result$Name == \"Chantelle\",])\n",
    "\n",
    "cat(\"\\n\")\n",
    "\n",
    "print(result[result$Name == \"Alleen\",])"
   ]
  },
  {
   "cell_type": "markdown",
   "metadata": {},
   "source": [
    "### `dplyr::arrange` : Arrange Rows by Column Values"
   ]
  },
  {
   "cell_type": "code",
   "execution_count": 46,
   "metadata": {},
   "outputs": [
    {
     "data": {
      "text/html": [
       "<table>\n",
       "<caption>A data.frame: 10 × 5</caption>\n",
       "<thead>\n",
       "\t<tr><th></th><th scope=col>BPchange</th><th scope=col>Dose</th><th scope=col>Run</th><th scope=col>Treatment</th><th scope=col>Animal</th></tr>\n",
       "\t<tr><th></th><th scope=col>&lt;dbl&gt;</th><th scope=col>&lt;dbl&gt;</th><th scope=col>&lt;fct&gt;</th><th scope=col>&lt;fct&gt;</th><th scope=col>&lt;fct&gt;</th></tr>\n",
       "</thead>\n",
       "<tbody>\n",
       "\t<tr><th scope=row>1</th><td>1.25</td><td>6.25</td><td>M1</td><td>MDL    </td><td>R1</td></tr>\n",
       "\t<tr><th scope=row>7</th><td>0.50</td><td>6.25</td><td>C1</td><td>Control</td><td>R1</td></tr>\n",
       "\t<tr><th scope=row>13</th><td>1.40</td><td>6.25</td><td>M2</td><td>MDL    </td><td>R2</td></tr>\n",
       "\t<tr><th scope=row>19</th><td>1.00</td><td>6.25</td><td>C2</td><td>Control</td><td>R2</td></tr>\n",
       "\t<tr><th scope=row>25</th><td>0.75</td><td>6.25</td><td>M3</td><td>MDL    </td><td>R3</td></tr>\n",
       "\t<tr><th scope=row>31</th><td>0.75</td><td>6.25</td><td>C3</td><td>Control</td><td>R3</td></tr>\n",
       "\t<tr><th scope=row>37</th><td>2.60</td><td>6.25</td><td>M4</td><td>MDL    </td><td>R4</td></tr>\n",
       "\t<tr><th scope=row>43</th><td>1.25</td><td>6.25</td><td>C4</td><td>Control</td><td>R4</td></tr>\n",
       "\t<tr><th scope=row>49</th><td>2.40</td><td>6.25</td><td>M5</td><td>MDL    </td><td>R5</td></tr>\n",
       "\t<tr><th scope=row>55</th><td>1.50</td><td>6.25</td><td>C5</td><td>Control</td><td>R5</td></tr>\n",
       "</tbody>\n",
       "</table>\n"
      ],
      "text/latex": [
       "A data.frame: 10 × 5\n",
       "\\begin{tabular}{r|lllll}\n",
       "  & BPchange & Dose & Run & Treatment & Animal\\\\\n",
       "  & <dbl> & <dbl> & <fct> & <fct> & <fct>\\\\\n",
       "\\hline\n",
       "\t1 & 1.25 & 6.25 & M1 & MDL     & R1\\\\\n",
       "\t7 & 0.50 & 6.25 & C1 & Control & R1\\\\\n",
       "\t13 & 1.40 & 6.25 & M2 & MDL     & R2\\\\\n",
       "\t19 & 1.00 & 6.25 & C2 & Control & R2\\\\\n",
       "\t25 & 0.75 & 6.25 & M3 & MDL     & R3\\\\\n",
       "\t31 & 0.75 & 6.25 & C3 & Control & R3\\\\\n",
       "\t37 & 2.60 & 6.25 & M4 & MDL     & R4\\\\\n",
       "\t43 & 1.25 & 6.25 & C4 & Control & R4\\\\\n",
       "\t49 & 2.40 & 6.25 & M5 & MDL     & R5\\\\\n",
       "\t55 & 1.50 & 6.25 & C5 & Control & R5\\\\\n",
       "\\end{tabular}\n"
      ],
      "text/markdown": [
       "\n",
       "A data.frame: 10 × 5\n",
       "\n",
       "| <!--/--> | BPchange &lt;dbl&gt; | Dose &lt;dbl&gt; | Run &lt;fct&gt; | Treatment &lt;fct&gt; | Animal &lt;fct&gt; |\n",
       "|---|---|---|---|---|---|\n",
       "| 1 | 1.25 | 6.25 | M1 | MDL     | R1 |\n",
       "| 7 | 0.50 | 6.25 | C1 | Control | R1 |\n",
       "| 13 | 1.40 | 6.25 | M2 | MDL     | R2 |\n",
       "| 19 | 1.00 | 6.25 | C2 | Control | R2 |\n",
       "| 25 | 0.75 | 6.25 | M3 | MDL     | R3 |\n",
       "| 31 | 0.75 | 6.25 | C3 | Control | R3 |\n",
       "| 37 | 2.60 | 6.25 | M4 | MDL     | R4 |\n",
       "| 43 | 1.25 | 6.25 | C4 | Control | R4 |\n",
       "| 49 | 2.40 | 6.25 | M5 | MDL     | R5 |\n",
       "| 55 | 1.50 | 6.25 | C5 | Control | R5 |\n",
       "\n"
      ],
      "text/plain": [
       "   BPchange Dose Run Treatment Animal\n",
       "1  1.25     6.25 M1  MDL       R1    \n",
       "7  0.50     6.25 C1  Control   R1    \n",
       "13 1.40     6.25 M2  MDL       R2    \n",
       "19 1.00     6.25 C2  Control   R2    \n",
       "25 0.75     6.25 M3  MDL       R3    \n",
       "31 0.75     6.25 C3  Control   R3    \n",
       "37 2.60     6.25 M4  MDL       R4    \n",
       "43 1.25     6.25 C4  Control   R4    \n",
       "49 2.40     6.25 M5  MDL       R5    \n",
       "55 1.50     6.25 C5  Control   R5    "
      ]
     },
     "metadata": {},
     "output_type": "display_data"
    }
   ],
   "source": [
    "# Sorting the Animal in the ascending direction and Run in the Descending Direction\n",
    "result <- rabbit %>% dplyr::arrange(Animal, desc(Run))\n",
    "\n",
    "# Print a subset of the table\n",
    "result[result$Dose < 10.0,]"
   ]
  },
  {
   "cell_type": "markdown",
   "metadata": {},
   "source": [
    "# `dbplyr` and Database\n",
    "\n",
    "* There is a `dbplyr` make `dplyr` functions workable on databases.\n",
    "* We need not to load `dbplyr` separately."
   ]
  },
  {
   "cell_type": "markdown",
   "metadata": {},
   "source": [
    "#### Load Libraries"
   ]
  },
  {
   "cell_type": "code",
   "execution_count": 47,
   "metadata": {},
   "outputs": [],
   "source": [
    "library(DBI, RSQLite, dplyr, warn.conflicts = FALSE)"
   ]
  },
  {
   "cell_type": "markdown",
   "metadata": {},
   "source": [
    "## Directing Tables in Database to dplyr tbl objects"
   ]
  },
  {
   "cell_type": "code",
   "execution_count": 48,
   "metadata": {},
   "outputs": [
    {
     "name": "stdout",
     "output_type": "stream",
     "text": [
      "\u001b[38;5;246m# Source:   table<PatientRecord> [?? x 5]\u001b[39m\n",
      "\u001b[38;5;246m# Database: sqlite 3.30.1\n",
      "#   [/home/alan/lab/playground/R_self_teaching_notes/self_teaching_notes_R/datasets/patient_record.sqlite]\u001b[39m\n",
      "   Name      StartDate  EndDate    Hospital Ward \n",
      "   \u001b[3m\u001b[38;5;246m<chr>\u001b[39m\u001b[23m     \u001b[3m\u001b[38;5;246m<chr>\u001b[39m\u001b[23m      \u001b[3m\u001b[38;5;246m<chr>\u001b[39m\u001b[23m      \u001b[3m\u001b[38;5;246m<chr>\u001b[39m\u001b[23m    \u001b[3m\u001b[38;5;246m<chr>\u001b[39m\u001b[23m\n",
      "\u001b[38;5;250m 1\u001b[39m Chantelle 2000-04-16 2000-04-21 RH       8C   \n",
      "\u001b[38;5;250m 2\u001b[39m Silva     2000-05-07 2000-05-16 TSKH     5A   \n",
      "\u001b[38;5;250m 3\u001b[39m Maybelle  2000-06-10 2000-06-13 WCHH     5A   \n",
      "\u001b[38;5;250m 4\u001b[39m Wilhemina 2000-06-12 2000-06-18 WCHH     5A   \n",
      "\u001b[38;5;250m 5\u001b[39m Alleen    2000-07-07 2000-07-17 SJH      6A   \n",
      "\u001b[38;5;250m 6\u001b[39m Natalia   2000-07-25 2000-08-02 PYNEH    8B   \n",
      "\u001b[38;5;250m 7\u001b[39m Lawanda   2000-09-04 2000-09-14 WCHH     9A   \n",
      "\u001b[38;5;250m 8\u001b[39m Tonita    2000-09-16 2000-09-26 RH       4C   \n",
      "\u001b[38;5;250m 9\u001b[39m Ned       2000-10-21 2000-10-26 RH       6A   \n",
      "\u001b[38;5;250m10\u001b[39m Silva     2000-10-25 2000-10-30 RH       9A   \n",
      "\u001b[38;5;246m# … with more rows\u001b[39m\n",
      "\n",
      "\u001b[38;5;246m# Source:   table<Hospitals> [?? x 2]\u001b[39m\n",
      "\u001b[38;5;246m# Database: sqlite 3.30.1\n",
      "#   [/home/alan/lab/playground/R_self_teaching_notes/self_teaching_notes_R/datasets/patient_record.sqlite]\u001b[39m\n",
      "  Hospital EquipGrade\n",
      "  \u001b[3m\u001b[38;5;246m<chr>\u001b[39m\u001b[23m    \u001b[3m\u001b[38;5;246m<chr>\u001b[39m\u001b[23m     \n",
      "\u001b[38;5;250m1\u001b[39m CCH      Moderate  \n",
      "\u001b[38;5;250m2\u001b[39m PYNEH    Low       \n",
      "\u001b[38;5;250m3\u001b[39m RH       Low       \n",
      "\u001b[38;5;250m4\u001b[39m SJH      Moderate  \n",
      "\u001b[38;5;250m5\u001b[39m TSKH     Moderate  \n",
      "\u001b[38;5;250m6\u001b[39m TWEH     Low       \n",
      "\u001b[38;5;250m7\u001b[39m WCHH     High      \n"
     ]
    }
   ],
   "source": [
    "# Open the sqlite file and store the connection object in con\n",
    "con <- DBI::dbConnect(RSQLite::SQLite(), \"datasets/patient_record.sqlite\", flags=RSQLite::SQLITE_RO)\n",
    "\n",
    "# Point table PatientRecord to dplyr tbl object PatientRecord.tbl and print it\n",
    "PatientRecord.tbl <- dplyr::tbl(con, \"PatientRecord\")\n",
    "print(PatientRecord.tbl)\n",
    "\n",
    "cat(\"\\n\")\n",
    "\n",
    "# Point table Hospitals to dplyr tbl object Hospitals.tbl and print it\n",
    "Hospitals.tbl <- dplyr::tbl(con, \"Hospitals\")\n",
    "print(Hospitals.tbl)"
   ]
  },
  {
   "cell_type": "markdown",
   "metadata": {},
   "source": [
    "## Using %>% Pipe to Perform SQL Operations"
   ]
  },
  {
   "cell_type": "markdown",
   "metadata": {},
   "source": [
    "### Select"
   ]
  },
  {
   "cell_type": "code",
   "execution_count": 49,
   "metadata": {
    "scrolled": true
   },
   "outputs": [
    {
     "name": "stdout",
     "output_type": "stream",
     "text": [
      "\u001b[38;5;246m# Source:   lazy query [?? x 3]\u001b[39m\n",
      "\u001b[38;5;246m# Database: sqlite 3.30.1\n",
      "#   [/home/alan/lab/playground/R_self_teaching_notes/self_teaching_notes_R/datasets/patient_record.sqlite]\u001b[39m\n",
      "   Name      Hospital StartDate \n",
      "   \u001b[3m\u001b[38;5;246m<chr>\u001b[39m\u001b[23m     \u001b[3m\u001b[38;5;246m<chr>\u001b[39m\u001b[23m    \u001b[3m\u001b[38;5;246m<chr>\u001b[39m\u001b[23m     \n",
      "\u001b[38;5;250m 1\u001b[39m Chantelle RH       2000-04-16\n",
      "\u001b[38;5;250m 2\u001b[39m Silva     TSKH     2000-05-07\n",
      "\u001b[38;5;250m 3\u001b[39m Maybelle  WCHH     2000-06-10\n",
      "\u001b[38;5;250m 4\u001b[39m Wilhemina WCHH     2000-06-12\n",
      "\u001b[38;5;250m 5\u001b[39m Alleen    SJH      2000-07-07\n",
      "\u001b[38;5;250m 6\u001b[39m Natalia   PYNEH    2000-07-25\n",
      "\u001b[38;5;250m 7\u001b[39m Lawanda   WCHH     2000-09-04\n",
      "\u001b[38;5;250m 8\u001b[39m Tonita    RH       2000-09-16\n",
      "\u001b[38;5;250m 9\u001b[39m Ned       RH       2000-10-21\n",
      "\u001b[38;5;250m10\u001b[39m Silva     RH       2000-10-25\n",
      "\u001b[38;5;246m# … with more rows\u001b[39m\n"
     ]
    }
   ],
   "source": [
    "Selected <- PatientRecord.tbl %>% dplyr::select(Name, Hospital, StartDate)\n",
    "\n",
    "print(Selected)"
   ]
  },
  {
   "cell_type": "markdown",
   "metadata": {},
   "source": [
    "#### The SQL Query Behind"
   ]
  },
  {
   "cell_type": "code",
   "execution_count": 50,
   "metadata": {},
   "outputs": [
    {
     "name": "stdout",
     "output_type": "stream",
     "text": [
      "<SQL>\n",
      "SELECT `Name`, `Hospital`, `StartDate`\n",
      "FROM `PatientRecord`\n"
     ]
    }
   ],
   "source": [
    "Selected %>% dplyr::show_query()"
   ]
  },
  {
   "cell_type": "markdown",
   "metadata": {},
   "source": [
    "### Group and Counting"
   ]
  },
  {
   "cell_type": "code",
   "execution_count": 51,
   "metadata": {
    "scrolled": true
   },
   "outputs": [
    {
     "name": "stdout",
     "output_type": "stream",
     "text": [
      "\u001b[38;5;246m# Source:   lazy query [?? x 2]\u001b[39m\n",
      "\u001b[38;5;246m# Database: sqlite 3.30.1\n",
      "#   [/home/alan/lab/playground/R_self_teaching_notes/self_teaching_notes_R/datasets/patient_record.sqlite]\u001b[39m\n",
      "   Name          n\n",
      "   \u001b[3m\u001b[38;5;246m<chr>\u001b[39m\u001b[23m     \u001b[3m\u001b[38;5;246m<int>\u001b[39m\u001b[23m\n",
      "\u001b[38;5;250m 1\u001b[39m Alleen        5\n",
      "\u001b[38;5;250m 2\u001b[39m Alona         2\n",
      "\u001b[38;5;250m 3\u001b[39m Barb          4\n",
      "\u001b[38;5;250m 4\u001b[39m Bridgett      2\n",
      "\u001b[38;5;250m 5\u001b[39m Chantelle     3\n",
      "\u001b[38;5;250m 6\u001b[39m Charla        3\n",
      "\u001b[38;5;250m 7\u001b[39m Claretha      5\n",
      "\u001b[38;5;250m 8\u001b[39m Debby         3\n",
      "\u001b[38;5;250m 9\u001b[39m Deshawn       5\n",
      "\u001b[38;5;250m10\u001b[39m Dierdre       2\n",
      "\u001b[38;5;246m# … with more rows\u001b[39m\n"
     ]
    }
   ],
   "source": [
    "Counted <- PatientRecord.tbl %>% dplyr::select(Name) %>% dplyr::group_by(Name) %>% count(Name)\n",
    "\n",
    "print(Counted)"
   ]
  },
  {
   "cell_type": "markdown",
   "metadata": {},
   "source": [
    "#### The SQL Query Behind"
   ]
  },
  {
   "cell_type": "code",
   "execution_count": 52,
   "metadata": {},
   "outputs": [
    {
     "name": "stdout",
     "output_type": "stream",
     "text": [
      "<SQL>\n",
      "SELECT `Name`, COUNT() AS `n`\n",
      "FROM (SELECT `Name`\n",
      "FROM `PatientRecord`)\n",
      "GROUP BY `Name`\n"
     ]
    }
   ],
   "source": [
    "Counted %>% dplyr::show_query()"
   ]
  }
 ],
 "metadata": {
  "kernelspec": {
   "display_name": "R",
   "language": "R",
   "name": "ir"
  },
  "language_info": {
   "codemirror_mode": "r",
   "file_extension": ".r",
   "mimetype": "text/x-r-source",
   "name": "R",
   "pygments_lexer": "r",
   "version": "3.6.3"
  }
 },
 "nbformat": 4,
 "nbformat_minor": 4
}
