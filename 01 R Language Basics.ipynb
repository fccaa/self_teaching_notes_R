{
 "cells": [
  {
   "cell_type": "markdown",
   "metadata": {},
   "source": [
    "# Introduction"
   ]
  },
  {
   "cell_type": "markdown",
   "metadata": {},
   "source": [
    "This is a syntax and usage summary for R. The content is mainly from https://www.tutorialspoint.com/r/index.htm. This notes is for personal use only. Here I assume readers are experienced in programming."
   ]
  },
  {
   "cell_type": "markdown",
   "metadata": {},
   "source": [
    "## Hello World"
   ]
  },
  {
   "cell_type": "code",
   "execution_count": 1,
   "metadata": {
    "scrolled": true
   },
   "outputs": [
    {
     "name": "stdout",
     "output_type": "stream",
     "text": [
      "[1] \"Hello World!\"\n"
     ]
    }
   ],
   "source": [
    "my_str <- \"Hello World!\"\n",
    "print(my_str)"
   ]
  },
  {
   "cell_type": "code",
   "execution_count": 2,
   "metadata": {},
   "outputs": [
    {
     "name": "stdout",
     "output_type": "stream",
     "text": [
      "Hello World! 123"
     ]
    }
   ],
   "source": [
    "cat(my_str, 123)"
   ]
  },
  {
   "cell_type": "markdown",
   "metadata": {},
   "source": [
    "#  Variables and Basic Data Types"
   ]
  },
  {
   "cell_type": "markdown",
   "metadata": {},
   "source": [
    "## Variables"
   ]
  },
  {
   "cell_type": "markdown",
   "metadata": {},
   "source": [
    "### Variable Naming\n",
    "\n",
    "* Letters, numbers, dot and underscore are allowed.\n",
    "    - e.g. abc, .abc, abc., abc_\n",
    "* Starting with a number are **not** allowed.\n",
    "    - e.g. 1abc\n",
    "* Starting with a dot is allowed\n",
    "    - e.g. .abc\n",
    "* Starting with a dot followed by a number is **not** allowed\n",
    "    - e.g. .2abc\n",
    "* Starting with a underscore is not allowed.\n",
    "    - e.g. _tmp"
   ]
  },
  {
   "cell_type": "markdown",
   "metadata": {},
   "source": [
    "###  Value Assignment"
   ]
  },
  {
   "cell_type": "code",
   "execution_count": 3,
   "metadata": {},
   "outputs": [
    {
     "name": "stdout",
     "output_type": "stream",
     "text": [
      "[1] 3\n"
     ]
    }
   ],
   "source": [
    "a <- 3 \n",
    "\n",
    "print(a)"
   ]
  },
  {
   "cell_type": "code",
   "execution_count": 4,
   "metadata": {},
   "outputs": [
    {
     "name": "stdout",
     "output_type": "stream",
     "text": [
      "[1] 5\n"
     ]
    }
   ],
   "source": [
    "a <<- 5\n",
    "\n",
    "print(a)"
   ]
  },
  {
   "cell_type": "code",
   "execution_count": 5,
   "metadata": {},
   "outputs": [
    {
     "name": "stdout",
     "output_type": "stream",
     "text": [
      "[1] 7\n"
     ]
    }
   ],
   "source": [
    "a = 7\n",
    "\n",
    "print(a)"
   ]
  },
  {
   "cell_type": "code",
   "execution_count": 6,
   "metadata": {
    "scrolled": true
   },
   "outputs": [
    {
     "name": "stdout",
     "output_type": "stream",
     "text": [
      "[1] 10\n"
     ]
    }
   ],
   "source": [
    "10 -> a\n",
    "\n",
    "print(a)"
   ]
  },
  {
   "cell_type": "markdown",
   "metadata": {},
   "source": [
    "### Variable Removal"
   ]
  },
  {
   "cell_type": "code",
   "execution_count": 7,
   "metadata": {},
   "outputs": [
    {
     "name": "stdout",
     "output_type": "stream",
     "text": [
      "[1] 10\n"
     ]
    }
   ],
   "source": [
    "# Assign 10 to a\n",
    "a <- 10\n",
    "# Print a\n",
    "print(a)\n",
    "\n",
    "rm(a)  # a is removed"
   ]
  },
  {
   "cell_type": "markdown",
   "metadata": {},
   "source": [
    "## Basic Data Types"
   ]
  },
  {
   "cell_type": "code",
   "execution_count": 8,
   "metadata": {},
   "outputs": [
    {
     "name": "stdout",
     "output_type": "stream",
     "text": [
      "[1] \"logical\"\n"
     ]
    }
   ],
   "source": [
    "v <- TRUE \n",
    "print(class(v))"
   ]
  },
  {
   "cell_type": "code",
   "execution_count": 9,
   "metadata": {
    "scrolled": true
   },
   "outputs": [
    {
     "name": "stdout",
     "output_type": "stream",
     "text": [
      "[1] \"numeric\"\n"
     ]
    }
   ],
   "source": [
    "v <- 23.5\n",
    "print(class(v))"
   ]
  },
  {
   "cell_type": "code",
   "execution_count": 10,
   "metadata": {},
   "outputs": [
    {
     "name": "stdout",
     "output_type": "stream",
     "text": [
      "[1] \"integer\"\n"
     ]
    }
   ],
   "source": [
    "v <- 2L\n",
    "print(class(v))"
   ]
  },
  {
   "cell_type": "code",
   "execution_count": 11,
   "metadata": {},
   "outputs": [
    {
     "name": "stdout",
     "output_type": "stream",
     "text": [
      "[1] \"complex\"\n"
     ]
    }
   ],
   "source": [
    "v <- 2+5i\n",
    "print(class(v))"
   ]
  },
  {
   "cell_type": "code",
   "execution_count": 12,
   "metadata": {},
   "outputs": [
    {
     "name": "stdout",
     "output_type": "stream",
     "text": [
      "[1] \"character\"\n"
     ]
    }
   ],
   "source": [
    "v <- \"TRUE\"\n",
    "print(class(v))"
   ]
  },
  {
   "cell_type": "code",
   "execution_count": 13,
   "metadata": {},
   "outputs": [
    {
     "name": "stdout",
     "output_type": "stream",
     "text": [
      "[1] \"raw\"\n"
     ]
    }
   ],
   "source": [
    "v <- charToRaw(\"Hello\")\n",
    "print(class(v))"
   ]
  },
  {
   "cell_type": "markdown",
   "metadata": {},
   "source": [
    "#  Objects "
   ]
  },
  {
   "cell_type": "markdown",
   "metadata": {},
   "source": [
    "## Vector\n",
    "\n",
    "* An ordered collection of variables of **same** types."
   ]
  },
  {
   "cell_type": "markdown",
   "metadata": {},
   "source": [
    "### Create a vector"
   ]
  },
  {
   "cell_type": "code",
   "execution_count": 14,
   "metadata": {
    "scrolled": true
   },
   "outputs": [
    {
     "name": "stdout",
     "output_type": "stream",
     "text": [
      "[1] 0 1 2 3\n",
      "[1] \"numeric\"\n"
     ]
    }
   ],
   "source": [
    "# Create a vector.\n",
    "v <- c(0,1,2,3)\n",
    "print(v)\n",
    "\n",
    "# Get the class of the vector.\n",
    "print(class(v))"
   ]
  },
  {
   "cell_type": "markdown",
   "metadata": {},
   "source": [
    "### Getting the Length of a Vector"
   ]
  },
  {
   "cell_type": "code",
   "execution_count": 15,
   "metadata": {},
   "outputs": [
    {
     "name": "stdout",
     "output_type": "stream",
     "text": [
      "[1] 4\n"
     ]
    }
   ],
   "source": [
    "# Print the length of a vector\n",
    "print(length(v))"
   ]
  },
  {
   "cell_type": "markdown",
   "metadata": {},
   "source": [
    "### Create a sequence"
   ]
  },
  {
   "cell_type": "code",
   "execution_count": 16,
   "metadata": {},
   "outputs": [
    {
     "name": "stdout",
     "output_type": "stream",
     "text": [
      " [1]  1  2  3  4  5  6  7  8  9 10\n",
      "[1] 1.2 2.2 3.2 4.2 5.2 6.2 7.2 8.2 9.2\n"
     ]
    }
   ],
   "source": [
    "# Create a vector of a sequence\n",
    "v <- 1:10\n",
    "print(v)\n",
    "\n",
    "v <- 1.2:10.1\n",
    "print(v)"
   ]
  },
  {
   "cell_type": "markdown",
   "metadata": {},
   "source": [
    "### Accessing vector elements \n",
    "* One should note that **indices in R starting from 1**."
   ]
  },
  {
   "cell_type": "code",
   "execution_count": 17,
   "metadata": {},
   "outputs": [
    {
     "name": "stdout",
     "output_type": "stream",
     "text": [
      "[1] \"Mon\" \"Tue\" \"Fri\"\n",
      "[1] \"Sun\" \"Tue\" \"Wed\" \"Fri\" \"Sat\"\n",
      "[1] \"Mon\"\n"
     ]
    }
   ],
   "source": [
    "# Accessing vector elements using position.\n",
    "t <- c(\"Sun\",\"Mon\",\"Tue\",\"Wed\",\"Thurs\",\"Fri\",\"Sat\")\n",
    "u <- t[c(2,3,6)]\n",
    "print(u)\n",
    "\n",
    "# Accessing vector elements using negative indexing.\n",
    "# Negative index means droping the index, not the same as that in Python!\n",
    "x <- t[c(-2,-5)]\n",
    "print(x)\n",
    "\n",
    "# Accessing vector element by an index\n",
    "print(t[2])"
   ]
  },
  {
   "cell_type": "markdown",
   "metadata": {},
   "source": [
    "### Vector Manipulation"
   ]
  },
  {
   "cell_type": "code",
   "execution_count": 18,
   "metadata": {},
   "outputs": [
    {
     "name": "stdout",
     "output_type": "stream",
     "text": [
      "[1]  4  6  8 10 12 14\n"
     ]
    }
   ],
   "source": [
    "# Vector arithmetic\n",
    "u <- 1:6\n",
    "v <- 3:8\n",
    "\n",
    "print(u+v)"
   ]
  },
  {
   "cell_type": "code",
   "execution_count": 19,
   "metadata": {},
   "outputs": [
    {
     "name": "stdout",
     "output_type": "stream",
     "text": [
      "[1]  7 19  8 16  4 22\n",
      "[1] -1 -3  0 -6 -4  0\n"
     ]
    }
   ],
   "source": [
    "# Vector Element Recycling\n",
    "\n",
    "v1 <- c(3,8,4,5,0,11)\n",
    "v2 <- c(4,11)\n",
    "# V2 becomes c(4,11,4,11,4,11)\n",
    "\n",
    "add.result <- v1+v2\n",
    "print(add.result)\n",
    "\n",
    "sub.result <- v1-v2\n",
    "print(sub.result)"
   ]
  },
  {
   "cell_type": "markdown",
   "metadata": {},
   "source": [
    "### Sorting a Vector"
   ]
  },
  {
   "cell_type": "code",
   "execution_count": 20,
   "metadata": {},
   "outputs": [
    {
     "name": "stdout",
     "output_type": "stream",
     "text": [
      " [1]  2 31 21 56 32 99 19 72 30 72\n",
      " [1]  2 19 21 30 31 32 56 72 72 99\n",
      " [1] 99 72 72 56 32 31 30 21 19  2\n"
     ]
    }
   ],
   "source": [
    "# Create a size-10 vector by sampling from 1:100 with replacement\n",
    "v <- sample(1:100, 10, replace=TRUE)\n",
    "print(v)\n",
    "\n",
    "v_inc <- sort(v, decreasing = FALSE)\n",
    "print(v_inc)\n",
    "\n",
    "v_dec <- sort(v, decreasing = TRUE)\n",
    "print(v_dec)"
   ]
  },
  {
   "cell_type": "markdown",
   "metadata": {},
   "source": [
    "## List\n",
    "* An ordered collection of variables of **different** types."
   ]
  },
  {
   "cell_type": "markdown",
   "metadata": {},
   "source": [
    "### Create a list"
   ]
  },
  {
   "cell_type": "code",
   "execution_count": 21,
   "metadata": {},
   "outputs": [
    {
     "name": "stdout",
     "output_type": "stream",
     "text": [
      "[[1]]\n",
      "[1] 1 2 3\n",
      "\n",
      "[[2]]\n",
      "[1] 18\n",
      "\n",
      "[[3]]\n",
      "[1] \"ABC\"\n",
      "\n",
      "[1] 3\n"
     ]
    }
   ],
   "source": [
    "# Create a list.\n",
    "list1 <- list(c(1,2,3),18L,\"ABC\")\n",
    "\n",
    "# Print the list.\n",
    "print(list1)\n",
    "\n",
    "# Print the length of a list\n",
    "print(length(list1))"
   ]
  },
  {
   "cell_type": "markdown",
   "metadata": {},
   "source": [
    "### Giving Names to Elements"
   ]
  },
  {
   "cell_type": "code",
   "execution_count": 22,
   "metadata": {},
   "outputs": [
    {
     "name": "stdout",
     "output_type": "stream",
     "text": [
      "$`A vector`\n",
      "[1] 1 2 3\n",
      "\n",
      "$`The integer`\n",
      "[1] 18\n",
      "\n",
      "$A_string\n",
      "[1] \"ABC\"\n",
      "\n"
     ]
    }
   ],
   "source": [
    "# Providing names to elements\n",
    "names(list1) <- c(\"A vector\", \"The integer\", \"A_string\")\n",
    "\n",
    "print(list1)"
   ]
  },
  {
   "cell_type": "markdown",
   "metadata": {},
   "source": [
    "### Accessing Elements"
   ]
  },
  {
   "cell_type": "code",
   "execution_count": 23,
   "metadata": {
    "scrolled": true
   },
   "outputs": [
    {
     "name": "stdout",
     "output_type": "stream",
     "text": [
      "$`The integer`\n",
      "[1] 18\n",
      "\n",
      "[1] 1 2 3\n"
     ]
    }
   ],
   "source": [
    "# By indices\n",
    "print(list1[2])\n",
    "\n",
    "# By names\n",
    "print(list1$`A vector`)"
   ]
  },
  {
   "cell_type": "markdown",
   "metadata": {},
   "source": [
    "### Adding and Removing Elements"
   ]
  },
  {
   "cell_type": "code",
   "execution_count": 24,
   "metadata": {},
   "outputs": [
    {
     "name": "stdout",
     "output_type": "stream",
     "text": [
      "$`A vector`\n",
      "[1] 1 2 3\n",
      "\n",
      "$`The integer`\n",
      "[1] 18\n",
      "\n",
      "$A_string\n",
      "[1] \"ABC\"\n",
      "\n",
      "[[4]]\n",
      "[1] \"HI.\"\n",
      "\n"
     ]
    }
   ],
   "source": [
    "# Add an element\n",
    "list1[length(list1)+1] <- \"HI.\"\n",
    "\n",
    "print(list1)"
   ]
  },
  {
   "cell_type": "code",
   "execution_count": 25,
   "metadata": {
    "scrolled": true
   },
   "outputs": [
    {
     "name": "stdout",
     "output_type": "stream",
     "text": [
      "$`A vector`\n",
      "[1] 1 2 3\n",
      "\n",
      "$`The integer`\n",
      "[1] 18\n",
      "\n",
      "[[3]]\n",
      "[1] \"HI.\"\n",
      "\n"
     ]
    }
   ],
   "source": [
    "# Remove an element\n",
    "list1[3] <- NULL\n",
    "\n",
    "print(list1)"
   ]
  },
  {
   "cell_type": "markdown",
   "metadata": {},
   "source": [
    "### Combine Two Lists\n",
    "* Function `c` here is **combine**. Check `?c` for more detail."
   ]
  },
  {
   "cell_type": "code",
   "execution_count": 26,
   "metadata": {},
   "outputs": [
    {
     "name": "stdout",
     "output_type": "stream",
     "text": [
      "$`A vector`\n",
      "[1] 1 2 3\n",
      "\n",
      "$`The integer`\n",
      "[1] 18\n",
      "\n",
      "[[3]]\n",
      "[1] \"HI.\"\n",
      "\n",
      "[[4]]\n",
      "[1] \"Sun\"\n",
      "\n",
      "[[5]]\n",
      "[1] \"Moon\"\n",
      "\n",
      "[[6]]\n",
      "[1] 3.14\n",
      "\n",
      "[[7]]\n",
      "[1] 20\n",
      "\n"
     ]
    }
   ],
   "source": [
    "# Define a new list\n",
    "list2 <- list(\"Sun\", \"Moon\", 3.14, 20L)\n",
    "\n",
    "# Combine two lists using function c\n",
    "combined_list <- c(list1, list2)\n",
    "\n",
    "print(combined_list)"
   ]
  },
  {
   "cell_type": "markdown",
   "metadata": {},
   "source": [
    "### Convert a List to a Vector"
   ]
  },
  {
   "cell_type": "code",
   "execution_count": 27,
   "metadata": {},
   "outputs": [
    {
     "name": "stdout",
     "output_type": "stream",
     "text": [
      "[1] 1 2 3 4 5\n"
     ]
    }
   ],
   "source": [
    "# Define a List\n",
    "list3 <- list(1,2,3,4,5)\n",
    "\n",
    "v <- unlist(list3)\n",
    "\n",
    "print(v)"
   ]
  },
  {
   "cell_type": "markdown",
   "metadata": {},
   "source": [
    "## Matrix"
   ]
  },
  {
   "cell_type": "markdown",
   "metadata": {},
   "source": [
    "### Create a Matrix"
   ]
  },
  {
   "cell_type": "code",
   "execution_count": 28,
   "metadata": {
    "scrolled": true
   },
   "outputs": [
    {
     "name": "stdout",
     "output_type": "stream",
     "text": [
      "     [,1] [,2] [,3]\n",
      "[1,]    1    2    3\n",
      "[2,]    4    5    6\n"
     ]
    }
   ],
   "source": [
    "# Create a matrix.\n",
    "M1 = matrix( c(1,2,3,4,5,6), nrow = 2, ncol = 3, byrow = TRUE)\n",
    "print(M1)"
   ]
  },
  {
   "cell_type": "code",
   "execution_count": 29,
   "metadata": {
    "scrolled": true
   },
   "outputs": [
    {
     "name": "stdout",
     "output_type": "stream",
     "text": [
      "  C D E\n",
      "A 1 2 3\n",
      "B 4 5 6\n"
     ]
    }
   ],
   "source": [
    "# Create a matrix with dimnames\n",
    "dimlabel1 = list(\"A\", \"B\")\n",
    "dimlabel2 = list(\"C\", \"D\", \"E\")\n",
    "M2 = matrix( c(1,2,3,4,5,6), nrow = 2, ncol = 3, byrow = TRUE, dimnames = list(dimlabel1, dimlabel2))\n",
    "print(M2)"
   ]
  },
  {
   "cell_type": "markdown",
   "metadata": {},
   "source": [
    "### Accessing Elements"
   ]
  },
  {
   "cell_type": "code",
   "execution_count": 30,
   "metadata": {
    "scrolled": true
   },
   "outputs": [
    {
     "name": "stdout",
     "output_type": "stream",
     "text": [
      "[1] 6\n"
     ]
    }
   ],
   "source": [
    "# Getting particular element\n",
    "print(M1[2,3])"
   ]
  },
  {
   "cell_type": "code",
   "execution_count": 31,
   "metadata": {
    "scrolled": true
   },
   "outputs": [
    {
     "name": "stdout",
     "output_type": "stream",
     "text": [
      "[1] 3 6\n"
     ]
    }
   ],
   "source": [
    "# Getting particular column\n",
    "print(M1[,3])"
   ]
  },
  {
   "cell_type": "code",
   "execution_count": 32,
   "metadata": {
    "scrolled": true
   },
   "outputs": [
    {
     "name": "stdout",
     "output_type": "stream",
     "text": [
      "[1] 1 2 3\n"
     ]
    }
   ],
   "source": [
    "# Getting particular row\n",
    "print(M1[1,])"
   ]
  },
  {
   "cell_type": "markdown",
   "metadata": {},
   "source": [
    "### Matrix Addition & Subtraction\n",
    "* The rule for element-wise multiplication `*` and division `/` is the same."
   ]
  },
  {
   "cell_type": "code",
   "execution_count": 33,
   "metadata": {},
   "outputs": [
    {
     "name": "stdout",
     "output_type": "stream",
     "text": [
      "     [,1] [,2] [,3]\n",
      "[1,]    2    3    4\n",
      "[2,]    5    6    7\n"
     ]
    }
   ],
   "source": [
    "# Re-define the M1 and M2 matrices\n",
    "M1 = matrix(1:6, nrow = 2, ncol = 3, byrow = TRUE)\n",
    "M2 = matrix(1:6, nrow = 2, ncol = 3, byrow = TRUE)\n",
    "\n",
    "M2 = M2 + 1\n",
    "print(M2)"
   ]
  },
  {
   "cell_type": "code",
   "execution_count": 34,
   "metadata": {},
   "outputs": [
    {
     "name": "stdout",
     "output_type": "stream",
     "text": [
      "     [,1] [,2] [,3]\n",
      "[1,]    1    1    1\n",
      "[2,]    1    1    1\n"
     ]
    }
   ],
   "source": [
    "M3 = M2 - M1\n",
    "print(M3)"
   ]
  },
  {
   "cell_type": "code",
   "execution_count": 35,
   "metadata": {
    "scrolled": false
   },
   "outputs": [
    {
     "name": "stdout",
     "output_type": "stream",
     "text": [
      "     [,1] [,2] [,3]\n",
      "[1,]   -2   -5   -8\n",
      "[2,]  -11  -14  -17\n"
     ]
    }
   ],
   "source": [
    "M4 = M2 - 4*M1\n",
    "print(M4)"
   ]
  },
  {
   "cell_type": "markdown",
   "metadata": {},
   "source": [
    "## Array"
   ]
  },
  {
   "cell_type": "markdown",
   "metadata": {},
   "source": [
    "### Create an Array"
   ]
  },
  {
   "cell_type": "code",
   "execution_count": 36,
   "metadata": {
    "scrolled": false
   },
   "outputs": [
    {
     "name": "stdout",
     "output_type": "stream",
     "text": [
      ", , 1\n",
      "\n",
      "     [,1] [,2] [,3]\n",
      "[1,]    1    4    3\n",
      "[2,]    2    1    4\n",
      "[3,]    3    2    1\n",
      "\n",
      ", , 2\n",
      "\n",
      "     [,1] [,2] [,3]\n",
      "[1,]    2    1    4\n",
      "[2,]    3    2    1\n",
      "[3,]    4    3    2\n",
      "\n"
     ]
    }
   ],
   "source": [
    "# Create an array.\n",
    "a <- array(c(1,2,3,4),dim = c(3,3,2))\n",
    "print(a)"
   ]
  },
  {
   "cell_type": "code",
   "execution_count": 37,
   "metadata": {
    "scrolled": false
   },
   "outputs": [
    {
     "name": "stdout",
     "output_type": "stream",
     "text": [
      ", , 1\n",
      "\n",
      "     [,1] [,2] [,3]\n",
      "[1,]    1    4    1\n",
      "[2,]    2    5    2\n",
      "[3,]    3    6    3\n",
      "\n",
      ", , 2\n",
      "\n",
      "     [,1] [,2] [,3]\n",
      "[1,]    4    1    4\n",
      "[2,]    5    2    5\n",
      "[3,]    6    3    6\n",
      "\n"
     ]
    }
   ],
   "source": [
    "# Create an array from two vectors.\n",
    "a <- array(c(c(1,2,3,4),c(5,6)),dim = c(3,3,2))\n",
    "print(a)"
   ]
  },
  {
   "cell_type": "markdown",
   "metadata": {},
   "source": [
    "### Name Dimensions"
   ]
  },
  {
   "cell_type": "code",
   "execution_count": 38,
   "metadata": {
    "scrolled": true
   },
   "outputs": [
    {
     "name": "stdout",
     "output_type": "stream",
     "text": [
      ", , G\n",
      "\n",
      "  D E F\n",
      "A 1 4 1\n",
      "B 2 5 2\n",
      "C 3 6 3\n",
      "\n",
      ", , H\n",
      "\n",
      "  D E F\n",
      "A 4 1 4\n",
      "B 5 2 5\n",
      "C 6 3 6\n",
      "\n"
     ]
    }
   ],
   "source": [
    "# Define dimnames\n",
    "dimname1 <- c(\"A\", \"B\", \"C\")\n",
    "dimname2 <- c(\"D\", \"E\", \"F\")\n",
    "dimname3 <- c(\"G\", \"H\")\n",
    "\n",
    "# Create an array from two vectors with dimnames.\n",
    "a <- array(c(c(1,2,3,4),c(5,6)),dim = c(3,3,2), dimnames = list(dimname1, dimname2, dimname3))\n",
    "print(a)"
   ]
  },
  {
   "cell_type": "markdown",
   "metadata": {},
   "source": [
    "### Accessing Elements"
   ]
  },
  {
   "cell_type": "code",
   "execution_count": 39,
   "metadata": {},
   "outputs": [
    {
     "name": "stdout",
     "output_type": "stream",
     "text": [
      "[1] 4\n"
     ]
    }
   ],
   "source": [
    "# Getting a particular element\n",
    "print(a[1,2,1])"
   ]
  },
  {
   "cell_type": "code",
   "execution_count": 40,
   "metadata": {},
   "outputs": [
    {
     "name": "stdout",
     "output_type": "stream",
     "text": [
      "A B C \n",
      "4 5 6 \n"
     ]
    }
   ],
   "source": [
    "# Getting a particular column\n",
    "print(a[,2,1])"
   ]
  },
  {
   "cell_type": "code",
   "execution_count": 41,
   "metadata": {
    "scrolled": true
   },
   "outputs": [
    {
     "name": "stdout",
     "output_type": "stream",
     "text": [
      "  D E F\n",
      "A 4 1 4\n",
      "B 5 2 5\n",
      "C 6 3 6\n"
     ]
    }
   ],
   "source": [
    "# Getting a particular matrix\n",
    "print(a[,,2])"
   ]
  },
  {
   "cell_type": "markdown",
   "metadata": {},
   "source": [
    "### Array Addition\n",
    "* Same as other element-wise opeartions, e.g. `-`, `*`, `/`"
   ]
  },
  {
   "cell_type": "code",
   "execution_count": 42,
   "metadata": {
    "scrolled": true
   },
   "outputs": [
    {
     "name": "stdout",
     "output_type": "stream",
     "text": [
      "Array a1:\n",
      ", , 1\n",
      "\n",
      "     [,1] [,2]\n",
      "[1,]    1    3\n",
      "[2,]    2    1\n",
      "\n",
      ", , 2\n",
      "\n",
      "     [,1] [,2]\n",
      "[1,]    2    1\n",
      "[2,]    3    2\n",
      "\n",
      "Array a2:\n",
      ", , 1\n",
      "\n",
      "     [,1] [,2]\n",
      "[1,]    4    6\n",
      "[2,]    5    4\n",
      "\n",
      ", , 2\n",
      "\n",
      "     [,1] [,2]\n",
      "[1,]    5    4\n",
      "[2,]    6    5\n",
      "\n",
      "Array a_result:\n",
      ", , 1\n",
      "\n",
      "     [,1] [,2]\n",
      "[1,]    5    9\n",
      "[2,]    7    5\n",
      "\n",
      ", , 2\n",
      "\n",
      "     [,1] [,2]\n",
      "[1,]    7    5\n",
      "[2,]    9    7\n",
      "\n"
     ]
    }
   ],
   "source": [
    "# Define two arrays\n",
    "a1 <- array(1:3, dim = c(2,2,2))\n",
    "a2 <- array(4:6, dim = c(2,2,2))\n",
    "\n",
    "cat(\"Array a1:\\n\")\n",
    "print(a1)\n",
    "\n",
    "cat(\"Array a2:\\n\")\n",
    "print(a2)\n",
    "\n",
    "# Calculate the element-wise sums\n",
    "a_result <- a1 + a2\n",
    "\n",
    "cat(\"Array a_result:\\n\")\n",
    "print(a_result)\n"
   ]
  },
  {
   "cell_type": "markdown",
   "metadata": {},
   "source": [
    "### Calculations Across Array Elements\n",
    "\n",
    "* We use function `apply()` to calculate across aray elements"
   ]
  },
  {
   "cell_type": "code",
   "execution_count": 43,
   "metadata": {},
   "outputs": [
    {
     "name": "stdout",
     "output_type": "stream",
     "text": [
      "array a1:\n",
      ", , 1\n",
      "\n",
      "     [,1] [,2]\n",
      "[1,]    1    3\n",
      "[2,]    2    1\n",
      "\n",
      ", , 2\n",
      "\n",
      "     [,1] [,2]\n",
      "[1,]    2    1\n",
      "[2,]    3    2\n",
      "\n",
      "\n",
      "array result1:\n",
      "[1] 1.75 2.00\n",
      "\n",
      "array result2:\n",
      "     [,1] [,2]\n",
      "[1,]    3    4\n",
      "[2,]    5    3\n"
     ]
    }
   ],
   "source": [
    "# Define an array \n",
    "a1 <- array(1:3, dim = c(2,2,2))\n",
    "\n",
    "cat(\"array a1:\\n\")\n",
    "print(a1)\n",
    "\n",
    "# Calcuate means of elements along 1st axis\n",
    "result1 <- apply(a1, MARGIN = c(1), mean)\n",
    "cat(\"\\narray result1:\\n\")\n",
    "print(result1)\n",
    "\n",
    "# Calcuate sums of elements along 1st and 2nd axes\n",
    "result2 <- apply(a1, MARGIN = c(1,2), sum)\n",
    "cat(\"\\narray result2:\\n\")\n",
    "print(result2)\n",
    "\n"
   ]
  },
  {
   "cell_type": "markdown",
   "metadata": {},
   "source": [
    "## Factor "
   ]
  },
  {
   "cell_type": "markdown",
   "metadata": {},
   "source": [
    "### Create a Vector"
   ]
  },
  {
   "cell_type": "code",
   "execution_count": 44,
   "metadata": {},
   "outputs": [
    {
     "name": "stdout",
     "output_type": "stream",
     "text": [
      "[1] M M F M F F M\n",
      "Levels: F M\n",
      "[1] 2\n"
     ]
    }
   ],
   "source": [
    "# Create a vector.\n",
    "staff_genders <- array(c(\"M\",\"M\",\"F\",\"M\",\"F\",\"F\",\"M\"))\n",
    "\n",
    "# Create a factor.\n",
    "staff_gender_factor <- factor(staff_genders)\n",
    "\n",
    "# Print the factor\n",
    "print(staff_gender_factor)\n",
    "print(nlevels(staff_gender_factor))"
   ]
  },
  {
   "cell_type": "markdown",
   "metadata": {},
   "source": [
    "### Generating a Factor\n",
    "* Function `gl` is used to generate labels\n",
    "    - Syntax: `gl(n, k, labels)`\n",
    "    - `n` : number of levels.\n",
    "    - `k` : the number of replications.\n",
    "    - `labels` : a vector of labels."
   ]
  },
  {
   "cell_type": "code",
   "execution_count": 45,
   "metadata": {},
   "outputs": [
    {
     "name": "stdout",
     "output_type": "stream",
     "text": [
      " [1] Apple  Apple  Apple  Apple  Orange Orange Orange Orange Banana Banana\n",
      "[11] Banana Banana\n",
      "Levels: Apple Orange Banana\n"
     ]
    }
   ],
   "source": [
    "# Create labels\n",
    "v <- gl(3, 4, labels = c(\"Apple\", \"Orange\", \"Banana\"))\n",
    "print(v)"
   ]
  },
  {
   "cell_type": "markdown",
   "metadata": {},
   "source": [
    "## Data Frames"
   ]
  },
  {
   "cell_type": "markdown",
   "metadata": {},
   "source": [
    "### Create a Data Frame"
   ]
  },
  {
   "cell_type": "code",
   "execution_count": 46,
   "metadata": {},
   "outputs": [
    {
     "name": "stdout",
     "output_type": "stream",
     "text": [
      "  ID  Name Gender Age\n",
      "1  1   Tom      M  32\n",
      "2  2   Ann      F  36\n",
      "3  3 Peter      M  29\n"
     ]
    }
   ],
   "source": [
    "# Create a data frame.\n",
    "staff_table <- data.frame(\n",
    "    ID=c(1L,2L,3L),\n",
    "    Name=c(\"Tom\", \"Ann\", \"Peter\"),\n",
    "    Gender=c(\"M\",\"F\",\"M\"),\n",
    "    Age=c(32L,36L,29L)\n",
    ")\n",
    "\n",
    "# Print the data frame.\n",
    "print(staff_table)"
   ]
  },
  {
   "cell_type": "markdown",
   "metadata": {},
   "source": [
    "### Structure of the Dataframe"
   ]
  },
  {
   "cell_type": "code",
   "execution_count": 47,
   "metadata": {},
   "outputs": [
    {
     "name": "stdout",
     "output_type": "stream",
     "text": [
      "'data.frame':\t3 obs. of  4 variables:\n",
      " $ ID    : int  1 2 3\n",
      " $ Name  : chr  \"Tom\" \"Ann\" \"Peter\"\n",
      " $ Gender: chr  \"M\" \"F\" \"M\"\n",
      " $ Age   : int  32 36 29\n"
     ]
    }
   ],
   "source": [
    "# Get the structure of the data frame.\n",
    "str(staff_table)"
   ]
  },
  {
   "cell_type": "markdown",
   "metadata": {},
   "source": [
    "### Summer of the Dataframe"
   ]
  },
  {
   "cell_type": "code",
   "execution_count": 48,
   "metadata": {
    "scrolled": true
   },
   "outputs": [
    {
     "name": "stdout",
     "output_type": "stream",
     "text": [
      "       ID          Name              Gender               Age       \n",
      " Min.   :1.0   Length:3           Length:3           Min.   :29.00  \n",
      " 1st Qu.:1.5   Class :character   Class :character   1st Qu.:30.50  \n",
      " Median :2.0   Mode  :character   Mode  :character   Median :32.00  \n",
      " Mean   :2.0                                         Mean   :32.33  \n",
      " 3rd Qu.:2.5                                         3rd Qu.:34.00  \n",
      " Max.   :3.0                                         Max.   :36.00  \n"
     ]
    }
   ],
   "source": [
    "# Get the summer of the data frame\n",
    "print(summary(staff_table))"
   ]
  },
  {
   "cell_type": "markdown",
   "metadata": {},
   "source": [
    "### Making a Sub-dataframe"
   ]
  },
  {
   "cell_type": "code",
   "execution_count": 49,
   "metadata": {},
   "outputs": [
    {
     "name": "stdout",
     "output_type": "stream",
     "text": [
      "  staff_table.Name staff_table.Gender\n",
      "1              Tom                  M\n",
      "2              Ann                  F\n",
      "3            Peter                  M\n"
     ]
    }
   ],
   "source": [
    "# Making a sub-dataframe\n",
    "staff_table_gender = data.frame(staff_table$Name, staff_table$Gender)\n",
    "\n",
    "print(staff_table_gender)"
   ]
  },
  {
   "cell_type": "code",
   "execution_count": 50,
   "metadata": {},
   "outputs": [
    {
     "name": "stdout",
     "output_type": "stream",
     "text": [
      "  ID Name Gender Age\n",
      "1  1  Tom      M  32\n",
      "2  2  Ann      F  36\n"
     ]
    }
   ],
   "source": [
    "# Getting first two rows\n",
    "staff_table_12 <- staff_table[1:2,]\n",
    "\n",
    "print(staff_table_12)"
   ]
  },
  {
   "cell_type": "code",
   "execution_count": 51,
   "metadata": {},
   "outputs": [
    {
     "name": "stdout",
     "output_type": "stream",
     "text": [
      "   Name Age\n",
      "1   Tom  32\n",
      "3 Peter  29\n"
     ]
    }
   ],
   "source": [
    "# Getting particular cols and rows\n",
    "staff_table_parti <- staff_table[c(1,3),c(2,4)]\n",
    "\n",
    "print(staff_table_parti)"
   ]
  },
  {
   "cell_type": "markdown",
   "metadata": {},
   "source": [
    "### Update the Dataframe"
   ]
  },
  {
   "cell_type": "code",
   "execution_count": 52,
   "metadata": {},
   "outputs": [
    {
     "name": "stdout",
     "output_type": "stream",
     "text": [
      "  ID  Name Gender Age Salary\n",
      "1  1   Tom      M  32  30000\n",
      "2  2   Ann      F  36  32000\n",
      "3  3 Peter      M  29  29000\n"
     ]
    }
   ],
   "source": [
    "# Add a new column\n",
    "staff_table$Salary = c(30000,32000,29000)\n",
    "\n",
    "print(staff_table)"
   ]
  },
  {
   "cell_type": "code",
   "execution_count": 53,
   "metadata": {
    "scrolled": true
   },
   "outputs": [
    {
     "name": "stdout",
     "output_type": "stream",
     "text": [
      "  ID  Name Gender Age Salary\n",
      "1  1   Tom      M  32  30000\n",
      "2  2   Ann      F  36  32000\n",
      "3  3 Peter      M  29  29000\n",
      "4  4   Ken      M  30  31000\n"
     ]
    }
   ],
   "source": [
    "# Add a new row\n",
    "new_staff = data.frame(\n",
    "    ID = 4L,\n",
    "    Name = \"Ken\",\n",
    "    Gender = \"M\",\n",
    "    Age = 30L,\n",
    "    Salary = 31000.0\n",
    ")\n",
    "\n",
    "staff_table <- rbind(staff_table, new_staff)\n",
    "\n",
    "print(staff_table)"
   ]
  },
  {
   "cell_type": "markdown",
   "metadata": {},
   "source": [
    "### Add New Entries by `cbind`\n",
    "* One should note that, `chind` returns a vector containing elements of a **same type**. All numeric entries are converted to be character."
   ]
  },
  {
   "cell_type": "code",
   "execution_count": 54,
   "metadata": {
    "scrolled": false
   },
   "outputs": [
    {
     "name": "stdout",
     "output_type": "stream",
     "text": [
      "  ID  Name Gender Age Salary\n",
      "1  1   Tom      M  32  30000\n",
      "2  2   Ann      F  36  32000\n",
      "3  3 Peter      M  29  29000\n",
      "4  4   Ken      M  30  31000\n",
      "5  5   Amy      F  29  30000\n",
      "6  6   Zoe      F  31  29500\n"
     ]
    }
   ],
   "source": [
    "# Create a new row using cbind\n",
    "new_staff = cbind(\n",
    "    ID = c(5L, 6L),\n",
    "    Name = c(\"Amy\", \"Zoe\"),\n",
    "    Gender = c(\"F\", \"F\"), \n",
    "    Age = c(29L, 31L),\n",
    "    Salary = c(30000, 29500)\n",
    ")\n",
    "\n",
    "# Append the new row using rbind\n",
    "staff_table <- rbind(staff_table, new_staff)\n",
    "\n",
    "print(staff_table)"
   ]
  },
  {
   "cell_type": "markdown",
   "metadata": {},
   "source": [
    "### Merge Dataframes"
   ]
  },
  {
   "cell_type": "code",
   "execution_count": 55,
   "metadata": {
    "scrolled": true
   },
   "outputs": [
    {
     "name": "stdout",
     "output_type": "stream",
     "text": [
      "  ID  Name Gender Age Salary Office\n",
      "1  1   Tom      M  32  30000     TW\n",
      "2  2   Ann      F  36  32000     HK\n",
      "3  3 Peter      M  29  29000     HK\n",
      "4  4   Ken      M  30  31000     HK\n",
      "5  5   Amy      F  29  30000     TW\n",
      "6  6   Zoe      F  31  29500     TW\n"
     ]
    }
   ],
   "source": [
    "# New dataframe to merge\n",
    "staff_office = cbind(\n",
    "    ID = c(2L, 3L, 4L, 5L, 6L, 1L),\n",
    "    Office = c(\"HK\", \"HK\", \"HK\", \"TW\", \"TW\", \"TW\")\n",
    ")\n",
    "\n",
    "# Merge two dataframes according to \"ID\"\n",
    "staff_table_w_office = merge(x = staff_table, y = staff_office, by.x = c(\"ID\"), by.y = c(\"ID\"))\n",
    "\n",
    "print(staff_table_w_office)"
   ]
  },
  {
   "cell_type": "markdown",
   "metadata": {},
   "source": [
    "### Melting the Dataframe\n",
    "* Here a library namely \"reshape\" is required."
   ]
  },
  {
   "cell_type": "code",
   "execution_count": 56,
   "metadata": {},
   "outputs": [
    {
     "name": "stdout",
     "output_type": "stream",
     "text": [
      "A sub-dataframe\n",
      "\n",
      "  Gender Office Age Salary\n",
      "1      M     TW  32  30000\n",
      "2      F     HK  36  32000\n",
      "3      M     HK  29  29000\n",
      "4      M     HK  30  31000\n",
      "5      F     TW  29  30000\n",
      "6      F     TW  31  29500\n",
      "\n",
      "The melten dataframe\n",
      "\n",
      "   Gender Office variable value\n",
      "1       M     TW      Age    32\n",
      "2       F     HK      Age    36\n",
      "3       M     HK      Age    29\n",
      "4       M     HK      Age    30\n",
      "5       F     TW      Age    29\n",
      "6       F     TW      Age    31\n",
      "7       M     TW   Salary 30000\n",
      "8       F     HK   Salary 32000\n",
      "9       M     HK   Salary 29000\n",
      "10      M     HK   Salary 31000\n",
      "11      F     TW   Salary 30000\n",
      "12      F     TW   Salary 29500\n"
     ]
    }
   ],
   "source": [
    "# Get a dataframe without Names and IDs\n",
    "staff_meta_data <- data.frame(\n",
    "    Gender = staff_table_w_office$Gender, \n",
    "    Office = staff_table_w_office$Office,\n",
    "    Age = as.numeric(staff_table_w_office$Age),\n",
    "    Salary = as.numeric(staff_table_w_office$Salary))\n",
    "\n",
    "cat(\"A sub-dataframe\\n\\n\")\n",
    "print(staff_meta_data)\n",
    "\n",
    "cat(\"\\nThe melten dataframe\\n\\n\")\n",
    "# Melt the dataframe\n",
    "library(reshape)        # Here we need the reshape library\n",
    "staff_meta_data_melt <- reshape::melt(staff_meta_data, id = c(\"Gender\", \"Office\"))\n",
    "print(staff_meta_data_melt)"
   ]
  },
  {
   "cell_type": "markdown",
   "metadata": {},
   "source": [
    "### Casting the Dataframe"
   ]
  },
  {
   "cell_type": "code",
   "execution_count": 57,
   "metadata": {},
   "outputs": [
    {
     "name": "stdout",
     "output_type": "stream",
     "text": [
      "Means of age and salary (average over gender and office location)\n",
      "\n",
      "  Gender Office  Age Salary\n",
      "1      F     HK 36.0  32000\n",
      "2      F     TW 30.0  29750\n",
      "3      M     HK 29.5  30000\n",
      "4      M     TW 32.0  30000\n",
      "\n",
      "Means of age and salary (average over office location)\n",
      "\n",
      "  Office      Age   Salary\n",
      "1     HK 31.66667 30666.67\n",
      "2     TW 30.66667 29833.33\n"
     ]
    }
   ],
   "source": [
    "# Casting here means calculating means of age and salary according to id \"Gender\" and \"Office\"\n",
    "casted_staff_meta_data <- reshape::cast(staff_meta_data_melt, Gender+Office~variable, mean)\n",
    "\n",
    "cat(\"Means of age and salary (average over gender and office location)\\n\\n\")\n",
    "print(casted_staff_meta_data)\n",
    "\n",
    "# Casting here means calculating means of age and salary according to id \"Office\"\n",
    "casted_staff_meta_data <- reshape::cast(staff_meta_data_melt, Office~variable, mean)\n",
    "\n",
    "cat(\"\\nMeans of age and salary (average over office location)\\n\\n\")\n",
    "print(casted_staff_meta_data)"
   ]
  },
  {
   "cell_type": "markdown",
   "metadata": {},
   "source": [
    "## String"
   ]
  },
  {
   "cell_type": "markdown",
   "metadata": {},
   "source": [
    "### Define a String"
   ]
  },
  {
   "cell_type": "code",
   "execution_count": 58,
   "metadata": {},
   "outputs": [
    {
     "name": "stdout",
     "output_type": "stream",
     "text": [
      "[1] \"I got Tom's lunchbox.\"\n"
     ]
    }
   ],
   "source": [
    "# Assign a string\n",
    "str1 <- \"I got Tom's lunchbox.\"\n",
    "print(str1)"
   ]
  },
  {
   "cell_type": "markdown",
   "metadata": {},
   "source": [
    "### Combine Strings"
   ]
  },
  {
   "cell_type": "code",
   "execution_count": 59,
   "metadata": {},
   "outputs": [
    {
     "name": "stdout",
     "output_type": "stream",
     "text": [
      "[1] \"I  Like Hamburger.\"\n"
     ]
    }
   ],
   "source": [
    "str1 <- \"I \"\n",
    "str2 <- \"Like\"\n",
    "str3 <- \"Hamburger.\"\n",
    "\n",
    "# Combine strings with default settings\n",
    "result <- paste(str1, str2, str3)\n",
    "print(result)"
   ]
  },
  {
   "cell_type": "code",
   "execution_count": 60,
   "metadata": {
    "scrolled": false
   },
   "outputs": [
    {
     "name": "stdout",
     "output_type": "stream",
     "text": [
      "[1] \"I #Like#Hamburger.\"\n"
     ]
    }
   ],
   "source": [
    "# Combine strings and connect them using \"#\"\n",
    "result <- paste(str1, str2, str3, sep=\"#\")\n",
    "print(result)"
   ]
  },
  {
   "cell_type": "code",
   "execution_count": 61,
   "metadata": {
    "scrolled": true
   },
   "outputs": [
    {
     "name": "stdout",
     "output_type": "stream",
     "text": [
      "[1] \"I #A%%Like#B%%Hamburger.#A\"\n"
     ]
    }
   ],
   "source": [
    "# Cross combining strings using \"#\" and \"%%\"\n",
    "result <- paste(c(str1, str2, str3), c(\"A\", \"B\"), sep=\"#\", collapse = \"%%\")\n",
    "print(result)"
   ]
  },
  {
   "cell_type": "markdown",
   "metadata": {},
   "source": [
    "### Format String \n",
    "\n",
    "The `format` function has a general syntax:\n",
    "\n",
    "`format(x, digits, nsmall, scientific, width, justify = c(\"left\", \"right\", \"centre\", \"none\")) `\n",
    "\n"
   ]
  },
  {
   "cell_type": "code",
   "execution_count": 62,
   "metadata": {},
   "outputs": [
    {
     "name": "stdout",
     "output_type": "stream",
     "text": [
      "[1] \"3.142\"\n"
     ]
    }
   ],
   "source": [
    "str1 <- format(3.14159265358, digits = 4) # Keeps at most 4 digits\n",
    "print(str1)"
   ]
  },
  {
   "cell_type": "code",
   "execution_count": 63,
   "metadata": {
    "scrolled": true
   },
   "outputs": [
    {
     "name": "stdout",
     "output_type": "stream",
     "text": [
      "[1] \"3.10\"\n"
     ]
    }
   ],
   "source": [
    "str2 <- format(3.1, nsmall = 2) # Make decimal places after the floating point to be 2\n",
    "print(str2)"
   ]
  },
  {
   "cell_type": "code",
   "execution_count": 64,
   "metadata": {
    "scrolled": true
   },
   "outputs": [
    {
     "name": "stdout",
     "output_type": "stream",
     "text": [
      "[1] \"3.1e+00\"\n"
     ]
    }
   ],
   "source": [
    "str3 <- format(3.1, scientific = TRUE)\n",
    "print(str3)"
   ]
  },
  {
   "cell_type": "code",
   "execution_count": 65,
   "metadata": {
    "scrolled": true
   },
   "outputs": [
    {
     "name": "stdout",
     "output_type": "stream",
     "text": [
      "[1] \"Hello     \"\n"
     ]
    }
   ],
   "source": [
    "str4 <- format(\"Hello\", width = 10)\n",
    "print(str4)"
   ]
  },
  {
   "cell_type": "code",
   "execution_count": 66,
   "metadata": {
    "scrolled": true
   },
   "outputs": [
    {
     "name": "stdout",
     "output_type": "stream",
     "text": [
      "[1] \"     Hello\"\n"
     ]
    }
   ],
   "source": [
    "str5 <- format(\"Hello\", width = 10, justify = \"right\")\n",
    "print(str5)"
   ]
  },
  {
   "cell_type": "markdown",
   "metadata": {},
   "source": [
    "### Number of Chars"
   ]
  },
  {
   "cell_type": "code",
   "execution_count": 67,
   "metadata": {},
   "outputs": [
    {
     "name": "stdout",
     "output_type": "stream",
     "text": [
      "[1] 5\n"
     ]
    }
   ],
   "source": [
    "# Define the string\n",
    "str1 <- \"Hello\"\n",
    "\n",
    "print(nchar(str1))"
   ]
  },
  {
   "cell_type": "markdown",
   "metadata": {},
   "source": [
    "### Change the Case"
   ]
  },
  {
   "cell_type": "code",
   "execution_count": 68,
   "metadata": {
    "scrolled": true
   },
   "outputs": [
    {
     "name": "stdout",
     "output_type": "stream",
     "text": [
      "[1] \"HELLO\"\n"
     ]
    }
   ],
   "source": [
    "# Define the string\n",
    "str1 <- \"Hello\"\n",
    "\n",
    "print(toupper(str1))"
   ]
  },
  {
   "cell_type": "code",
   "execution_count": 69,
   "metadata": {
    "scrolled": true
   },
   "outputs": [
    {
     "name": "stdout",
     "output_type": "stream",
     "text": [
      "[1] \"hello\"\n"
     ]
    }
   ],
   "source": [
    "print(tolower(str1))"
   ]
  },
  {
   "cell_type": "markdown",
   "metadata": {},
   "source": [
    "### Extracting Parts of a String - `substr`"
   ]
  },
  {
   "cell_type": "code",
   "execution_count": 70,
   "metadata": {
    "scrolled": false
   },
   "outputs": [
    {
     "name": "stdout",
     "output_type": "stream",
     "text": [
      "[1] \"air quality\"\n"
     ]
    }
   ],
   "source": [
    "# Define a string\n",
    "str1 <- \"The air quality is ideal for most individuals.\"\n",
    "\n",
    "# Get a substring\n",
    "str2 <- substr(str1, start = 5, stop = 15)\n",
    "print(str2)"
   ]
  },
  {
   "cell_type": "markdown",
   "metadata": {},
   "source": [
    "### Split a String"
   ]
  },
  {
   "cell_type": "code",
   "execution_count": 71,
   "metadata": {},
   "outputs": [
    {
     "name": "stdout",
     "output_type": "stream",
     "text": [
      "[[1]]\n",
      "[1] \"The\"          \"air\"          \"quality\"      \"is\"           \"ideal\"       \n",
      "[6] \"for\"          \"most\"         \"individuals.\"\n",
      "\n"
     ]
    }
   ],
   "source": [
    "# Define a string\n",
    "str1 <- \"The air quality is ideal for most individuals.\"\n",
    "\n",
    "words <- strsplit(str1, split = \" \")\n",
    "print(words)"
   ]
  },
  {
   "cell_type": "markdown",
   "metadata": {},
   "source": [
    "# Operations"
   ]
  },
  {
   "cell_type": "markdown",
   "metadata": {},
   "source": [
    "## Arithmetic Operators\n",
    "\n",
    "Arithmetic operators include `+`, `-`, `*`, `/`, `%%` (remainder), `%/%` (quotient) and `^` (exponent)."
   ]
  },
  {
   "cell_type": "code",
   "execution_count": 72,
   "metadata": {
    "scrolled": true
   },
   "outputs": [
    {
     "name": "stdout",
     "output_type": "stream",
     "text": [
      "[1]  3  9 12\n",
      "[1] 1 5 6\n",
      "[1]  2 14 27\n",
      "[1] 2.0 3.5 3.0\n",
      "[1] 0 1 0\n",
      "[1] 2 3 3\n",
      "[1]   2  49 729\n"
     ]
    }
   ],
   "source": [
    "# Define vectors\n",
    "v1 <- c(2,7,9)\n",
    "v2 <- c(1,2,3)\n",
    "\n",
    "print(v1+v2)\n",
    "print(v1-v2)\n",
    "print(v1*v2)\n",
    "print(v1/v2)\n",
    "print(v1%%v2)\n",
    "print(v1%/%v2)\n",
    "print(v1 ^ v2)"
   ]
  },
  {
   "cell_type": "markdown",
   "metadata": {},
   "source": [
    "## Relational Operators\n",
    "Relational Operators includes `<`, `>`, `==`, `<=`, `>=` and `!=`."
   ]
  },
  {
   "cell_type": "code",
   "execution_count": 73,
   "metadata": {
    "scrolled": true
   },
   "outputs": [
    {
     "name": "stdout",
     "output_type": "stream",
     "text": [
      "[1] FALSE FALSE  TRUE\n",
      "[1]  TRUE FALSE FALSE\n",
      "[1] FALSE  TRUE FALSE\n",
      "[1] FALSE  TRUE  TRUE\n",
      "[1]  TRUE  TRUE FALSE\n",
      "[1]  TRUE FALSE  TRUE\n"
     ]
    }
   ],
   "source": [
    "# Define vectors\n",
    "v1 <- c(2,3,9)\n",
    "v2 <- c(1,3,12)\n",
    "\n",
    "print(v1<v2)\n",
    "print(v1>v2)\n",
    "print(v1==v2)\n",
    "print(v1<=v2)\n",
    "print(v1>=v2)\n",
    "print(v1!=v2)"
   ]
  },
  {
   "cell_type": "markdown",
   "metadata": {},
   "source": [
    "## Logical Operators"
   ]
  },
  {
   "cell_type": "code",
   "execution_count": 74,
   "metadata": {},
   "outputs": [
    {
     "name": "stdout",
     "output_type": "stream",
     "text": [
      "[1] TRUE\n",
      "[1] TRUE\n",
      "[1] TRUE\n",
      "[1] FALSE\n"
     ]
    }
   ],
   "source": [
    "print(TRUE || TRUE)\n",
    "print(FALSE || TRUE)\n",
    "print(TRUE || FALSE)\n",
    "print(FALSE || FALSE)"
   ]
  },
  {
   "cell_type": "code",
   "execution_count": 75,
   "metadata": {},
   "outputs": [
    {
     "name": "stdout",
     "output_type": "stream",
     "text": [
      "[1] TRUE\n",
      "[1] FALSE\n",
      "[1] FALSE\n",
      "[1] FALSE\n"
     ]
    }
   ],
   "source": [
    "print(TRUE && TRUE)\n",
    "print(FALSE && TRUE)\n",
    "print(TRUE && FALSE)\n",
    "print(FALSE && FALSE)"
   ]
  },
  {
   "cell_type": "code",
   "execution_count": 76,
   "metadata": {
    "scrolled": true
   },
   "outputs": [
    {
     "name": "stdout",
     "output_type": "stream",
     "text": [
      "[1] FALSE FALSE FALSE  TRUE\n",
      "[1] FALSE  TRUE  TRUE  TRUE\n",
      "[1]  TRUE  TRUE  TRUE FALSE\n"
     ]
    }
   ],
   "source": [
    "v1 <- c(FALSE, FALSE, FALSE, TRUE)\n",
    "v2 <- c(FALSE, TRUE, TRUE, TRUE)\n",
    "\n",
    "print(v1&v2) \n",
    "print(v1|v2)\n",
    "print(!v1)"
   ]
  },
  {
   "cell_type": "markdown",
   "metadata": {},
   "source": [
    "The logical operator `&&` and `||` considers only the first element of the vectors"
   ]
  },
  {
   "cell_type": "code",
   "execution_count": 77,
   "metadata": {},
   "outputs": [
    {
     "name": "stdout",
     "output_type": "stream",
     "text": [
      "[1] FALSE\n",
      "[1] TRUE\n",
      "[1] TRUE\n",
      "[1] FALSE\n"
     ]
    }
   ],
   "source": [
    "v1 <- c(FALSE, FALSE, FALSE, TRUE)\n",
    "v2 <- c(TRUE, TRUE, TRUE, FALSE)\n",
    "print(v1&&v2)\n",
    "print(v1||v2)\n",
    "\n",
    "v3 <- c(TRUE, TRUE, TRUE, TRUE)\n",
    "v4 <- c(FALSE, FALSE, FALSE, TRUE)\n",
    "print(v2&&v3)\n",
    "print(v1&&v4)"
   ]
  },
  {
   "cell_type": "markdown",
   "metadata": {},
   "source": [
    "## Miscellaneous Operators"
   ]
  },
  {
   "cell_type": "markdown",
   "metadata": {},
   "source": [
    "### `:` Create a Vector Containing a Sequence of Numbers "
   ]
  },
  {
   "cell_type": "code",
   "execution_count": 78,
   "metadata": {
    "scrolled": true
   },
   "outputs": [
    {
     "name": "stdout",
     "output_type": "stream",
     "text": [
      " [1]  1  2  3  4  5  6  7  8  9 10\n"
     ]
    }
   ],
   "source": [
    "v1 <- 1:10\n",
    "print(v1)"
   ]
  },
  {
   "cell_type": "markdown",
   "metadata": {},
   "source": [
    "### `%in%` Check if a Variable Belongs to a Vector"
   ]
  },
  {
   "cell_type": "code",
   "execution_count": 79,
   "metadata": {
    "scrolled": false
   },
   "outputs": [
    {
     "name": "stdout",
     "output_type": "stream",
     "text": [
      "[1] TRUE\n",
      "[1] FALSE\n"
     ]
    }
   ],
   "source": [
    "print(3 %in% v1)\n",
    "print(11 %in% v1)"
   ]
  },
  {
   "cell_type": "markdown",
   "metadata": {},
   "source": [
    "### `%*%` Matrix Multiplication"
   ]
  },
  {
   "cell_type": "code",
   "execution_count": 80,
   "metadata": {},
   "outputs": [
    {
     "name": "stdout",
     "output_type": "stream",
     "text": [
      "\n",
      "     [,1] [,2]\n",
      "[1,]    1    4\n",
      "[2,]    2    5\n",
      "[3,]    3    6\n",
      "\n",
      "     [,1] [,2] [,3]\n",
      "[1,]    3    5    7\n",
      "[2,]    4    6    8\n",
      "\n",
      "     [,1] [,2] [,3]\n",
      "[1,]   19   29   39\n",
      "[2,]   26   40   54\n",
      "[3,]   33   51   69\n"
     ]
    }
   ],
   "source": [
    "M1 <- matrix(1:6, nrow = 3, ncol = 2)\n",
    "M2 <- matrix(3:8, nrow = 2, ncol = 3)\n",
    "\n",
    "cat(\"\\n\")\n",
    "print(M1)\n",
    "cat(\"\\n\")\n",
    "print(M2)\n",
    "\n",
    "M_result <- M1 %*% M2\n",
    "\n",
    "cat(\"\\n\")\n",
    "print(M_result)"
   ]
  },
  {
   "cell_type": "markdown",
   "metadata": {},
   "source": [
    "# Conditional Statements"
   ]
  },
  {
   "cell_type": "markdown",
   "metadata": {},
   "source": [
    "## `if ... else` statement"
   ]
  },
  {
   "cell_type": "code",
   "execution_count": 81,
   "metadata": {},
   "outputs": [
    {
     "name": "stdout",
     "output_type": "stream",
     "text": [
      "x is less than 4.\n",
      "\n",
      "x is not less than 4.\n"
     ]
    }
   ],
   "source": [
    "x <- 2 # Assign 2 to x\n",
    "\n",
    "# A if-only statement\n",
    "if (x < 4){\n",
    "    cat(\"x is less than 4.\\n\\n\")\n",
    "}\n",
    "\n",
    "x <- 5 # Assign 5 to x\n",
    "\n",
    "# A if-else statement\n",
    "if (x < 4){\n",
    "    cat(\"x is less than 4.\\n\\n\")\n",
    "}else{\n",
    "    cat(\"x is not less than 4.\\n\")\n",
    "}"
   ]
  },
  {
   "cell_type": "markdown",
   "metadata": {},
   "source": [
    "## `if ... else if ... else` statement"
   ]
  },
  {
   "cell_type": "code",
   "execution_count": 82,
   "metadata": {},
   "outputs": [
    {
     "name": "stdout",
     "output_type": "stream",
     "text": [
      "x is not less than 4, but less than 8.\n"
     ]
    }
   ],
   "source": [
    "x <- 5 # Assign 5 to x\n",
    "\n",
    "# A if-else statement\n",
    "if (x < 4){\n",
    "    cat(\"x is less than 4.\\n\\n\")\n",
    "}else if (x < 8){\n",
    "    cat(\"x is not less than 4, but less than 8.\\n\")\n",
    "}else{\n",
    "    cat(\"x is not less 8.\\n\")\n",
    "}"
   ]
  },
  {
   "cell_type": "code",
   "execution_count": 83,
   "metadata": {},
   "outputs": [
    {
     "name": "stdout",
     "output_type": "stream",
     "text": [
      "x is not less than 8.\n"
     ]
    }
   ],
   "source": [
    "x <- 10 # Assign 10 to x\n",
    "\n",
    "# A if-else statement\n",
    "if (x < 4){\n",
    "    cat(\"x is less than 4.\\n\\n\")\n",
    "}else if (x < 8){\n",
    "    cat(\"x is not less than 4, but less than 8.\\n\")\n",
    "}else{\n",
    "    cat(\"x is not less than 8.\\n\")\n",
    "}"
   ]
  },
  {
   "cell_type": "markdown",
   "metadata": {},
   "source": [
    "## `switch` statement"
   ]
  },
  {
   "cell_type": "code",
   "execution_count": 84,
   "metadata": {
    "scrolled": true
   },
   "outputs": [
    {
     "name": "stdout",
     "output_type": "stream",
     "text": [
      "[1] \"Two\"\n"
     ]
    }
   ],
   "source": [
    "# Running a switch statement\n",
    "x1 <- switch(2, \"One\", \"Two\", \"None Matched\")\n",
    "print(x1)"
   ]
  },
  {
   "cell_type": "code",
   "execution_count": 85,
   "metadata": {},
   "outputs": [
    {
     "name": "stdout",
     "output_type": "stream",
     "text": [
      "I got an Apple .\n"
     ]
    }
   ],
   "source": [
    "# Define a list of indices\n",
    "idx <- list(1,2,3)\n",
    "# Give names to list elements\n",
    "names(idx) <- c(\"Apple\", \"Orange\", \"Banana\")\n",
    "\n",
    "# Determine the output by a switch\n",
    "x2 <- switch(idx$\"Apple\", \"Apple\", \"Orange\", \"Banana\")\n",
    "\n",
    "cat(\"I got an\", x2, \".\\n\")"
   ]
  },
  {
   "cell_type": "markdown",
   "metadata": {},
   "source": [
    "# Loops"
   ]
  },
  {
   "cell_type": "markdown",
   "metadata": {},
   "source": [
    "## `repeat` Loop"
   ]
  },
  {
   "cell_type": "code",
   "execution_count": 86,
   "metadata": {},
   "outputs": [
    {
     "name": "stdout",
     "output_type": "stream",
     "text": [
      "This is iteration #1.\n",
      "This is iteration #2.\n",
      "This is iteration #3.\n",
      "This is iteration #4.\n",
      "This is iteration #5.\n"
     ]
    }
   ],
   "source": [
    "# Set the counter to be 0\n",
    "count <- 0L\n",
    "\n",
    "# Start the repeat loop\n",
    "repeat{\n",
    "    count <- count + 1L  # Increase the counter by 1\n",
    "    cat(\"This is iteration #\", count, \".\\n\", sep = \"\")\n",
    "    if (count >= 5L)\n",
    "        {\n",
    "        break # Break the loop if counter >= 5\n",
    "    }\n",
    "}"
   ]
  },
  {
   "cell_type": "markdown",
   "metadata": {},
   "source": [
    "## `while` Loop"
   ]
  },
  {
   "cell_type": "code",
   "execution_count": 87,
   "metadata": {},
   "outputs": [
    {
     "name": "stdout",
     "output_type": "stream",
     "text": [
      "This is iteration #1.\n",
      "This is iteration #2.\n",
      "This is iteration #3.\n",
      "This is iteration #4.\n",
      "This is iteration #5.\n"
     ]
    }
   ],
   "source": [
    "# Set the counter to be 0\n",
    "count <- 0L\n",
    "\n",
    "# Start the while loop\n",
    "while (count < 5)\n",
    "    {\n",
    "    count <- count + 1L  # Increase the counter by 1\n",
    "    cat(\"This is iteration #\", count, \".\\n\", sep = \"\")\n",
    "}"
   ]
  },
  {
   "cell_type": "markdown",
   "metadata": {},
   "source": [
    "## `for` Loop"
   ]
  },
  {
   "cell_type": "code",
   "execution_count": 88,
   "metadata": {},
   "outputs": [
    {
     "name": "stdout",
     "output_type": "stream",
     "text": [
      "[1] 1 3 5 7 9\n",
      "\n",
      "[1] 1\n",
      "[1] 3\n",
      "[1] 5\n",
      "[1] 7\n",
      "[1] 9\n"
     ]
    }
   ],
   "source": [
    "# Generate integer sequence using seq.int\n",
    "# seq.int(1,10,2) returns a vector starting from 1, stopping at/before 10, and increasing by 2\n",
    "all_x <- seq.int(1,10,2)\n",
    "print(all_x)\n",
    "\n",
    "cat(\"\\n\")\n",
    "\n",
    "# Start the for loop\n",
    "for (x in all_x){\n",
    "    print(x)\n",
    "}"
   ]
  },
  {
   "cell_type": "markdown",
   "metadata": {},
   "source": [
    "## `break` and `next`"
   ]
  },
  {
   "cell_type": "code",
   "execution_count": 89,
   "metadata": {},
   "outputs": [
    {
     "name": "stdout",
     "output_type": "stream",
     "text": [
      "[1] 1\n",
      "[1] 3\n",
      "[1] 5\n"
     ]
    }
   ],
   "source": [
    "# Start the for loop\n",
    "for (x in all_x){\n",
    "    if (x > median(all_x)){ # Break the loop if x is larger than the median\n",
    "        break\n",
    "    }\n",
    "    print(x)\n",
    "}"
   ]
  },
  {
   "cell_type": "code",
   "execution_count": 90,
   "metadata": {},
   "outputs": [
    {
     "name": "stdout",
     "output_type": "stream",
     "text": [
      "[1] 1\n",
      "[1] 5\n",
      "[1] 7\n",
      "[1] 9\n"
     ]
    }
   ],
   "source": [
    "# Start the for loop\n",
    "for (x in all_x){\n",
    "    if (x == all_x[2]){ # Skip the iteration if x is equal to all_x[2]\n",
    "        next\n",
    "    }\n",
    "    print(x)\n",
    "}"
   ]
  },
  {
   "cell_type": "markdown",
   "metadata": {},
   "source": [
    "# Functions"
   ]
  },
  {
   "cell_type": "markdown",
   "metadata": {},
   "source": [
    "## Define a Function"
   ]
  },
  {
   "cell_type": "code",
   "execution_count": 91,
   "metadata": {},
   "outputs": [
    {
     "name": "stdout",
     "output_type": "stream",
     "text": [
      "[1] 3\n",
      "[1] 6\n",
      "[1] 9\n",
      "[1] 12\n"
     ]
    }
   ],
   "source": [
    "# Define a function doing addition and print\n",
    "add_and_print <- function(x1, x2){\n",
    "    y <- x1 + x2\n",
    "    print(y)\n",
    "}\n",
    "\n",
    "# Here we call the function in the loop\n",
    "for (i in 1:4){\n",
    "    add_and_print(i,2*i)\n",
    "}"
   ]
  },
  {
   "cell_type": "markdown",
   "metadata": {},
   "source": [
    "## `return` Statement"
   ]
  },
  {
   "cell_type": "code",
   "execution_count": 92,
   "metadata": {},
   "outputs": [
    {
     "name": "stdout",
     "output_type": "stream",
     "text": [
      "[1] 3\n",
      "[1] 6\n",
      "[1] 9\n",
      "[1] 12\n"
     ]
    }
   ],
   "source": [
    "# Define a function doing addition and **return**\n",
    "add_and_print <- function(x1, x2){\n",
    "    y <- x1 + x2\n",
    "    return(y)\n",
    "}\n",
    "\n",
    "# Here we print the return of the called function in the loop\n",
    "for (i in 1:4){\n",
    "    print(add_and_print(i,2*i))\n",
    "}"
   ]
  }
 ],
 "metadata": {
  "kernelspec": {
   "display_name": "R",
   "language": "R",
   "name": "ir"
  },
  "language_info": {
   "codemirror_mode": "r",
   "file_extension": ".r",
   "mimetype": "text/x-r-source",
   "name": "R",
   "pygments_lexer": "r",
   "version": "4.0.1"
  }
 },
 "nbformat": 4,
 "nbformat_minor": 4
}
